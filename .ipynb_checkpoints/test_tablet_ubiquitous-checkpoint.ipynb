{
 "cells": [
  {
   "cell_type": "code",
   "execution_count": 9,
   "id": "dd843764",
   "metadata": {},
   "outputs": [],
   "source": [
    "import numpy as np\n",
    "import matplotlib.pyplot as plt\n",
    "import pandas as pd\n",
    "import seaborn as sns\n",
    "import random\n",
    "import math"
   ]
  },
  {
   "cell_type": "code",
   "execution_count": 10,
   "id": "da0f23ad",
   "metadata": {},
   "outputs": [],
   "source": [
    "sims = 1000000\n",
    "pv = 1000\n",
    "x_bar = 0.07\n",
    "st_dev = 0.10\n",
    "years = 12"
   ]
  },
  {
   "cell_type": "code",
   "execution_count": 19,
   "id": "7de5f441",
   "metadata": {},
   "outputs": [],
   "source": [
    "returns = pv * ((1 + np.random.normal(x_bar, st_dev, sims))** years)"
   ]
  },
  {
   "cell_type": "code",
   "execution_count": 20,
   "id": "e29c0208",
   "metadata": {},
   "outputs": [],
   "source": [
    "avg_returns = np.mean(returns)"
   ]
  },
  {
   "cell_type": "code",
   "execution_count": 21,
   "id": "11e5ff53",
   "metadata": {},
   "outputs": [
    {
     "name": "stdout",
     "output_type": "stream",
     "text": [
      "The expected value of the investment is $3,828.96.\n"
     ]
    }
   ],
   "source": [
    "print(f\"The expected value of the investment is ${avg_returns:,.2f}.\")"
   ]
  }
 ],
 "metadata": {
  "kernelspec": {
   "display_name": "Python 3 (ipykernel)",
   "language": "python",
   "name": "python3"
  },
  "language_info": {
   "codemirror_mode": {
    "name": "ipython",
    "version": 3
   },
   "file_extension": ".py",
   "mimetype": "text/x-python",
   "name": "python",
   "nbconvert_exporter": "python",
   "pygments_lexer": "ipython3",
   "version": "3.8.19"
  }
 },
 "nbformat": 4,
 "nbformat_minor": 5
}
