{
 "cells": [
  {
   "cell_type": "code",
   "execution_count": 3,
   "id": "03fc53c0",
   "metadata": {},
   "outputs": [],
   "source": [
    "import sympy as sp\n",
    "import numpy as np\n",
    "import matplotlib.pyplot as plt"
   ]
  },
  {
   "cell_type": "markdown",
   "id": "811ca183",
   "metadata": {},
   "source": [
    "Solve the quadratic equation $x^2-5x+6=0$."
   ]
  },
  {
   "cell_type": "code",
   "execution_count": 8,
   "id": "eb98ee9c",
   "metadata": {},
   "outputs": [
    {
     "data": {
      "text/plain": [
       "[2, 3]"
      ]
     },
     "execution_count": 8,
     "metadata": {},
     "output_type": "execute_result"
    }
   ],
   "source": [
    "# define variable\n",
    "x = sp.symbols('x')\n",
    "\n",
    "# define the equation\n",
    "eq = sp.Eq(x**2 - 5*x + 6, 0)\n",
    "\n",
    "# solve the equation\n",
    "solution = sp.solve(eq, x)\n",
    "\n",
    "# solution\n",
    "solution"
   ]
  },
  {
   "cell_type": "markdown",
   "id": "f07f10ef",
   "metadata": {},
   "source": [
    "Solve the system of linear equations for $x$ and $y$: $2x+3y=12$ and $3x-4y=-5$."
   ]
  },
  {
   "cell_type": "code",
   "execution_count": 12,
   "id": "91b85bbb",
   "metadata": {},
   "outputs": [
    {
     "data": {
      "text/plain": [
       "{x: 33/17, y: 46/17}"
      ]
     },
     "execution_count": 12,
     "metadata": {},
     "output_type": "execute_result"
    }
   ],
   "source": [
    "# define the variable\n",
    "x, y = sp.symbols('x y')\n",
    "\n",
    "# define the equations\n",
    "eq_1 = sp.Eq(2*x + 3*y, 12)\n",
    "eq_2 = sp.Eq(3*x - 4*y, -5)\n",
    "\n",
    "# solve the equations\n",
    "solutions = sp.solve((eq_1, eq_2), (x, y))\n",
    "\n",
    "# solutions\n",
    "solutions"
   ]
  },
  {
   "cell_type": "markdown",
   "id": "22dec70f",
   "metadata": {},
   "source": [
    "Solve the following cubic equation for $x$: $x^3-6x^2+11x-6=0$."
   ]
  },
  {
   "cell_type": "code",
   "execution_count": 14,
   "id": "6a8a774f",
   "metadata": {},
   "outputs": [
    {
     "data": {
      "text/plain": [
       "[1, 2, 3]"
      ]
     },
     "execution_count": 14,
     "metadata": {},
     "output_type": "execute_result"
    }
   ],
   "source": [
    "# define the variables\n",
    "x = sp.symbols('x')\n",
    "\n",
    "# define the equation\n",
    "eq_cubic = sp.Eq(x**3 - 6*x**2 + 11*x - 6, 0)\n",
    "\n",
    "# find the solution\n",
    "sol_cube = sp.solve(eq_cubic, x)\n",
    "\n",
    "# solution\n",
    "sol_cube"
   ]
  },
  {
   "cell_type": "markdown",
   "id": "9e04f655",
   "metadata": {},
   "source": [
    "Derivatives: $x^3+2x^2+3x+1$."
   ]
  },
  {
   "cell_type": "code",
   "execution_count": 18,
   "id": "746781f5",
   "metadata": {},
   "outputs": [
    {
     "name": "stdout",
     "output_type": "stream",
     "text": [
      "3 x^{2} + 4 x + 3\n"
     ]
    }
   ],
   "source": [
    "from sympy import latex\n",
    "\n",
    "# define the variable\n",
    "x = sp.symbols('x')\n",
    "\n",
    "# define the equation\n",
    "deriv_1 = x**3 + 2*x**2 + 3*x + 1\n",
    "\n",
    "# derivative\n",
    "dfdx_1 = sp.diff(deriv_1, x)\n",
    "\n",
    "latx_dfdx_1 = latex(dfdx_1)\n",
    "\n",
    "print(latx_dfdx_1)"
   ]
  },
  {
   "cell_type": "code",
   "execution_count": null,
   "id": "5e39c505",
   "metadata": {},
   "outputs": [],
   "source": []
  }
 ],
 "metadata": {
  "kernelspec": {
   "display_name": "Python 3 (ipykernel)",
   "language": "python",
   "name": "python3"
  },
  "language_info": {
   "codemirror_mode": {
    "name": "ipython",
    "version": 3
   },
   "file_extension": ".py",
   "mimetype": "text/x-python",
   "name": "python",
   "nbconvert_exporter": "python",
   "pygments_lexer": "ipython3",
   "version": "3.8.19"
  }
 },
 "nbformat": 4,
 "nbformat_minor": 5
}
