{
 "cells": [
  {
   "cell_type": "code",
   "execution_count": 2,
   "id": "8d3fe64e",
   "metadata": {},
   "outputs": [],
   "source": [
    "import pandas as pd\n",
    "import numpy as np\n",
    "import matplotlib.pyplot as plt\n",
    "import seaborn as sns\n",
    "import math\n",
    "import random"
   ]
  },
  {
   "cell_type": "markdown",
   "id": "3aff1095",
   "metadata": {},
   "source": [
    "# Lecture 1: The Operations Research Superhighway"
   ]
  },
  {
   "cell_type": "markdown",
   "id": "283a3b5a",
   "metadata": {},
   "source": [
    "**Operations research** is an umbrella term that encompasses many powerful techniques. Operations research applies a variety of mathematical techniques to real-world problems. It leverages those techniques by taking advantage of today’s computational power. And, if successful, it comes up with an implementation strategy to make the situation better. This course is about some of the most important and most widely applicable ways that that gets done: through predictive **models** and mathematical **optimization**."
   ]
  },
  {
   "cell_type": "markdown",
   "id": "b43a8f20",
   "metadata": {},
   "source": [
    "In broad terms, **predictive models** allow us to take what we already know about the behavior of a system and use it to predict how that system will behave in new circumstances. Often, what we know about a system comes from its historical behavior, and we want to extrapolate from that.\n",
    "\n",
    "Sometimes, it’s not history that allows us to make predictions but, instead, what we know about how the pieces of the system fit together.  **Complex** behavior can **emerge** from the interaction of even simple parts.  From there, we can investigate the possibilities--and probabilities."
   ]
  },
  {
   "cell_type": "markdown",
   "id": "95219cf2",
   "metadata": {},
   "source": [
    "But making informed predictions is only half of what this course is about. We’ll also be looking closely at **optimization** and the tools to accomplish it.  Optimization means finding the best answer possible to a problem. And the situation can change before the best answer that you found has to be scrapped. There are a variety of optimization techniques, and some optimization questions are much harder to solve than others."
   ]
  },
  {
   "cell_type": "markdown",
   "id": "35d5a88f",
   "metadata": {},
   "source": [
    "**Process**:\n",
    "- What are we trying to accomplish?\n",
    "- Collect data that are relevant to the problem\n",
    "- Translated problem in English to mathematics (abstraction), allowing for unparalleled precision and stunning economy"
   ]
  },
  {
   "cell_type": "markdown",
   "id": "857100d7",
   "metadata": {},
   "source": [
    "**Models**:\n",
    "- Stochastic\n",
    "- Deterministic (in OR, optimization)"
   ]
  },
  {
   "cell_type": "markdown",
   "id": "7dbde701",
   "metadata": {},
   "source": [
    "**Tools**:\n",
    "- Calculus (can help find peaks and troughs, but can be useless for linear functions)\n",
    "- Linear Programming"
   ]
  },
  {
   "cell_type": "markdown",
   "id": "2ea904f1",
   "metadata": {},
   "source": [
    "**Key Terms**:\n",
    "- **derivative**: The derivative of a function is itself a function, one that essentially specifies the slope of the original function at each point at which it is defined.  For functions of more than one variable, the concept of a derivative is captured by the vector quantity of the gradient.\n",
    "- **deterministic**: Involving no random elements.  For a deterministic problem, the same inputs always generate the same outputs.  Contrast to **stochastic**.\n",
    "- **model**: A simplified representation of a situation that captures the key elements of the situation and the relationships among those elements.\n",
    "- **Moore's law**: Formulated by Intel founder Gordon Moore in 1965, it is the prediction that the number of transistors on an integrated circuit doubles roughly every two years.  To date, it's been remarkably accurate.\n",
    "- **operations research**: The general term for the application of quantitative techniques to find good or optimal solutions to real-world problems.  Often called operational research in the United Kingdom.  When applied to business problems, it may be referred to as management science, business analytics, or quantitative management.\n",
    "- **optimization**: Finding the best answer to a given problem.  The best answer is termed \"optimal.\"\n",
    "- **optimum**: The best answer.  The best answer among all possible solutions is a global optimum.  An answer that is the best of all points in its immediate vicinity is a local optimum.  Thus, in considering the heights of points in a mountain range, each mountain peak is a local maximum, but the top of the tallest mountain is the global maximum.\n",
    "- **stochastic**: Involving random elements.  Identical inputs may generate differing outputs.  Contrast to **deterministic**."
   ]
  },
  {
   "cell_type": "code",
   "execution_count": null,
   "id": "076241ea",
   "metadata": {},
   "outputs": [],
   "source": []
  }
 ],
 "metadata": {
  "kernelspec": {
   "display_name": "Python 3 (ipykernel)",
   "language": "python",
   "name": "python3"
  },
  "language_info": {
   "codemirror_mode": {
    "name": "ipython",
    "version": 3
   },
   "file_extension": ".py",
   "mimetype": "text/x-python",
   "name": "python",
   "nbconvert_exporter": "python",
   "pygments_lexer": "ipython3",
   "version": "3.9.13"
  }
 },
 "nbformat": 4,
 "nbformat_minor": 5
}
