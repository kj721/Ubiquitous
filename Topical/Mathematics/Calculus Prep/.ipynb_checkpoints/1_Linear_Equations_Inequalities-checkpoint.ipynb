{
 "cells": [
  {
   "cell_type": "markdown",
   "id": "3638ba06-5c7d-482b-815f-8068472d31ba",
   "metadata": {},
   "source": [
    "#### See Notability Mathematics/Calculus/Calculus Prep..."
   ]
  },
  {
   "cell_type": "markdown",
   "id": "71256d40-04c6-46ad-823a-3b11031cceb5",
   "metadata": {},
   "source": [
    "# Linear Equations and Inequalities"
   ]
  },
  {
   "cell_type": "markdown",
   "id": "6ea190fa-8083-4690-adfb-63840ef5fdc0",
   "metadata": {},
   "source": [
    "## Linear Geometry"
   ]
  },
  {
   "cell_type": "code",
   "execution_count": 1,
   "id": "efdf520d-eaf7-4d48-ba4a-73fadaabd018",
   "metadata": {},
   "outputs": [],
   "source": [
    "import sympy as sp"
   ]
  },
  {
   "cell_type": "markdown",
   "id": "b1fa0d30-96ee-4178-a748-a6081cee3585",
   "metadata": {},
   "source": [
    "Solve the equation: $3x-(x-7)=4x-5$"
   ]
  },
  {
   "cell_type": "code",
   "execution_count": 7,
   "id": "8a5725f4-1c5d-4e46-aea3-a92c51348afb",
   "metadata": {},
   "outputs": [
    {
     "data": {
      "text/plain": [
       "[6]"
      ]
     },
     "execution_count": 7,
     "metadata": {},
     "output_type": "execute_result"
    }
   ],
   "source": [
    "# define the variable\n",
    "x_1 = sp.symbols('x')\n",
    "\n",
    "# define the equation\n",
    "equation_1 = sp.Eq(3*x - (x-7), 4*x - 5)\n",
    "\n",
    "# solve the equation\n",
    "solution_1 = sp.solve(equation_1, x_1)\n",
    "\n",
    "# output the solution\n",
    "solution_1"
   ]
  },
  {
   "cell_type": "markdown",
   "id": "a24b9316-c393-497d-b221-fcd284b1703a",
   "metadata": {},
   "source": [
    "Calculate the slope, $m$, of the line $4x-3y-9$."
   ]
  },
  {
   "cell_type": "code",
   "execution_count": 8,
   "id": "04bcec90-9dca-452e-8801-1b4be290bd89",
   "metadata": {},
   "outputs": [
    {
     "data": {
      "text/latex": [
       "$\\displaystyle \\frac{4}{3}$"
      ],
      "text/plain": [
       "4/3"
      ]
     },
     "execution_count": 8,
     "metadata": {},
     "output_type": "execute_result"
    }
   ],
   "source": [
    "# define the variables\n",
    "x_2, y_2 = sp.symbols('x y')\n",
    "\n",
    "# define the equation of the line\n",
    "equation_2 = sp.Eq(4*x - 3*y - 9, 0)\n",
    "\n",
    "# solve the equation for y (rearrange into y = mx + b form)\n",
    "slope_intercept_form_2 = sp.solve(equation_2, y_2)\n",
    "\n",
    "# extract the slope (coefficient of x)\n",
    "slope_2 = slope_intercept_form_2[0].coeff(x)\n",
    "\n",
    "# output the slope\n",
    "slope_2"
   ]
  },
  {
   "cell_type": "markdown",
   "id": "6f499511-4b12-4618-98f4-2221b8e89b5a",
   "metadata": {},
   "source": [
    "Prove that the slope of a line in standard form, $Ax+By-C$, is $-\\frac{A}{B}$."
   ]
  },
  {
   "cell_type": "code",
   "execution_count": 13,
   "id": "261842ef-3f2a-4420-b3a4-4e89bd7c0a17",
   "metadata": {},
   "outputs": [
    {
     "data": {
      "text/plain": [
       "([(-A_3*x_3 + C_3)/B_3], 0)"
      ]
     },
     "execution_count": 13,
     "metadata": {},
     "output_type": "execute_result"
    }
   ],
   "source": [
    "# Define the variables, and the coefficients\n",
    "x_3, y_3, A_3, B_3, C_3 = sp.symbols('x_3 y_3 A_3 B_3 C_3')\n",
    "\n",
    "# Define the equation of the line in standard form\n",
    "equation_3 = sp.Eq(A_3*x_3 + B_3*y_3 - C_3, 0)\n",
    "\n",
    "# Solve for y to convert to slope-intercept form\n",
    "slope_intercept_form_3 = sp.solve(equation_3, y_3)\n",
    "\n",
    "# Extract the slope (coefficient of x)\n",
    "slope_3 = slope_intercept_form_3[0].coeff(x_3)\n",
    "\n",
    "# Output the rearranged equation and the slope\n",
    "slope_intercept_form_3, slope_3"
   ]
  },
  {
   "cell_type": "code",
   "execution_count": null,
   "id": "9d89f3cf-8942-4ef0-b3a4-97868389f8a7",
   "metadata": {},
   "outputs": [],
   "source": []
  }
 ],
 "metadata": {
  "kernelspec": {
   "display_name": "Python 3 (ipykernel)",
   "language": "python",
   "name": "python3"
  },
  "language_info": {
   "codemirror_mode": {
    "name": "ipython",
    "version": 3
   },
   "file_extension": ".py",
   "mimetype": "text/x-python",
   "name": "python",
   "nbconvert_exporter": "python",
   "pygments_lexer": "ipython3",
   "version": "3.11.7"
  }
 },
 "nbformat": 4,
 "nbformat_minor": 5
}
