{
 "cells": [
  {
   "cell_type": "markdown",
   "id": "f7d02ab4-a940-4ec7-aacd-4af30654ec0b",
   "metadata": {},
   "source": [
    "# Mathematical Functions"
   ]
  },
  {
   "cell_type": "markdown",
   "id": "02041979-589f-4065-ac5a-4187884ffa60",
   "metadata": {},
   "source": [
    "## Linear Functions\n",
    "\n",
    "Form: $f(x)=mx+b$\n",
    "Examples:\n",
    "- Hourly wage: $f(hours)=20x$\n",
    "- Vaccine cost per person (fixed + variable): $f(x)=2x+5000$\n",
    "- Total revenue in stable markets: $R(q)=pq$\n",
    "- Cost of outreach in LICs: $c(villages)=300v+10000$"
   ]
  },
  {
   "cell_type": "code",
   "execution_count": null,
   "id": "d888603a-1db3-41e0-993d-cdd0453cd49e",
   "metadata": {},
   "outputs": [],
   "source": [
    "# hourly wage\n",
    "wage = 15\n",
    "hours = "
   ]
  }
 ],
 "metadata": {
  "kernelspec": {
   "display_name": "Python 3 (ipykernel)",
   "language": "python",
   "name": "python3"
  },
  "language_info": {
   "codemirror_mode": {
    "name": "ipython",
    "version": 3
   },
   "file_extension": ".py",
   "mimetype": "text/x-python",
   "name": "python",
   "nbconvert_exporter": "python",
   "pygments_lexer": "ipython3",
   "version": "3.12.7"
  }
 },
 "nbformat": 4,
 "nbformat_minor": 5
}
