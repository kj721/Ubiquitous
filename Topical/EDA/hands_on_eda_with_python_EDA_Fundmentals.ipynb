{
 "cells": [
  {
   "cell_type": "markdown",
   "id": "f6282cd4-0f27-4f84-9679-d763db3c87f9",
   "metadata": {},
   "source": [
    "# Introductory Material"
   ]
  },
  {
   "cell_type": "markdown",
   "id": "700c4aed-4978-4733-9525-62298cee0588",
   "metadata": {},
   "source": [
    "Data encompasses a collection of discrete objects, numbers, words, events, facts, measurements, observations, or even descriptions of things.\n",
    "\n",
    "## Making Sense of Data\n",
    "- Numerical Data\n",
    "> Discrete Data\n",
    "> \n",
    "> Continuous Data\n",
    "- Categorical Data\n",
    "> Dichotomous Variable\n",
    ">\n",
    "> Polytomous Variable\n",
    "- Measurement Scales\n",
    "> Nominal\n",
    "> \n",
    "> Ordinal\n",
    ">\n",
    "> Interval\n",
    ">\n",
    "> Ratio\n",
    "\n",
    "The \"why\" of EDA is to process data so that it becomes information and we can process that information so that it becomes knowledge.\n",
    "\n",
    "EDA fits into a broader set of activities called data analysis.\n",
    "\n",
    "The stages of data analysis are as follows:\n",
    "1. Data requirements\n",
    "2. Data collection\n",
    "3. Data processing\n",
    "4. Data cleaning\n",
    "5. EDA\n",
    "6. Modeling and algorithm\n",
    "7. Data product\n",
    "8. Communication\n",
    "\n",
    "## Primary Aim of EDA\n",
    "To examine what data can tell us before actually going through formal modeling or hypothesis formulation.\n",
    "\n",
    "## Significance of EDA\n",
    "EDA reveals the ground truth about the content without making any underlying assumptions.\n",
    "\n",
    "## Steps in EDA\n",
    "1. Problem definition\n",
    "2. Data preparation\n",
    "3. Data analysis\n",
    "4. Development and representation of results\n",
    "\n",
    "## Activities of EDA\n",
    "- Discover patterns\n",
    "- Spot anomalies\n",
    "- Test hypotheses\n",
    "- Check assumptions using statistical measures"
   ]
  },
  {
   "cell_type": "code",
   "execution_count": 73,
   "id": "7a1ac489",
   "metadata": {},
   "outputs": [],
   "source": [
    "import pandas as pd\n",
    "import numpy as np\n",
    "import matplotlib.pyplot as plt\n",
    "import seaborn as sns"
   ]
  },
  {
   "cell_type": "markdown",
   "id": "d063344c-f166-4130-80ba-dab23c7a25b5",
   "metadata": {},
   "source": [
    "# NumPy"
   ]
  },
  {
   "cell_type": "markdown",
   "id": "a453524f-44ee-483c-bb67-3544f672d48c",
   "metadata": {},
   "source": [
    "## For creating different types of NumPy arrays"
   ]
  },
  {
   "cell_type": "code",
   "execution_count": 3,
   "id": "d9bb407a",
   "metadata": {},
   "outputs": [
    {
     "name": "stdout",
     "output_type": "stream",
     "text": [
      "[ 1  8 27 64]\n"
     ]
    }
   ],
   "source": [
    "my1DArray = np.array([1, 8, 27, 64])\n",
    "print(my1DArray)"
   ]
  },
  {
   "cell_type": "code",
   "execution_count": 4,
   "id": "8614171e",
   "metadata": {},
   "outputs": [
    {
     "name": "stdout",
     "output_type": "stream",
     "text": [
      "[[ 1  2  3  4]\n",
      " [ 2  4  9 16]\n",
      " [ 4  8 18 32]]\n"
     ]
    }
   ],
   "source": [
    "my2DArray = np.array([[1, 2, 3, 4], [2, 4, 9, 16], [4, 8, 18, 32]])\n",
    "print(my2DArray)"
   ]
  },
  {
   "cell_type": "code",
   "execution_count": 5,
   "id": "1839482f",
   "metadata": {},
   "outputs": [
    {
     "name": "stdout",
     "output_type": "stream",
     "text": [
      "[[[ 1  2  3  4]\n",
      "  [ 5  6  7  8]]\n",
      "\n",
      " [[ 1  2  3  4]\n",
      "  [ 9 10 11 12]]]\n"
     ]
    }
   ],
   "source": [
    "my3DArray = np.array([[[1, 2, 3, 4], [5, 6, 7, 8]], [[1, 2, 3, 4], [9, 10, 11, 12]]])\n",
    "print(my3DArray)"
   ]
  },
  {
   "cell_type": "markdown",
   "id": "e3627cd6-5771-47f5-a76c-7755cfbe9d47",
   "metadata": {},
   "source": [
    "## For displaying basic information, such as the data type, shape, size, and strides of NumPy array"
   ]
  },
  {
   "cell_type": "code",
   "execution_count": 6,
   "id": "56188940",
   "metadata": {},
   "outputs": [
    {
     "name": "stdout",
     "output_type": "stream",
     "text": [
      "<memory at 0x7fa401336450>\n"
     ]
    }
   ],
   "source": [
    "print(my2DArray.data)"
   ]
  },
  {
   "cell_type": "code",
   "execution_count": 7,
   "id": "05bd930d",
   "metadata": {},
   "outputs": [
    {
     "name": "stdout",
     "output_type": "stream",
     "text": [
      "(3, 4)\n"
     ]
    }
   ],
   "source": [
    "print(my2DArray.shape)"
   ]
  },
  {
   "cell_type": "code",
   "execution_count": 8,
   "id": "9c356b58",
   "metadata": {},
   "outputs": [
    {
     "name": "stdout",
     "output_type": "stream",
     "text": [
      "int64\n"
     ]
    }
   ],
   "source": [
    "print(my2DArray.dtype)"
   ]
  },
  {
   "cell_type": "code",
   "execution_count": 9,
   "id": "20ba7be7",
   "metadata": {},
   "outputs": [
    {
     "name": "stdout",
     "output_type": "stream",
     "text": [
      "(32, 8)\n"
     ]
    }
   ],
   "source": [
    "print(my2DArray.strides)"
   ]
  },
  {
   "cell_type": "code",
   "execution_count": 10,
   "id": "46fdb825-51dc-4e38-a00a-8e5b21e60386",
   "metadata": {},
   "outputs": [
    {
     "name": "stdout",
     "output_type": "stream",
     "text": [
      "(2, 2, 4)\n"
     ]
    }
   ],
   "source": [
    "print(my3DArray.shape)"
   ]
  },
  {
   "cell_type": "markdown",
   "id": "f58d0497",
   "metadata": {},
   "source": [
    "### Strides\n",
    "Strides in NumPy are a way of indexing arrays that specify the number of bytes to jump to find the next element. It's important to know strides when doing computations with arrays because they provide a complete understanding of memory layout.\n",
    "\n",
    "For example, consider a 1D array of 8 numbers (i.e.,). The stride for this array is 8, which means that to find the next element, you need to jump 8 bytes forward in memory.\n",
    "\n",
    "Strides can also be used to index multidimensional arrays. For example, consider a 2D array of 4x4 numbers (i.e., [,,,]). The stride for the first dimension of this array is 32, which means that to find the next element in the first dimension, you need to jump 32 bytes forward in memory. The stride for the second dimension of this array is 8, which means that to find the next element in the second dimension, you need to jump 8 bytes forward in memory.\n",
    "\n",
    "Strides can be used to perform a variety of operations on arrays, such as slicing, indexing, and broadcasting. For example, to slice an array, you can use the stride to specify the number of elements to skip. To index an array, you can use the stride to specify the offset of the element you want to access. To broadcast an array, you can use the stride to specify the shape of the output array."
   ]
  },
  {
   "cell_type": "markdown",
   "id": "acf689e3-0ab4-42ce-834f-4d25ef9de1ce",
   "metadata": {},
   "source": [
    "## For creating an array using built-in NumPy functions"
   ]
  },
  {
   "cell_type": "code",
   "execution_count": 11,
   "id": "2de2c448",
   "metadata": {},
   "outputs": [
    {
     "name": "stdout",
     "output_type": "stream",
     "text": [
      "[[1. 1. 1. 1.]\n",
      " [1. 1. 1. 1.]\n",
      " [1. 1. 1. 1.]]\n"
     ]
    }
   ],
   "source": [
    "ones = np.ones((3,4))\n",
    "print(ones)"
   ]
  },
  {
   "cell_type": "code",
   "execution_count": 12,
   "id": "d9305f26",
   "metadata": {},
   "outputs": [
    {
     "name": "stdout",
     "output_type": "stream",
     "text": [
      "[[[0. 0. 0. 0.]\n",
      "  [0. 0. 0. 0.]\n",
      "  [0. 0. 0. 0.]]\n",
      "\n",
      " [[0. 0. 0. 0.]\n",
      "  [0. 0. 0. 0.]\n",
      "  [0. 0. 0. 0.]]]\n"
     ]
    }
   ],
   "source": [
    "zeros = np.zeros((2,3,4))\n",
    "print(zeros)"
   ]
  },
  {
   "cell_type": "code",
   "execution_count": 13,
   "id": "4a7b2019",
   "metadata": {},
   "outputs": [
    {
     "name": "stdout",
     "output_type": "stream",
     "text": [
      "[[0. 0.]\n",
      " [0. 0.]\n",
      " [0. 0.]]\n"
     ]
    }
   ],
   "source": [
    "emptyArray = np.empty((3,2))\n",
    "print(emptyArray)"
   ]
  },
  {
   "cell_type": "code",
   "execution_count": 14,
   "id": "44fb2e41",
   "metadata": {},
   "outputs": [
    {
     "name": "stdout",
     "output_type": "stream",
     "text": [
      "[[7 7]\n",
      " [7 7]]\n"
     ]
    }
   ],
   "source": [
    "fullArray = np.full((2,2),7)\n",
    "print(fullArray)"
   ]
  },
  {
   "cell_type": "code",
   "execution_count": 15,
   "id": "e4e3ded6",
   "metadata": {},
   "outputs": [
    {
     "name": "stdout",
     "output_type": "stream",
     "text": [
      "[10 15 20]\n"
     ]
    }
   ],
   "source": [
    "evenSpacedArray = np.arange(10,25,5)\n",
    "print(evenSpacedArray)"
   ]
  },
  {
   "cell_type": "code",
   "execution_count": 16,
   "id": "273211af",
   "metadata": {},
   "outputs": [
    {
     "name": "stdout",
     "output_type": "stream",
     "text": [
      "[0.   0.25 0.5  0.75 1.   1.25 1.5  1.75 2.  ]\n"
     ]
    }
   ],
   "source": [
    "evenSpacedArray2 = np.linspace(0,2,9)\n",
    "print(evenSpacedArray2)"
   ]
  },
  {
   "cell_type": "markdown",
   "id": "1b160dcd-033c-4fe2-88aa-0d6bd65b42bd",
   "metadata": {},
   "source": [
    "## For NumPy arrays and file operations"
   ]
  },
  {
   "cell_type": "code",
   "execution_count": 17,
   "id": "74b596bf",
   "metadata": {},
   "outputs": [],
   "source": [
    "# Save a numpy array into file\n",
    "x = np.arange(0.0,50.0,1.0)\n",
    "np.savetxt('data.out', x, delimiter=',')"
   ]
  },
  {
   "cell_type": "code",
   "execution_count": 18,
   "id": "e3ca617d",
   "metadata": {},
   "outputs": [
    {
     "name": "stdout",
     "output_type": "stream",
     "text": [
      "[ 0.  1.  2.  3.  4.  5.  6.  7.  8.  9. 10. 11. 12. 13. 14. 15. 16. 17.\n",
      " 18. 19. 20. 21. 22. 23. 24. 25. 26. 27. 28. 29. 30. 31. 32. 33. 34. 35.\n",
      " 36. 37. 38. 39. 40. 41. 42. 43. 44. 45. 46. 47. 48. 49.]\n"
     ]
    }
   ],
   "source": [
    "# Loading numpy array from text\n",
    "z = np.loadtxt('data.out', unpack=True)\n",
    "print(z)"
   ]
  },
  {
   "cell_type": "code",
   "execution_count": 19,
   "id": "ae4665a5",
   "metadata": {},
   "outputs": [
    {
     "name": "stdout",
     "output_type": "stream",
     "text": [
      "[ 1.  2.  3.  4.  5.  6.  7.  8.  9. 10. 11. 12. 13. 14. 15. 16. 17. 18.\n",
      " 19. 20. 21. 22. 23. 24. 25. 26. 27. 28. 29. 30. 31. 32. 33. 34. 35. 36.\n",
      " 37. 38. 39. 40. 41. 42. 43. 44. 45. 46. 47. 48. 49.]\n"
     ]
    }
   ],
   "source": [
    "# Loading numpy array using genfromtxt method\n",
    "my_array2 = np.genfromtxt('data.out', skip_header=1, filling_values=-999)\n",
    "print(my_array2)"
   ]
  },
  {
   "cell_type": "markdown",
   "id": "ac91c857-ad52-4e5e-a8fd-6c432b643620",
   "metadata": {},
   "source": [
    "## For inspecting NumPy arrays"
   ]
  },
  {
   "cell_type": "code",
   "execution_count": 20,
   "id": "33b95585",
   "metadata": {},
   "outputs": [
    {
     "name": "stdout",
     "output_type": "stream",
     "text": [
      "2\n"
     ]
    }
   ],
   "source": [
    "# print the number of 'my2DArray`'s dimensions\n",
    "print(my2DArray.ndim)"
   ]
  },
  {
   "cell_type": "code",
   "execution_count": 21,
   "id": "f03d7eb8-babc-42c5-9fa4-35aeb23ee899",
   "metadata": {},
   "outputs": [
    {
     "name": "stdout",
     "output_type": "stream",
     "text": [
      "12\n"
     ]
    }
   ],
   "source": [
    "# print the number of `my2DArray`'s elements\n",
    "print(my2DArray.size)"
   ]
  },
  {
   "cell_type": "code",
   "execution_count": 22,
   "id": "b41a8588-cc6f-4861-ab13-427ece17c23f",
   "metadata": {},
   "outputs": [
    {
     "name": "stdout",
     "output_type": "stream",
     "text": [
      "  C_CONTIGUOUS : True\n",
      "  F_CONTIGUOUS : False\n",
      "  OWNDATA : True\n",
      "  WRITEABLE : True\n",
      "  ALIGNED : True\n",
      "  WRITEBACKIFCOPY : False\n",
      "\n"
     ]
    }
   ],
   "source": [
    "# print information about `my2DArray`'s memory layout\n",
    "print(my2DArray.flags)"
   ]
  },
  {
   "cell_type": "code",
   "execution_count": 23,
   "id": "a22c6e92-0cae-4882-a991-18518f2d93eb",
   "metadata": {},
   "outputs": [
    {
     "name": "stdout",
     "output_type": "stream",
     "text": [
      "8\n"
     ]
    }
   ],
   "source": [
    "# print the length of one array element in bytes\n",
    "print(my2DArray.itemsize)"
   ]
  },
  {
   "cell_type": "code",
   "execution_count": 24,
   "id": "7291a762-30ec-44d0-a47a-6bcaf6ff0c5d",
   "metadata": {},
   "outputs": [
    {
     "name": "stdout",
     "output_type": "stream",
     "text": [
      "96\n"
     ]
    }
   ],
   "source": [
    "# print the total consumed bytes by `my2DArray`'s elements\n",
    "print(my2DArray.nbytes)"
   ]
  },
  {
   "cell_type": "markdown",
   "id": "82c98f19-650b-47c9-9c26-23d675b6b376",
   "metadata": {},
   "source": [
    "## Broadcasting is a mechanism that permits NumPy to operate with arrays of different shapes when performing arithmetic operations"
   ]
  },
  {
   "cell_type": "code",
   "execution_count": 25,
   "id": "3d03b857-15f2-4310-82f5-89cc38ac3de8",
   "metadata": {},
   "outputs": [
    {
     "name": "stdout",
     "output_type": "stream",
     "text": [
      "(6, 8)\n"
     ]
    }
   ],
   "source": [
    "# Rule 1: Two dimensions are operatable if they are equal\n",
    "# Create an array of two dimensions\n",
    "A = np.ones((6, 8))\n",
    "# Shape of A\n",
    "print(A.shape)"
   ]
  },
  {
   "cell_type": "code",
   "execution_count": 26,
   "id": "439d16ca-f460-41f3-a13d-f9ca3fb6c74f",
   "metadata": {},
   "outputs": [
    {
     "name": "stdout",
     "output_type": "stream",
     "text": [
      "(6, 8)\n"
     ]
    }
   ],
   "source": [
    "# Create another array\n",
    "B = np.random.random((6, 8))\n",
    "# Shape of B\n",
    "print(B.shape)"
   ]
  },
  {
   "cell_type": "code",
   "execution_count": 27,
   "id": "b522585f-245d-421d-97d5-4c193318e29e",
   "metadata": {},
   "outputs": [
    {
     "name": "stdout",
     "output_type": "stream",
     "text": [
      "[[1.11695207 1.23613529 1.42770547 1.28249983 1.77300434 1.16111793\n",
      "  1.97118603 1.95167633]\n",
      " [1.37845491 1.04683873 1.54297138 1.13707935 1.59711756 1.45246577\n",
      "  1.90547689 1.09253575]\n",
      " [1.13460759 1.5476109  1.55691592 1.95216007 1.02479364 1.37148834\n",
      "  1.30444185 1.67932041]\n",
      " [1.05771197 1.75828092 1.05480353 1.21312451 1.23095423 1.04024695\n",
      "  1.50225639 1.3218552 ]\n",
      " [1.51549101 1.41829716 1.49857709 1.80009802 1.10280446 1.98321045\n",
      "  1.89613249 1.1998268 ]\n",
      " [1.62178877 1.13539284 1.08381112 1.31198673 1.65846805 1.94699439\n",
      "  1.19615047 1.87987499]]\n"
     ]
    }
   ],
   "source": [
    "# Sum of A and B, here the shape of both matrices is the same\n",
    "print(A+B)"
   ]
  },
  {
   "cell_type": "code",
   "execution_count": 28,
   "id": "15d4e852-8efb-4ecc-a2a1-0b19f939c94f",
   "metadata": {},
   "outputs": [
    {
     "name": "stdout",
     "output_type": "stream",
     "text": [
      "[[1. 1. 1. 1.]\n",
      " [1. 1. 1. 1.]\n",
      " [1. 1. 1. 1.]]\n"
     ]
    }
   ],
   "source": [
    "# Rule 2: Two dimensions are also compatible when one of the dimensions of the array is 1. \n",
    "# Initialize `x`\n",
    "x = np.ones((3, 4))\n",
    "print(x)"
   ]
  },
  {
   "cell_type": "code",
   "execution_count": 29,
   "id": "449d3a18-5a89-4fcc-af59-d77766be3c92",
   "metadata": {},
   "outputs": [
    {
     "name": "stdout",
     "output_type": "stream",
     "text": [
      "(3, 4)\n"
     ]
    }
   ],
   "source": [
    "# Check shape of `x`\n",
    "print(x.shape)"
   ]
  },
  {
   "cell_type": "code",
   "execution_count": 30,
   "id": "b0101a83-bb21-4eb3-92a4-2fd9cb6f37a0",
   "metadata": {},
   "outputs": [
    {
     "name": "stdout",
     "output_type": "stream",
     "text": [
      "[0 1 2 3]\n"
     ]
    }
   ],
   "source": [
    "# Initialize `y`\n",
    "y = np.arange(4)\n",
    "print(y)"
   ]
  },
  {
   "cell_type": "code",
   "execution_count": 31,
   "id": "48693580-bc42-47ff-b28d-34f3d9e21bf1",
   "metadata": {},
   "outputs": [
    {
     "name": "stdout",
     "output_type": "stream",
     "text": [
      "(4,)\n"
     ]
    }
   ],
   "source": [
    "# Check shape of `y`\n",
    "print(y.shape)"
   ]
  },
  {
   "cell_type": "code",
   "execution_count": 32,
   "id": "df391647-66ac-4db9-9246-8d10cb39ec02",
   "metadata": {},
   "outputs": [
    {
     "name": "stdout",
     "output_type": "stream",
     "text": [
      "[[ 1.  0. -1. -2.]\n",
      " [ 1.  0. -1. -2.]\n",
      " [ 1.  0. -1. -2.]]\n"
     ]
    }
   ],
   "source": [
    "# Subtract `x` and `y`\n",
    "print(x - y)"
   ]
  },
  {
   "cell_type": "code",
   "execution_count": 33,
   "id": "ee24cdde-1bb2-4021-b2df-970c0233d43e",
   "metadata": {},
   "outputs": [
    {
     "name": "stdout",
     "output_type": "stream",
     "text": [
      "[[[1.30525452 1.95203257 1.77421897 1.02667771 1.39013186 1.12003725\n",
      "   1.86543265 1.4899271 ]\n",
      "  [1.30525452 1.95203257 1.77421897 1.02667771 1.39013186 1.12003725\n",
      "   1.86543265 1.4899271 ]\n",
      "  [1.30525452 1.95203257 1.77421897 1.02667771 1.39013186 1.12003725\n",
      "   1.86543265 1.4899271 ]\n",
      "  [1.30525452 1.95203257 1.77421897 1.02667771 1.39013186 1.12003725\n",
      "   1.86543265 1.4899271 ]\n",
      "  [1.30525452 1.95203257 1.77421897 1.02667771 1.39013186 1.12003725\n",
      "   1.86543265 1.4899271 ]\n",
      "  [1.30525452 1.95203257 1.77421897 1.02667771 1.39013186 1.12003725\n",
      "   1.86543265 1.4899271 ]]\n",
      "\n",
      " [[1.22624473 1.58327198 1.711515   1.57837642 1.68675302 1.47595048\n",
      "   1.21712565 1.6796771 ]\n",
      "  [1.22624473 1.58327198 1.711515   1.57837642 1.68675302 1.47595048\n",
      "   1.21712565 1.6796771 ]\n",
      "  [1.22624473 1.58327198 1.711515   1.57837642 1.68675302 1.47595048\n",
      "   1.21712565 1.6796771 ]\n",
      "  [1.22624473 1.58327198 1.711515   1.57837642 1.68675302 1.47595048\n",
      "   1.21712565 1.6796771 ]\n",
      "  [1.22624473 1.58327198 1.711515   1.57837642 1.68675302 1.47595048\n",
      "   1.21712565 1.6796771 ]\n",
      "  [1.22624473 1.58327198 1.711515   1.57837642 1.68675302 1.47595048\n",
      "   1.21712565 1.6796771 ]]\n",
      "\n",
      " [[1.88952886 1.06748133 1.42303444 1.38962691 1.42463762 1.71826067\n",
      "   1.0624351  1.79282319]\n",
      "  [1.88952886 1.06748133 1.42303444 1.38962691 1.42463762 1.71826067\n",
      "   1.0624351  1.79282319]\n",
      "  [1.88952886 1.06748133 1.42303444 1.38962691 1.42463762 1.71826067\n",
      "   1.0624351  1.79282319]\n",
      "  [1.88952886 1.06748133 1.42303444 1.38962691 1.42463762 1.71826067\n",
      "   1.0624351  1.79282319]\n",
      "  [1.88952886 1.06748133 1.42303444 1.38962691 1.42463762 1.71826067\n",
      "   1.0624351  1.79282319]\n",
      "  [1.88952886 1.06748133 1.42303444 1.38962691 1.42463762 1.71826067\n",
      "   1.0624351  1.79282319]]\n",
      "\n",
      " [[1.71221967 1.28884649 1.54628547 1.28941244 1.98478494 1.35019734\n",
      "   1.19961883 1.59325292]\n",
      "  [1.71221967 1.28884649 1.54628547 1.28941244 1.98478494 1.35019734\n",
      "   1.19961883 1.59325292]\n",
      "  [1.71221967 1.28884649 1.54628547 1.28941244 1.98478494 1.35019734\n",
      "   1.19961883 1.59325292]\n",
      "  [1.71221967 1.28884649 1.54628547 1.28941244 1.98478494 1.35019734\n",
      "   1.19961883 1.59325292]\n",
      "  [1.71221967 1.28884649 1.54628547 1.28941244 1.98478494 1.35019734\n",
      "   1.19961883 1.59325292]\n",
      "  [1.71221967 1.28884649 1.54628547 1.28941244 1.98478494 1.35019734\n",
      "   1.19961883 1.59325292]]\n",
      "\n",
      " [[1.70410368 1.84614893 1.17705458 1.88983319 1.33330392 1.73202902\n",
      "   1.42136014 1.01385157]\n",
      "  [1.70410368 1.84614893 1.17705458 1.88983319 1.33330392 1.73202902\n",
      "   1.42136014 1.01385157]\n",
      "  [1.70410368 1.84614893 1.17705458 1.88983319 1.33330392 1.73202902\n",
      "   1.42136014 1.01385157]\n",
      "  [1.70410368 1.84614893 1.17705458 1.88983319 1.33330392 1.73202902\n",
      "   1.42136014 1.01385157]\n",
      "  [1.70410368 1.84614893 1.17705458 1.88983319 1.33330392 1.73202902\n",
      "   1.42136014 1.01385157]\n",
      "  [1.70410368 1.84614893 1.17705458 1.88983319 1.33330392 1.73202902\n",
      "   1.42136014 1.01385157]]\n",
      "\n",
      " [[1.03015377 1.02753103 1.92167796 1.58701595 1.53079003 1.2368273\n",
      "   1.44756906 1.50345395]\n",
      "  [1.03015377 1.02753103 1.92167796 1.58701595 1.53079003 1.2368273\n",
      "   1.44756906 1.50345395]\n",
      "  [1.03015377 1.02753103 1.92167796 1.58701595 1.53079003 1.2368273\n",
      "   1.44756906 1.50345395]\n",
      "  [1.03015377 1.02753103 1.92167796 1.58701595 1.53079003 1.2368273\n",
      "   1.44756906 1.50345395]\n",
      "  [1.03015377 1.02753103 1.92167796 1.58701595 1.53079003 1.2368273\n",
      "   1.44756906 1.50345395]\n",
      "  [1.03015377 1.02753103 1.92167796 1.58701595 1.53079003 1.2368273\n",
      "   1.44756906 1.50345395]]\n",
      "\n",
      " [[1.18882536 1.11858259 1.05380374 1.21362738 1.99406218 1.70953341\n",
      "   1.92988541 1.74879564]\n",
      "  [1.18882536 1.11858259 1.05380374 1.21362738 1.99406218 1.70953341\n",
      "   1.92988541 1.74879564]\n",
      "  [1.18882536 1.11858259 1.05380374 1.21362738 1.99406218 1.70953341\n",
      "   1.92988541 1.74879564]\n",
      "  [1.18882536 1.11858259 1.05380374 1.21362738 1.99406218 1.70953341\n",
      "   1.92988541 1.74879564]\n",
      "  [1.18882536 1.11858259 1.05380374 1.21362738 1.99406218 1.70953341\n",
      "   1.92988541 1.74879564]\n",
      "  [1.18882536 1.11858259 1.05380374 1.21362738 1.99406218 1.70953341\n",
      "   1.92988541 1.74879564]]\n",
      "\n",
      " [[1.29334587 1.51281885 1.8818471  1.23434474 1.60265922 1.13620108\n",
      "   1.30737292 1.86839595]\n",
      "  [1.29334587 1.51281885 1.8818471  1.23434474 1.60265922 1.13620108\n",
      "   1.30737292 1.86839595]\n",
      "  [1.29334587 1.51281885 1.8818471  1.23434474 1.60265922 1.13620108\n",
      "   1.30737292 1.86839595]\n",
      "  [1.29334587 1.51281885 1.8818471  1.23434474 1.60265922 1.13620108\n",
      "   1.30737292 1.86839595]\n",
      "  [1.29334587 1.51281885 1.8818471  1.23434474 1.60265922 1.13620108\n",
      "   1.30737292 1.86839595]\n",
      "  [1.29334587 1.51281885 1.8818471  1.23434474 1.60265922 1.13620108\n",
      "   1.30737292 1.86839595]]\n",
      "\n",
      " [[1.15692474 1.79456735 1.20879177 1.01563858 1.69819837 1.69246187\n",
      "   1.11434726 1.81445046]\n",
      "  [1.15692474 1.79456735 1.20879177 1.01563858 1.69819837 1.69246187\n",
      "   1.11434726 1.81445046]\n",
      "  [1.15692474 1.79456735 1.20879177 1.01563858 1.69819837 1.69246187\n",
      "   1.11434726 1.81445046]\n",
      "  [1.15692474 1.79456735 1.20879177 1.01563858 1.69819837 1.69246187\n",
      "   1.11434726 1.81445046]\n",
      "  [1.15692474 1.79456735 1.20879177 1.01563858 1.69819837 1.69246187\n",
      "   1.11434726 1.81445046]\n",
      "  [1.15692474 1.79456735 1.20879177 1.01563858 1.69819837 1.69246187\n",
      "   1.11434726 1.81445046]]\n",
      "\n",
      " [[1.14493704 1.07588476 1.53731492 1.4856739  1.05367408 1.95223498\n",
      "   1.07373075 1.30305555]\n",
      "  [1.14493704 1.07588476 1.53731492 1.4856739  1.05367408 1.95223498\n",
      "   1.07373075 1.30305555]\n",
      "  [1.14493704 1.07588476 1.53731492 1.4856739  1.05367408 1.95223498\n",
      "   1.07373075 1.30305555]\n",
      "  [1.14493704 1.07588476 1.53731492 1.4856739  1.05367408 1.95223498\n",
      "   1.07373075 1.30305555]\n",
      "  [1.14493704 1.07588476 1.53731492 1.4856739  1.05367408 1.95223498\n",
      "   1.07373075 1.30305555]\n",
      "  [1.14493704 1.07588476 1.53731492 1.4856739  1.05367408 1.95223498\n",
      "   1.07373075 1.30305555]]]\n"
     ]
    }
   ],
   "source": [
    "# Rule 3: Arrays can be broadcast together if they are compatible in all dimensions\n",
    "x = np.ones((6, 8))\n",
    "y = np.random.random((10, 1, 8))\n",
    "print(x + y)"
   ]
  },
  {
   "cell_type": "markdown",
   "id": "deb4ea31-2407-425a-aceb-592dd827bf71",
   "metadata": {},
   "source": [
    "Why did the above work?  It comes down to the following:\n",
    "\n",
    "The dimensions are compared from the last dimension to the first.\n",
    "\n",
    "- Compare x's last dimension (8) with y's last dimension (8): They are equal.\n",
    "- Compare x's second-to-last dimension (6) with y's second-to-last dimension (1): One of them is 1, so broadcasting is possible.\n",
    "- y has an additional dimension at the front (10) which x lacks, so x's shape is implicitly extended with a new leading dimension of size 1."
   ]
  },
  {
   "cell_type": "markdown",
   "id": "2cf0168e-ec25-4adb-9497-e0871dee7661",
   "metadata": {},
   "source": [
    "## For seeing NumPy mathematics at work"
   ]
  },
  {
   "cell_type": "code",
   "execution_count": 34,
   "id": "58aaffde-d007-4c08-8c20-7de1da693d51",
   "metadata": {},
   "outputs": [],
   "source": [
    "# Basic operations (+, -, *, /, %)\n",
    "x = np.array([[1, 2, 3], [2, 3, 4]])\n",
    "y = np.array([[1, 4, 9], [2, 3, -2]])"
   ]
  },
  {
   "cell_type": "code",
   "execution_count": 35,
   "id": "d56f0cbf-f52a-407a-abaa-a6b9b26164ad",
   "metadata": {},
   "outputs": [
    {
     "name": "stdout",
     "output_type": "stream",
     "text": [
      "[[ 2  6 12]\n",
      " [ 4  6  2]]\n"
     ]
    }
   ],
   "source": [
    "# Add the two arrays\n",
    "add = np.add(x, y)\n",
    "print(add)"
   ]
  },
  {
   "cell_type": "code",
   "execution_count": 36,
   "id": "db9fb157-3a51-41e6-8654-0e033e016c19",
   "metadata": {},
   "outputs": [
    {
     "name": "stdout",
     "output_type": "stream",
     "text": [
      "[[ 0 -2 -6]\n",
      " [ 0  0  6]]\n"
     ]
    }
   ],
   "source": [
    "# Subtract the two arrays\n",
    "sub = np.subtract(x, y)\n",
    "print(sub)"
   ]
  },
  {
   "cell_type": "code",
   "execution_count": 37,
   "id": "8a43060f-7214-44d4-bd00-1036bc14646f",
   "metadata": {},
   "outputs": [
    {
     "name": "stdout",
     "output_type": "stream",
     "text": [
      "[[ 1  8 27]\n",
      " [ 4  9 -8]]\n"
     ]
    }
   ],
   "source": [
    "# Multiply the two arrays\n",
    "mul = np.multiply(x, y)\n",
    "print(mul)"
   ]
  },
  {
   "cell_type": "code",
   "execution_count": 38,
   "id": "7a50ad2e-3847-45ec-b524-29919584c435",
   "metadata": {},
   "outputs": [
    {
     "name": "stdout",
     "output_type": "stream",
     "text": [
      "[[ 1.          0.5         0.33333333]\n",
      " [ 1.          1.         -2.        ]]\n"
     ]
    }
   ],
   "source": [
    "# Divide the two arrays\n",
    "div = np.divide(x, y)\n",
    "print(div)"
   ]
  },
  {
   "cell_type": "code",
   "execution_count": 39,
   "id": "00948012-82cd-4200-9f08-8be312c036bf",
   "metadata": {},
   "outputs": [
    {
     "name": "stdout",
     "output_type": "stream",
     "text": [
      "[[0 2 3]\n",
      " [0 0 0]]\n"
     ]
    }
   ],
   "source": [
    "# Calculate the remainder of x and y\n",
    "rem = np.remainder(x, y)\n",
    "print(rem)"
   ]
  },
  {
   "cell_type": "markdown",
   "id": "07202d1e-4453-4ec3-b7fd-d42e6459128d",
   "metadata": {},
   "source": [
    "## Create a subset and slice an array using an index"
   ]
  },
  {
   "cell_type": "code",
   "execution_count": 40,
   "id": "7a76aad6-ab09-4e11-a471-2c52cd3db397",
   "metadata": {},
   "outputs": [],
   "source": [
    "x = np.array([10, 20, 30, 40, 50])"
   ]
  },
  {
   "cell_type": "code",
   "execution_count": 41,
   "id": "744b82bc-5ef7-4f57-93cf-85fd68f9e1a6",
   "metadata": {},
   "outputs": [
    {
     "name": "stdout",
     "output_type": "stream",
     "text": [
      "[10 20]\n"
     ]
    }
   ],
   "source": [
    "# Select items at index 0 and 1\n",
    "print(x[0:2])"
   ]
  },
  {
   "cell_type": "code",
   "execution_count": 42,
   "id": "95a5abc2-7646-49fa-9c28-bafcc2dfb175",
   "metadata": {},
   "outputs": [
    {
     "name": "stdout",
     "output_type": "stream",
     "text": [
      "[ 2 10]\n"
     ]
    }
   ],
   "source": [
    "# Select item at row 0 and 1 and column 1 from 2D array\n",
    "y = np.array([[1, 2, 3, 4], [9, 10, 11, 12]])\n",
    "print(y[0:2,1])"
   ]
  },
  {
   "cell_type": "code",
   "execution_count": 43,
   "id": "ef581abf-0179-44ac-a944-7e8792a395ec",
   "metadata": {},
   "outputs": [
    {
     "name": "stdout",
     "output_type": "stream",
     "text": [
      "[ 2  3  4  9 10 11 12]\n"
     ]
    }
   ],
   "source": [
    "# Specifying conditions\n",
    "biggerThan2 = (y >= 2)\n",
    "print(y[biggerThan2])"
   ]
  },
  {
   "cell_type": "markdown",
   "id": "7a7d0a8a-909e-4e1b-82c7-658d9efd0920",
   "metadata": {},
   "source": [
    "# Pandas"
   ]
  },
  {
   "cell_type": "code",
   "execution_count": 44,
   "id": "b73788b7-49a8-4c00-88ff-9d818d5d49f9",
   "metadata": {},
   "outputs": [],
   "source": [
    "pd.set_option('display.max_columns', 500)\n",
    "pd.set_option('display.max_rows', 500)"
   ]
  },
  {
   "cell_type": "code",
   "execution_count": 45,
   "id": "8bed9594",
   "metadata": {},
   "outputs": [
    {
     "name": "stdout",
     "output_type": "stream",
     "text": [
      "0     2\n",
      "1     3\n",
      "2     7\n",
      "3    11\n",
      "4    13\n",
      "5    17\n",
      "6    19\n",
      "7    23\n",
      "dtype: int64\n"
     ]
    }
   ],
   "source": [
    "# Create a DataSeries\n",
    "series = pd.Series([2, 3, 7, 11, 13, 17, 19, 23])\n",
    "print(series)"
   ]
  },
  {
   "cell_type": "code",
   "execution_count": 46,
   "id": "2f0891d2",
   "metadata": {},
   "outputs": [
    {
     "name": "stdout",
     "output_type": "stream",
     "text": [
      "   A          B    C  D                 E              F               G\n",
      "0  1 2019-05-26  5.0  3        Depression  Mental Health  is Challenging\n",
      "1  2 2019-05-26  5.0  3    Social Anxiety  Mental Health  is Challenging\n",
      "2  3 2019-05-26  5.0  3  Bipolar Disorder  Mental Health  is Challenging\n",
      "3  4 2019-05-26  5.0  3   Eating Disorder  Mental Health  is Challenging\n"
     ]
    }
   ],
   "source": [
    "# Creating a dataframe from a series\n",
    "series_df = pd.DataFrame({\n",
    "    'A':range(1,5),\n",
    "    'B':pd.Timestamp('20190526'),\n",
    "    'C':pd.Series(5,index=list(range(4)), dtype='float64'),\n",
    "    'D':np.array([3]*4,dtype='int64'),\n",
    "    'E':pd.Categorical([\"Depression\", \"Social Anxiety\", \"Bipolar Disorder\", \"Eating Disorder\"]),\n",
    "    'F':'Mental Health',\n",
    "    'G':'is Challenging'\n",
    "})\n",
    "print(series_df)"
   ]
  },
  {
   "cell_type": "code",
   "execution_count": 47,
   "id": "6d6a52a1",
   "metadata": {},
   "outputs": [
    {
     "name": "stdout",
     "output_type": "stream",
     "text": [
      "           A     B    C\n",
      "0      Apple  Ball  NaN\n",
      "1  Aeroplane   Bat  Cat\n"
     ]
    }
   ],
   "source": [
    "# Creating dataframe from dictionary\n",
    "dict_df = [{'A': 'Apple', 'B': 'Ball'}, {'A':'Aeroplane', 'B': 'Bat', 'C': 'Cat'}]\n",
    "dict_df = pd.DataFrame(dict_df)\n",
    "print(dict_df)"
   ]
  },
  {
   "cell_type": "code",
   "execution_count": 48,
   "id": "0d7ebaea",
   "metadata": {},
   "outputs": [
    {
     "data": {
      "text/html": [
       "<div>\n",
       "<style scoped>\n",
       "    .dataframe tbody tr th:only-of-type {\n",
       "        vertical-align: middle;\n",
       "    }\n",
       "\n",
       "    .dataframe tbody tr th {\n",
       "        vertical-align: top;\n",
       "    }\n",
       "\n",
       "    .dataframe thead th {\n",
       "        text-align: right;\n",
       "    }\n",
       "</style>\n",
       "<table border=\"1\" class=\"dataframe\">\n",
       "  <thead>\n",
       "    <tr style=\"text-align: right;\">\n",
       "      <th></th>\n",
       "      <th>A</th>\n",
       "      <th>B</th>\n",
       "      <th>C</th>\n",
       "    </tr>\n",
       "  </thead>\n",
       "  <tbody>\n",
       "    <tr>\n",
       "      <th>0</th>\n",
       "      <td>Apple</td>\n",
       "      <td>Ball</td>\n",
       "      <td>NaN</td>\n",
       "    </tr>\n",
       "    <tr>\n",
       "      <th>1</th>\n",
       "      <td>Aeroplane</td>\n",
       "      <td>Bat</td>\n",
       "      <td>Cat</td>\n",
       "    </tr>\n",
       "  </tbody>\n",
       "</table>\n",
       "</div>"
      ],
      "text/plain": [
       "           A     B    C\n",
       "0      Apple  Ball  NaN\n",
       "1  Aeroplane   Bat  Cat"
      ]
     },
     "execution_count": 48,
     "metadata": {},
     "output_type": "execute_result"
    }
   ],
   "source": [
    "dict_df.head()"
   ]
  },
  {
   "cell_type": "code",
   "execution_count": 49,
   "id": "4b167e47",
   "metadata": {},
   "outputs": [
    {
     "name": "stdout",
     "output_type": "stream",
     "text": [
      "      County  ISO-Code      Area Administrative centre\n",
      "0    Ostfold         1   4180.69             Sarpsborg\n",
      "1  Hordaland         2   4917.94                  Oslo\n",
      "2       Oslo         3    454.07          City of Oslo\n",
      "3    Hedmark         4  27397.76                 Hamar\n",
      "4    Oppland         5  25192.10           Lillehammer\n",
      "5   Buskerud         6  14910.94               Drammen\n"
     ]
    }
   ],
   "source": [
    "# Creating a dataframe from ndarrays\n",
    "sdf = {\n",
    "    'County':['Ostfold', 'Hordaland', 'Oslo', 'Hedmark', 'Oppland', 'Buskerud'],\n",
    "    'ISO-Code':[1, 2, 3, 4, 5, 6],\n",
    "    'Area': [4180.69, 4917.94, 454.07, 27397.76, 25192.10, 14910.94],\n",
    "    'Administrative centre': [\"Sarpsborg\", \"Oslo\", \"City of Oslo\", \"Hamar\", \"Lillehammer\", \"Drammen\"]\n",
    "}\n",
    "sdf = pd.DataFrame(sdf)\n",
    "print(sdf)"
   ]
  },
  {
   "cell_type": "code",
   "execution_count": 50,
   "id": "8f212906",
   "metadata": {},
   "outputs": [
    {
     "data": {
      "text/html": [
       "<div>\n",
       "<style scoped>\n",
       "    .dataframe tbody tr th:only-of-type {\n",
       "        vertical-align: middle;\n",
       "    }\n",
       "\n",
       "    .dataframe tbody tr th {\n",
       "        vertical-align: top;\n",
       "    }\n",
       "\n",
       "    .dataframe thead th {\n",
       "        text-align: right;\n",
       "    }\n",
       "</style>\n",
       "<table border=\"1\" class=\"dataframe\">\n",
       "  <thead>\n",
       "    <tr style=\"text-align: right;\">\n",
       "      <th></th>\n",
       "      <th>age</th>\n",
       "      <th>workclass</th>\n",
       "      <th>fnlwgt</th>\n",
       "      <th>education</th>\n",
       "      <th>education_num</th>\n",
       "      <th>marital_status</th>\n",
       "      <th>occupation</th>\n",
       "      <th>relationship</th>\n",
       "      <th>ethnicity</th>\n",
       "      <th>gender</th>\n",
       "      <th>capital_gain</th>\n",
       "      <th>capital_loss</th>\n",
       "      <th>hours_per_week</th>\n",
       "      <th>country_of_origin</th>\n",
       "      <th>income</th>\n",
       "    </tr>\n",
       "  </thead>\n",
       "  <tbody>\n",
       "    <tr>\n",
       "      <th>0</th>\n",
       "      <td>39</td>\n",
       "      <td>State-gov</td>\n",
       "      <td>77516</td>\n",
       "      <td>Bachelors</td>\n",
       "      <td>13</td>\n",
       "      <td>Never-married</td>\n",
       "      <td>Adm-clerical</td>\n",
       "      <td>Not-in-family</td>\n",
       "      <td>White</td>\n",
       "      <td>Male</td>\n",
       "      <td>2174</td>\n",
       "      <td>0</td>\n",
       "      <td>40</td>\n",
       "      <td>United-States</td>\n",
       "      <td>&lt;=50K</td>\n",
       "    </tr>\n",
       "    <tr>\n",
       "      <th>1</th>\n",
       "      <td>50</td>\n",
       "      <td>Self-emp-not-inc</td>\n",
       "      <td>83311</td>\n",
       "      <td>Bachelors</td>\n",
       "      <td>13</td>\n",
       "      <td>Married-civ-spouse</td>\n",
       "      <td>Exec-managerial</td>\n",
       "      <td>Husband</td>\n",
       "      <td>White</td>\n",
       "      <td>Male</td>\n",
       "      <td>0</td>\n",
       "      <td>0</td>\n",
       "      <td>13</td>\n",
       "      <td>United-States</td>\n",
       "      <td>&lt;=50K</td>\n",
       "    </tr>\n",
       "    <tr>\n",
       "      <th>2</th>\n",
       "      <td>38</td>\n",
       "      <td>Private</td>\n",
       "      <td>215646</td>\n",
       "      <td>HS-grad</td>\n",
       "      <td>9</td>\n",
       "      <td>Divorced</td>\n",
       "      <td>Handlers-cleaners</td>\n",
       "      <td>Not-in-family</td>\n",
       "      <td>White</td>\n",
       "      <td>Male</td>\n",
       "      <td>0</td>\n",
       "      <td>0</td>\n",
       "      <td>40</td>\n",
       "      <td>United-States</td>\n",
       "      <td>&lt;=50K</td>\n",
       "    </tr>\n",
       "    <tr>\n",
       "      <th>3</th>\n",
       "      <td>53</td>\n",
       "      <td>Private</td>\n",
       "      <td>234721</td>\n",
       "      <td>11th</td>\n",
       "      <td>7</td>\n",
       "      <td>Married-civ-spouse</td>\n",
       "      <td>Handlers-cleaners</td>\n",
       "      <td>Husband</td>\n",
       "      <td>Black</td>\n",
       "      <td>Male</td>\n",
       "      <td>0</td>\n",
       "      <td>0</td>\n",
       "      <td>40</td>\n",
       "      <td>United-States</td>\n",
       "      <td>&lt;=50K</td>\n",
       "    </tr>\n",
       "    <tr>\n",
       "      <th>4</th>\n",
       "      <td>28</td>\n",
       "      <td>Private</td>\n",
       "      <td>338409</td>\n",
       "      <td>Bachelors</td>\n",
       "      <td>13</td>\n",
       "      <td>Married-civ-spouse</td>\n",
       "      <td>Prof-specialty</td>\n",
       "      <td>Wife</td>\n",
       "      <td>Black</td>\n",
       "      <td>Female</td>\n",
       "      <td>0</td>\n",
       "      <td>0</td>\n",
       "      <td>40</td>\n",
       "      <td>Cuba</td>\n",
       "      <td>&lt;=50K</td>\n",
       "    </tr>\n",
       "    <tr>\n",
       "      <th>5</th>\n",
       "      <td>37</td>\n",
       "      <td>Private</td>\n",
       "      <td>284582</td>\n",
       "      <td>Masters</td>\n",
       "      <td>14</td>\n",
       "      <td>Married-civ-spouse</td>\n",
       "      <td>Exec-managerial</td>\n",
       "      <td>Wife</td>\n",
       "      <td>White</td>\n",
       "      <td>Female</td>\n",
       "      <td>0</td>\n",
       "      <td>0</td>\n",
       "      <td>40</td>\n",
       "      <td>United-States</td>\n",
       "      <td>&lt;=50K</td>\n",
       "    </tr>\n",
       "    <tr>\n",
       "      <th>6</th>\n",
       "      <td>49</td>\n",
       "      <td>Private</td>\n",
       "      <td>160187</td>\n",
       "      <td>9th</td>\n",
       "      <td>5</td>\n",
       "      <td>Married-spouse-absent</td>\n",
       "      <td>Other-service</td>\n",
       "      <td>Not-in-family</td>\n",
       "      <td>Black</td>\n",
       "      <td>Female</td>\n",
       "      <td>0</td>\n",
       "      <td>0</td>\n",
       "      <td>16</td>\n",
       "      <td>Jamaica</td>\n",
       "      <td>&lt;=50K</td>\n",
       "    </tr>\n",
       "    <tr>\n",
       "      <th>7</th>\n",
       "      <td>52</td>\n",
       "      <td>Self-emp-not-inc</td>\n",
       "      <td>209642</td>\n",
       "      <td>HS-grad</td>\n",
       "      <td>9</td>\n",
       "      <td>Married-civ-spouse</td>\n",
       "      <td>Exec-managerial</td>\n",
       "      <td>Husband</td>\n",
       "      <td>White</td>\n",
       "      <td>Male</td>\n",
       "      <td>0</td>\n",
       "      <td>0</td>\n",
       "      <td>45</td>\n",
       "      <td>United-States</td>\n",
       "      <td>&gt;50K</td>\n",
       "    </tr>\n",
       "    <tr>\n",
       "      <th>8</th>\n",
       "      <td>31</td>\n",
       "      <td>Private</td>\n",
       "      <td>45781</td>\n",
       "      <td>Masters</td>\n",
       "      <td>14</td>\n",
       "      <td>Never-married</td>\n",
       "      <td>Prof-specialty</td>\n",
       "      <td>Not-in-family</td>\n",
       "      <td>White</td>\n",
       "      <td>Female</td>\n",
       "      <td>14084</td>\n",
       "      <td>0</td>\n",
       "      <td>50</td>\n",
       "      <td>United-States</td>\n",
       "      <td>&gt;50K</td>\n",
       "    </tr>\n",
       "    <tr>\n",
       "      <th>9</th>\n",
       "      <td>42</td>\n",
       "      <td>Private</td>\n",
       "      <td>159449</td>\n",
       "      <td>Bachelors</td>\n",
       "      <td>13</td>\n",
       "      <td>Married-civ-spouse</td>\n",
       "      <td>Exec-managerial</td>\n",
       "      <td>Husband</td>\n",
       "      <td>White</td>\n",
       "      <td>Male</td>\n",
       "      <td>5178</td>\n",
       "      <td>0</td>\n",
       "      <td>40</td>\n",
       "      <td>United-States</td>\n",
       "      <td>&gt;50K</td>\n",
       "    </tr>\n",
       "  </tbody>\n",
       "</table>\n",
       "</div>"
      ],
      "text/plain": [
       "   age          workclass  fnlwgt   education  education_num  \\\n",
       "0   39          State-gov   77516   Bachelors             13   \n",
       "1   50   Self-emp-not-inc   83311   Bachelors             13   \n",
       "2   38            Private  215646     HS-grad              9   \n",
       "3   53            Private  234721        11th              7   \n",
       "4   28            Private  338409   Bachelors             13   \n",
       "5   37            Private  284582     Masters             14   \n",
       "6   49            Private  160187         9th              5   \n",
       "7   52   Self-emp-not-inc  209642     HS-grad              9   \n",
       "8   31            Private   45781     Masters             14   \n",
       "9   42            Private  159449   Bachelors             13   \n",
       "\n",
       "           marital_status          occupation    relationship ethnicity  \\\n",
       "0           Never-married        Adm-clerical   Not-in-family     White   \n",
       "1      Married-civ-spouse     Exec-managerial         Husband     White   \n",
       "2                Divorced   Handlers-cleaners   Not-in-family     White   \n",
       "3      Married-civ-spouse   Handlers-cleaners         Husband     Black   \n",
       "4      Married-civ-spouse      Prof-specialty            Wife     Black   \n",
       "5      Married-civ-spouse     Exec-managerial            Wife     White   \n",
       "6   Married-spouse-absent       Other-service   Not-in-family     Black   \n",
       "7      Married-civ-spouse     Exec-managerial         Husband     White   \n",
       "8           Never-married      Prof-specialty   Not-in-family     White   \n",
       "9      Married-civ-spouse     Exec-managerial         Husband     White   \n",
       "\n",
       "    gender  capital_gain  capital_loss  hours_per_week country_of_origin  \\\n",
       "0     Male          2174             0              40     United-States   \n",
       "1     Male             0             0              13     United-States   \n",
       "2     Male             0             0              40     United-States   \n",
       "3     Male             0             0              40     United-States   \n",
       "4   Female             0             0              40              Cuba   \n",
       "5   Female             0             0              40     United-States   \n",
       "6   Female             0             0              16           Jamaica   \n",
       "7     Male             0             0              45     United-States   \n",
       "8   Female         14084             0              50     United-States   \n",
       "9     Male          5178             0              40     United-States   \n",
       "\n",
       "   income  \n",
       "0   <=50K  \n",
       "1   <=50K  \n",
       "2   <=50K  \n",
       "3   <=50K  \n",
       "4   <=50K  \n",
       "5   <=50K  \n",
       "6   <=50K  \n",
       "7    >50K  \n",
       "8    >50K  \n",
       "9    >50K  "
      ]
     },
     "execution_count": 50,
     "metadata": {},
     "output_type": "execute_result"
    }
   ],
   "source": [
    "# Loading a dataset from an external source into a pandas DataFrame\n",
    "columns = ['age', 'workclass', 'fnlwgt', 'education', 'education_num',\n",
    "          'marital_status', 'occupation', 'relationship', 'ethnicity',\n",
    "          'gender', 'capital_gain', 'capital_loss', 'hours_per_week', \n",
    "          'country_of_origin', 'income']\n",
    "df = pd.read_csv('http://archive.ics.uci.edu/ml/machine-learning-databases/adult/adult.data',names=columns)\n",
    "df.head(10)"
   ]
  },
  {
   "cell_type": "code",
   "execution_count": 51,
   "id": "56d2141c",
   "metadata": {},
   "outputs": [
    {
     "name": "stdout",
     "output_type": "stream",
     "text": [
      "<class 'pandas.core.frame.DataFrame'>\n",
      "RangeIndex: 32561 entries, 0 to 32560\n",
      "Data columns (total 15 columns):\n",
      " #   Column             Non-Null Count  Dtype \n",
      "---  ------             --------------  ----- \n",
      " 0   age                32561 non-null  int64 \n",
      " 1   workclass          32561 non-null  object\n",
      " 2   fnlwgt             32561 non-null  int64 \n",
      " 3   education          32561 non-null  object\n",
      " 4   education_num      32561 non-null  int64 \n",
      " 5   marital_status     32561 non-null  object\n",
      " 6   occupation         32561 non-null  object\n",
      " 7   relationship       32561 non-null  object\n",
      " 8   ethnicity          32561 non-null  object\n",
      " 9   gender             32561 non-null  object\n",
      " 10  capital_gain       32561 non-null  int64 \n",
      " 11  capital_loss       32561 non-null  int64 \n",
      " 12  hours_per_week     32561 non-null  int64 \n",
      " 13  country_of_origin  32561 non-null  object\n",
      " 14  income             32561 non-null  object\n",
      "dtypes: int64(6), object(9)\n",
      "memory usage: 3.7+ MB\n"
     ]
    }
   ],
   "source": [
    "# Display rows, columns, data types, and memory used by the dataframe\n",
    "df.info()"
   ]
  },
  {
   "cell_type": "code",
   "execution_count": 56,
   "id": "b5a4299e",
   "metadata": {},
   "outputs": [
    {
     "data": {
      "text/plain": [
       "age                                   37\n",
       "workclass                        Private\n",
       "fnlwgt                            280464\n",
       "education                   Some-college\n",
       "education_num                         10\n",
       "marital_status        Married-civ-spouse\n",
       "occupation               Exec-managerial\n",
       "relationship                     Husband\n",
       "ethnicity                          Black\n",
       "gender                              Male\n",
       "capital_gain                           0\n",
       "capital_loss                           0\n",
       "hours_per_week                        80\n",
       "country_of_origin          United-States\n",
       "income                              >50K\n",
       "Name: 10, dtype: object"
      ]
     },
     "execution_count": 56,
     "metadata": {},
     "output_type": "execute_result"
    }
   ],
   "source": [
    "# Select rows and columns in any dataframe\n",
    "# Select a row, in other words the two-column output is ONE entry on line 11 or \"10\" with 0 being the first entry\n",
    "df.iloc[10]"
   ]
  },
  {
   "cell_type": "code",
   "execution_count": 58,
   "id": "65a4061b",
   "metadata": {},
   "outputs": [
    {
     "data": {
      "text/html": [
       "<div>\n",
       "<style scoped>\n",
       "    .dataframe tbody tr th:only-of-type {\n",
       "        vertical-align: middle;\n",
       "    }\n",
       "\n",
       "    .dataframe tbody tr th {\n",
       "        vertical-align: top;\n",
       "    }\n",
       "\n",
       "    .dataframe thead th {\n",
       "        text-align: right;\n",
       "    }\n",
       "</style>\n",
       "<table border=\"1\" class=\"dataframe\">\n",
       "  <thead>\n",
       "    <tr style=\"text-align: right;\">\n",
       "      <th></th>\n",
       "      <th>age</th>\n",
       "      <th>workclass</th>\n",
       "      <th>fnlwgt</th>\n",
       "      <th>education</th>\n",
       "      <th>education_num</th>\n",
       "      <th>marital_status</th>\n",
       "      <th>occupation</th>\n",
       "      <th>relationship</th>\n",
       "      <th>ethnicity</th>\n",
       "      <th>gender</th>\n",
       "      <th>capital_gain</th>\n",
       "      <th>capital_loss</th>\n",
       "      <th>hours_per_week</th>\n",
       "      <th>country_of_origin</th>\n",
       "      <th>income</th>\n",
       "    </tr>\n",
       "  </thead>\n",
       "  <tbody>\n",
       "    <tr>\n",
       "      <th>0</th>\n",
       "      <td>39</td>\n",
       "      <td>State-gov</td>\n",
       "      <td>77516</td>\n",
       "      <td>Bachelors</td>\n",
       "      <td>13</td>\n",
       "      <td>Never-married</td>\n",
       "      <td>Adm-clerical</td>\n",
       "      <td>Not-in-family</td>\n",
       "      <td>White</td>\n",
       "      <td>Male</td>\n",
       "      <td>2174</td>\n",
       "      <td>0</td>\n",
       "      <td>40</td>\n",
       "      <td>United-States</td>\n",
       "      <td>&lt;=50K</td>\n",
       "    </tr>\n",
       "    <tr>\n",
       "      <th>1</th>\n",
       "      <td>50</td>\n",
       "      <td>Self-emp-not-inc</td>\n",
       "      <td>83311</td>\n",
       "      <td>Bachelors</td>\n",
       "      <td>13</td>\n",
       "      <td>Married-civ-spouse</td>\n",
       "      <td>Exec-managerial</td>\n",
       "      <td>Husband</td>\n",
       "      <td>White</td>\n",
       "      <td>Male</td>\n",
       "      <td>0</td>\n",
       "      <td>0</td>\n",
       "      <td>13</td>\n",
       "      <td>United-States</td>\n",
       "      <td>&lt;=50K</td>\n",
       "    </tr>\n",
       "    <tr>\n",
       "      <th>2</th>\n",
       "      <td>38</td>\n",
       "      <td>Private</td>\n",
       "      <td>215646</td>\n",
       "      <td>HS-grad</td>\n",
       "      <td>9</td>\n",
       "      <td>Divorced</td>\n",
       "      <td>Handlers-cleaners</td>\n",
       "      <td>Not-in-family</td>\n",
       "      <td>White</td>\n",
       "      <td>Male</td>\n",
       "      <td>0</td>\n",
       "      <td>0</td>\n",
       "      <td>40</td>\n",
       "      <td>United-States</td>\n",
       "      <td>&lt;=50K</td>\n",
       "    </tr>\n",
       "    <tr>\n",
       "      <th>3</th>\n",
       "      <td>53</td>\n",
       "      <td>Private</td>\n",
       "      <td>234721</td>\n",
       "      <td>11th</td>\n",
       "      <td>7</td>\n",
       "      <td>Married-civ-spouse</td>\n",
       "      <td>Handlers-cleaners</td>\n",
       "      <td>Husband</td>\n",
       "      <td>Black</td>\n",
       "      <td>Male</td>\n",
       "      <td>0</td>\n",
       "      <td>0</td>\n",
       "      <td>40</td>\n",
       "      <td>United-States</td>\n",
       "      <td>&lt;=50K</td>\n",
       "    </tr>\n",
       "    <tr>\n",
       "      <th>4</th>\n",
       "      <td>28</td>\n",
       "      <td>Private</td>\n",
       "      <td>338409</td>\n",
       "      <td>Bachelors</td>\n",
       "      <td>13</td>\n",
       "      <td>Married-civ-spouse</td>\n",
       "      <td>Prof-specialty</td>\n",
       "      <td>Wife</td>\n",
       "      <td>Black</td>\n",
       "      <td>Female</td>\n",
       "      <td>0</td>\n",
       "      <td>0</td>\n",
       "      <td>40</td>\n",
       "      <td>Cuba</td>\n",
       "      <td>&lt;=50K</td>\n",
       "    </tr>\n",
       "    <tr>\n",
       "      <th>5</th>\n",
       "      <td>37</td>\n",
       "      <td>Private</td>\n",
       "      <td>284582</td>\n",
       "      <td>Masters</td>\n",
       "      <td>14</td>\n",
       "      <td>Married-civ-spouse</td>\n",
       "      <td>Exec-managerial</td>\n",
       "      <td>Wife</td>\n",
       "      <td>White</td>\n",
       "      <td>Female</td>\n",
       "      <td>0</td>\n",
       "      <td>0</td>\n",
       "      <td>40</td>\n",
       "      <td>United-States</td>\n",
       "      <td>&lt;=50K</td>\n",
       "    </tr>\n",
       "    <tr>\n",
       "      <th>6</th>\n",
       "      <td>49</td>\n",
       "      <td>Private</td>\n",
       "      <td>160187</td>\n",
       "      <td>9th</td>\n",
       "      <td>5</td>\n",
       "      <td>Married-spouse-absent</td>\n",
       "      <td>Other-service</td>\n",
       "      <td>Not-in-family</td>\n",
       "      <td>Black</td>\n",
       "      <td>Female</td>\n",
       "      <td>0</td>\n",
       "      <td>0</td>\n",
       "      <td>16</td>\n",
       "      <td>Jamaica</td>\n",
       "      <td>&lt;=50K</td>\n",
       "    </tr>\n",
       "    <tr>\n",
       "      <th>7</th>\n",
       "      <td>52</td>\n",
       "      <td>Self-emp-not-inc</td>\n",
       "      <td>209642</td>\n",
       "      <td>HS-grad</td>\n",
       "      <td>9</td>\n",
       "      <td>Married-civ-spouse</td>\n",
       "      <td>Exec-managerial</td>\n",
       "      <td>Husband</td>\n",
       "      <td>White</td>\n",
       "      <td>Male</td>\n",
       "      <td>0</td>\n",
       "      <td>0</td>\n",
       "      <td>45</td>\n",
       "      <td>United-States</td>\n",
       "      <td>&gt;50K</td>\n",
       "    </tr>\n",
       "    <tr>\n",
       "      <th>8</th>\n",
       "      <td>31</td>\n",
       "      <td>Private</td>\n",
       "      <td>45781</td>\n",
       "      <td>Masters</td>\n",
       "      <td>14</td>\n",
       "      <td>Never-married</td>\n",
       "      <td>Prof-specialty</td>\n",
       "      <td>Not-in-family</td>\n",
       "      <td>White</td>\n",
       "      <td>Female</td>\n",
       "      <td>14084</td>\n",
       "      <td>0</td>\n",
       "      <td>50</td>\n",
       "      <td>United-States</td>\n",
       "      <td>&gt;50K</td>\n",
       "    </tr>\n",
       "    <tr>\n",
       "      <th>9</th>\n",
       "      <td>42</td>\n",
       "      <td>Private</td>\n",
       "      <td>159449</td>\n",
       "      <td>Bachelors</td>\n",
       "      <td>13</td>\n",
       "      <td>Married-civ-spouse</td>\n",
       "      <td>Exec-managerial</td>\n",
       "      <td>Husband</td>\n",
       "      <td>White</td>\n",
       "      <td>Male</td>\n",
       "      <td>5178</td>\n",
       "      <td>0</td>\n",
       "      <td>40</td>\n",
       "      <td>United-States</td>\n",
       "      <td>&gt;50K</td>\n",
       "    </tr>\n",
       "  </tbody>\n",
       "</table>\n",
       "</div>"
      ],
      "text/plain": [
       "   age          workclass  fnlwgt   education  education_num  \\\n",
       "0   39          State-gov   77516   Bachelors             13   \n",
       "1   50   Self-emp-not-inc   83311   Bachelors             13   \n",
       "2   38            Private  215646     HS-grad              9   \n",
       "3   53            Private  234721        11th              7   \n",
       "4   28            Private  338409   Bachelors             13   \n",
       "5   37            Private  284582     Masters             14   \n",
       "6   49            Private  160187         9th              5   \n",
       "7   52   Self-emp-not-inc  209642     HS-grad              9   \n",
       "8   31            Private   45781     Masters             14   \n",
       "9   42            Private  159449   Bachelors             13   \n",
       "\n",
       "           marital_status          occupation    relationship ethnicity  \\\n",
       "0           Never-married        Adm-clerical   Not-in-family     White   \n",
       "1      Married-civ-spouse     Exec-managerial         Husband     White   \n",
       "2                Divorced   Handlers-cleaners   Not-in-family     White   \n",
       "3      Married-civ-spouse   Handlers-cleaners         Husband     Black   \n",
       "4      Married-civ-spouse      Prof-specialty            Wife     Black   \n",
       "5      Married-civ-spouse     Exec-managerial            Wife     White   \n",
       "6   Married-spouse-absent       Other-service   Not-in-family     Black   \n",
       "7      Married-civ-spouse     Exec-managerial         Husband     White   \n",
       "8           Never-married      Prof-specialty   Not-in-family     White   \n",
       "9      Married-civ-spouse     Exec-managerial         Husband     White   \n",
       "\n",
       "    gender  capital_gain  capital_loss  hours_per_week country_of_origin  \\\n",
       "0     Male          2174             0              40     United-States   \n",
       "1     Male             0             0              13     United-States   \n",
       "2     Male             0             0              40     United-States   \n",
       "3     Male             0             0              40     United-States   \n",
       "4   Female             0             0              40              Cuba   \n",
       "5   Female             0             0              40     United-States   \n",
       "6   Female             0             0              16           Jamaica   \n",
       "7     Male             0             0              45     United-States   \n",
       "8   Female         14084             0              50     United-States   \n",
       "9     Male          5178             0              40     United-States   \n",
       "\n",
       "   income  \n",
       "0   <=50K  \n",
       "1   <=50K  \n",
       "2   <=50K  \n",
       "3   <=50K  \n",
       "4   <=50K  \n",
       "5   <=50K  \n",
       "6   <=50K  \n",
       "7    >50K  \n",
       "8    >50K  \n",
       "9    >50K  "
      ]
     },
     "execution_count": 58,
     "metadata": {},
     "output_type": "execute_result"
    }
   ],
   "source": [
    "# Select 10 rows\n",
    "df.iloc[0:10]"
   ]
  },
  {
   "cell_type": "code",
   "execution_count": 59,
   "id": "717616d3",
   "metadata": {},
   "outputs": [
    {
     "data": {
      "text/html": [
       "<div>\n",
       "<style scoped>\n",
       "    .dataframe tbody tr th:only-of-type {\n",
       "        vertical-align: middle;\n",
       "    }\n",
       "\n",
       "    .dataframe tbody tr th {\n",
       "        vertical-align: top;\n",
       "    }\n",
       "\n",
       "    .dataframe thead th {\n",
       "        text-align: right;\n",
       "    }\n",
       "</style>\n",
       "<table border=\"1\" class=\"dataframe\">\n",
       "  <thead>\n",
       "    <tr style=\"text-align: right;\">\n",
       "      <th></th>\n",
       "      <th>age</th>\n",
       "      <th>workclass</th>\n",
       "      <th>fnlwgt</th>\n",
       "      <th>education</th>\n",
       "      <th>education_num</th>\n",
       "      <th>marital_status</th>\n",
       "      <th>occupation</th>\n",
       "      <th>relationship</th>\n",
       "      <th>ethnicity</th>\n",
       "      <th>gender</th>\n",
       "      <th>capital_gain</th>\n",
       "      <th>capital_loss</th>\n",
       "      <th>hours_per_week</th>\n",
       "      <th>country_of_origin</th>\n",
       "      <th>income</th>\n",
       "    </tr>\n",
       "  </thead>\n",
       "  <tbody>\n",
       "    <tr>\n",
       "      <th>10</th>\n",
       "      <td>37</td>\n",
       "      <td>Private</td>\n",
       "      <td>280464</td>\n",
       "      <td>Some-college</td>\n",
       "      <td>10</td>\n",
       "      <td>Married-civ-spouse</td>\n",
       "      <td>Exec-managerial</td>\n",
       "      <td>Husband</td>\n",
       "      <td>Black</td>\n",
       "      <td>Male</td>\n",
       "      <td>0</td>\n",
       "      <td>0</td>\n",
       "      <td>80</td>\n",
       "      <td>United-States</td>\n",
       "      <td>&gt;50K</td>\n",
       "    </tr>\n",
       "    <tr>\n",
       "      <th>11</th>\n",
       "      <td>30</td>\n",
       "      <td>State-gov</td>\n",
       "      <td>141297</td>\n",
       "      <td>Bachelors</td>\n",
       "      <td>13</td>\n",
       "      <td>Married-civ-spouse</td>\n",
       "      <td>Prof-specialty</td>\n",
       "      <td>Husband</td>\n",
       "      <td>Asian-Pac-Islander</td>\n",
       "      <td>Male</td>\n",
       "      <td>0</td>\n",
       "      <td>0</td>\n",
       "      <td>40</td>\n",
       "      <td>India</td>\n",
       "      <td>&gt;50K</td>\n",
       "    </tr>\n",
       "    <tr>\n",
       "      <th>12</th>\n",
       "      <td>23</td>\n",
       "      <td>Private</td>\n",
       "      <td>122272</td>\n",
       "      <td>Bachelors</td>\n",
       "      <td>13</td>\n",
       "      <td>Never-married</td>\n",
       "      <td>Adm-clerical</td>\n",
       "      <td>Own-child</td>\n",
       "      <td>White</td>\n",
       "      <td>Female</td>\n",
       "      <td>0</td>\n",
       "      <td>0</td>\n",
       "      <td>30</td>\n",
       "      <td>United-States</td>\n",
       "      <td>&lt;=50K</td>\n",
       "    </tr>\n",
       "    <tr>\n",
       "      <th>13</th>\n",
       "      <td>32</td>\n",
       "      <td>Private</td>\n",
       "      <td>205019</td>\n",
       "      <td>Assoc-acdm</td>\n",
       "      <td>12</td>\n",
       "      <td>Never-married</td>\n",
       "      <td>Sales</td>\n",
       "      <td>Not-in-family</td>\n",
       "      <td>Black</td>\n",
       "      <td>Male</td>\n",
       "      <td>0</td>\n",
       "      <td>0</td>\n",
       "      <td>50</td>\n",
       "      <td>United-States</td>\n",
       "      <td>&lt;=50K</td>\n",
       "    </tr>\n",
       "    <tr>\n",
       "      <th>14</th>\n",
       "      <td>40</td>\n",
       "      <td>Private</td>\n",
       "      <td>121772</td>\n",
       "      <td>Assoc-voc</td>\n",
       "      <td>11</td>\n",
       "      <td>Married-civ-spouse</td>\n",
       "      <td>Craft-repair</td>\n",
       "      <td>Husband</td>\n",
       "      <td>Asian-Pac-Islander</td>\n",
       "      <td>Male</td>\n",
       "      <td>0</td>\n",
       "      <td>0</td>\n",
       "      <td>40</td>\n",
       "      <td>?</td>\n",
       "      <td>&gt;50K</td>\n",
       "    </tr>\n",
       "  </tbody>\n",
       "</table>\n",
       "</div>"
      ],
      "text/plain": [
       "    age   workclass  fnlwgt      education  education_num  \\\n",
       "10   37     Private  280464   Some-college             10   \n",
       "11   30   State-gov  141297      Bachelors             13   \n",
       "12   23     Private  122272      Bachelors             13   \n",
       "13   32     Private  205019     Assoc-acdm             12   \n",
       "14   40     Private  121772      Assoc-voc             11   \n",
       "\n",
       "         marital_status        occupation    relationship  \\\n",
       "10   Married-civ-spouse   Exec-managerial         Husband   \n",
       "11   Married-civ-spouse    Prof-specialty         Husband   \n",
       "12        Never-married      Adm-clerical       Own-child   \n",
       "13        Never-married             Sales   Not-in-family   \n",
       "14   Married-civ-spouse      Craft-repair         Husband   \n",
       "\n",
       "              ethnicity   gender  capital_gain  capital_loss  hours_per_week  \\\n",
       "10                Black     Male             0             0              80   \n",
       "11   Asian-Pac-Islander     Male             0             0              40   \n",
       "12                White   Female             0             0              30   \n",
       "13                Black     Male             0             0              50   \n",
       "14   Asian-Pac-Islander     Male             0             0              40   \n",
       "\n",
       "   country_of_origin  income  \n",
       "10     United-States    >50K  \n",
       "11             India    >50K  \n",
       "12     United-States   <=50K  \n",
       "13     United-States   <=50K  \n",
       "14                 ?    >50K  "
      ]
     },
     "execution_count": 59,
     "metadata": {},
     "output_type": "execute_result"
    }
   ],
   "source": [
    "# Select a range of rows\n",
    "df.iloc[10:15]"
   ]
  },
  {
   "cell_type": "code",
   "execution_count": 60,
   "id": "30d6081e",
   "metadata": {},
   "outputs": [
    {
     "data": {
      "text/html": [
       "<div>\n",
       "<style scoped>\n",
       "    .dataframe tbody tr th:only-of-type {\n",
       "        vertical-align: middle;\n",
       "    }\n",
       "\n",
       "    .dataframe tbody tr th {\n",
       "        vertical-align: top;\n",
       "    }\n",
       "\n",
       "    .dataframe thead th {\n",
       "        text-align: right;\n",
       "    }\n",
       "</style>\n",
       "<table border=\"1\" class=\"dataframe\">\n",
       "  <thead>\n",
       "    <tr style=\"text-align: right;\">\n",
       "      <th></th>\n",
       "      <th>age</th>\n",
       "      <th>workclass</th>\n",
       "      <th>fnlwgt</th>\n",
       "      <th>education</th>\n",
       "      <th>education_num</th>\n",
       "      <th>marital_status</th>\n",
       "      <th>occupation</th>\n",
       "      <th>relationship</th>\n",
       "      <th>ethnicity</th>\n",
       "      <th>gender</th>\n",
       "      <th>capital_gain</th>\n",
       "      <th>capital_loss</th>\n",
       "      <th>hours_per_week</th>\n",
       "      <th>country_of_origin</th>\n",
       "      <th>income</th>\n",
       "    </tr>\n",
       "  </thead>\n",
       "  <tbody>\n",
       "    <tr>\n",
       "      <th>32559</th>\n",
       "      <td>22</td>\n",
       "      <td>Private</td>\n",
       "      <td>201490</td>\n",
       "      <td>HS-grad</td>\n",
       "      <td>9</td>\n",
       "      <td>Never-married</td>\n",
       "      <td>Adm-clerical</td>\n",
       "      <td>Own-child</td>\n",
       "      <td>White</td>\n",
       "      <td>Male</td>\n",
       "      <td>0</td>\n",
       "      <td>0</td>\n",
       "      <td>20</td>\n",
       "      <td>United-States</td>\n",
       "      <td>&lt;=50K</td>\n",
       "    </tr>\n",
       "    <tr>\n",
       "      <th>32560</th>\n",
       "      <td>52</td>\n",
       "      <td>Self-emp-inc</td>\n",
       "      <td>287927</td>\n",
       "      <td>HS-grad</td>\n",
       "      <td>9</td>\n",
       "      <td>Married-civ-spouse</td>\n",
       "      <td>Exec-managerial</td>\n",
       "      <td>Wife</td>\n",
       "      <td>White</td>\n",
       "      <td>Female</td>\n",
       "      <td>15024</td>\n",
       "      <td>0</td>\n",
       "      <td>40</td>\n",
       "      <td>United-States</td>\n",
       "      <td>&gt;50K</td>\n",
       "    </tr>\n",
       "  </tbody>\n",
       "</table>\n",
       "</div>"
      ],
      "text/plain": [
       "       age      workclass  fnlwgt education  education_num  \\\n",
       "32559   22        Private  201490   HS-grad              9   \n",
       "32560   52   Self-emp-inc  287927   HS-grad              9   \n",
       "\n",
       "            marital_status        occupation relationship ethnicity   gender  \\\n",
       "32559        Never-married      Adm-clerical    Own-child     White     Male   \n",
       "32560   Married-civ-spouse   Exec-managerial         Wife     White   Female   \n",
       "\n",
       "       capital_gain  capital_loss  hours_per_week country_of_origin  income  \n",
       "32559             0             0              20     United-States   <=50K  \n",
       "32560         15024             0              40     United-States    >50K  "
      ]
     },
     "execution_count": 60,
     "metadata": {},
     "output_type": "execute_result"
    }
   ],
   "source": [
    "# Select the last 2 rows\n",
    "df.iloc[-2:]"
   ]
  },
  {
   "cell_type": "code",
   "execution_count": 61,
   "id": "84376278",
   "metadata": {},
   "outputs": [
    {
     "data": {
      "text/html": [
       "<div>\n",
       "<style scoped>\n",
       "    .dataframe tbody tr th:only-of-type {\n",
       "        vertical-align: middle;\n",
       "    }\n",
       "\n",
       "    .dataframe tbody tr th {\n",
       "        vertical-align: top;\n",
       "    }\n",
       "\n",
       "    .dataframe thead th {\n",
       "        text-align: right;\n",
       "    }\n",
       "</style>\n",
       "<table border=\"1\" class=\"dataframe\">\n",
       "  <thead>\n",
       "    <tr style=\"text-align: right;\">\n",
       "      <th></th>\n",
       "      <th>education</th>\n",
       "      <th>education_num</th>\n",
       "    </tr>\n",
       "  </thead>\n",
       "  <tbody>\n",
       "    <tr>\n",
       "      <th>0</th>\n",
       "      <td>Bachelors</td>\n",
       "      <td>13</td>\n",
       "    </tr>\n",
       "    <tr>\n",
       "      <th>2</th>\n",
       "      <td>HS-grad</td>\n",
       "      <td>9</td>\n",
       "    </tr>\n",
       "    <tr>\n",
       "      <th>4</th>\n",
       "      <td>Bachelors</td>\n",
       "      <td>13</td>\n",
       "    </tr>\n",
       "    <tr>\n",
       "      <th>6</th>\n",
       "      <td>9th</td>\n",
       "      <td>5</td>\n",
       "    </tr>\n",
       "    <tr>\n",
       "      <th>8</th>\n",
       "      <td>Masters</td>\n",
       "      <td>14</td>\n",
       "    </tr>\n",
       "  </tbody>\n",
       "</table>\n",
       "</div>"
      ],
      "text/plain": [
       "    education  education_num\n",
       "0   Bachelors             13\n",
       "2     HS-grad              9\n",
       "4   Bachelors             13\n",
       "6         9th              5\n",
       "8     Masters             14"
      ]
     },
     "execution_count": 61,
     "metadata": {},
     "output_type": "execute_result"
    }
   ],
   "source": [
    "# Select every other row in columns 3-5\n",
    "df.iloc[::2, 3:5].head()"
   ]
  },
  {
   "cell_type": "code",
   "execution_count": 65,
   "id": "b741178a",
   "metadata": {},
   "outputs": [
    {
     "data": {
      "text/html": [
       "<div>\n",
       "<style scoped>\n",
       "    .dataframe tbody tr th:only-of-type {\n",
       "        vertical-align: middle;\n",
       "    }\n",
       "\n",
       "    .dataframe tbody tr th {\n",
       "        vertical-align: top;\n",
       "    }\n",
       "\n",
       "    .dataframe thead th {\n",
       "        text-align: right;\n",
       "    }\n",
       "</style>\n",
       "<table border=\"1\" class=\"dataframe\">\n",
       "  <thead>\n",
       "    <tr style=\"text-align: right;\">\n",
       "      <th></th>\n",
       "      <th>F</th>\n",
       "      <th>E</th>\n",
       "      <th>D</th>\n",
       "      <th>C</th>\n",
       "      <th>B</th>\n",
       "      <th>A</th>\n",
       "    </tr>\n",
       "  </thead>\n",
       "  <tbody>\n",
       "    <tr>\n",
       "      <th>0</th>\n",
       "      <td>1.0</td>\n",
       "      <td>1.329212</td>\n",
       "      <td>NaN</td>\n",
       "      <td>-0.316280</td>\n",
       "      <td>-0.990810</td>\n",
       "      <td>-1.070816</td>\n",
       "    </tr>\n",
       "    <tr>\n",
       "      <th>1</th>\n",
       "      <td>2.0</td>\n",
       "      <td>-1.438713</td>\n",
       "      <td>0.564417</td>\n",
       "      <td>0.295722</td>\n",
       "      <td>-1.626404</td>\n",
       "      <td>0.219565</td>\n",
       "    </tr>\n",
       "    <tr>\n",
       "      <th>2</th>\n",
       "      <td>3.0</td>\n",
       "      <td>0.678805</td>\n",
       "      <td>1.889273</td>\n",
       "      <td>0.961538</td>\n",
       "      <td>0.104011</td>\n",
       "      <td>-0.481165</td>\n",
       "    </tr>\n",
       "    <tr>\n",
       "      <th>3</th>\n",
       "      <td>4.0</td>\n",
       "      <td>0.850229</td>\n",
       "      <td>1.453425</td>\n",
       "      <td>1.057737</td>\n",
       "      <td>0.165562</td>\n",
       "      <td>0.515018</td>\n",
       "    </tr>\n",
       "    <tr>\n",
       "      <th>4</th>\n",
       "      <td>5.0</td>\n",
       "      <td>-1.336936</td>\n",
       "      <td>0.562861</td>\n",
       "      <td>1.392855</td>\n",
       "      <td>-0.063328</td>\n",
       "      <td>0.121668</td>\n",
       "    </tr>\n",
       "    <tr>\n",
       "      <th>5</th>\n",
       "      <td>6.0</td>\n",
       "      <td>1.207603</td>\n",
       "      <td>-0.002040</td>\n",
       "      <td>1.627796</td>\n",
       "      <td>0.354493</td>\n",
       "      <td>1.037528</td>\n",
       "    </tr>\n",
       "    <tr>\n",
       "      <th>6</th>\n",
       "      <td>7.0</td>\n",
       "      <td>-0.385684</td>\n",
       "      <td>0.519818</td>\n",
       "      <td>1.686583</td>\n",
       "      <td>-1.325963</td>\n",
       "      <td>1.428984</td>\n",
       "    </tr>\n",
       "    <tr>\n",
       "      <th>7</th>\n",
       "      <td>8.0</td>\n",
       "      <td>-2.089354</td>\n",
       "      <td>-0.129820</td>\n",
       "      <td>0.631523</td>\n",
       "      <td>-0.586538</td>\n",
       "      <td>0.290720</td>\n",
       "    </tr>\n",
       "    <tr>\n",
       "      <th>8</th>\n",
       "      <td>9.0</td>\n",
       "      <td>1.264103</td>\n",
       "      <td>0.290035</td>\n",
       "      <td>-1.970288</td>\n",
       "      <td>0.803906</td>\n",
       "      <td>1.030550</td>\n",
       "    </tr>\n",
       "    <tr>\n",
       "      <th>9</th>\n",
       "      <td>10.0</td>\n",
       "      <td>0.118098</td>\n",
       "      <td>-0.021853</td>\n",
       "      <td>0.046841</td>\n",
       "      <td>-1.628753</td>\n",
       "      <td>-0.392361</td>\n",
       "    </tr>\n",
       "  </tbody>\n",
       "</table>\n",
       "</div>"
      ],
      "text/plain": [
       "      F         E         D         C         B         A\n",
       "0   1.0  1.329212       NaN -0.316280 -0.990810 -1.070816\n",
       "1   2.0 -1.438713  0.564417  0.295722 -1.626404  0.219565\n",
       "2   3.0  0.678805  1.889273  0.961538  0.104011 -0.481165\n",
       "3   4.0  0.850229  1.453425  1.057737  0.165562  0.515018\n",
       "4   5.0 -1.336936  0.562861  1.392855 -0.063328  0.121668\n",
       "5   6.0  1.207603 -0.002040  1.627796  0.354493  1.037528\n",
       "6   7.0 -0.385684  0.519818  1.686583 -1.325963  1.428984\n",
       "7   8.0 -2.089354 -0.129820  0.631523 -0.586538  0.290720\n",
       "8   9.0  1.264103  0.290035 -1.970288  0.803906  1.030550\n",
       "9  10.0  0.118098 -0.021853  0.046841 -1.628753 -0.392361"
      ]
     },
     "execution_count": 65,
     "metadata": {},
     "output_type": "execute_result"
    }
   ],
   "source": [
    "# Combine NumPy and Pandas to create a dataframe; note textbook had an error on the concat line concatenating to df\n",
    "np.random.seed(24)\n",
    "dFrame = pd.DataFrame({'F': np.linspace(1, 10, 10)})\n",
    "dFrame = pd.concat([dFrame, pd.DataFrame(np.random.randn(10, 5),\n",
    "columns=list('EDCBA'))],\n",
    "                  axis=1)\n",
    "dFrame.iloc[0, 2] = np.nan\n",
    "dFrame"
   ]
  },
  {
   "cell_type": "code",
   "execution_count": 67,
   "id": "e303c291",
   "metadata": {},
   "outputs": [],
   "source": [
    "# Define a function that should color the values that are less than 0\n",
    "def colorNegativeValueToRed(value):\n",
    "    if value < 0:\n",
    "        color = 'red'\n",
    "    elif value > 0:\n",
    "        color = 'black'\n",
    "    else:\n",
    "        color = 'green'\n",
    "    return 'color: %s' % color"
   ]
  },
  {
   "cell_type": "code",
   "execution_count": 68,
   "id": "89547ba4",
   "metadata": {},
   "outputs": [
    {
     "name": "stderr",
     "output_type": "stream",
     "text": [
      "/var/folders/rd/6vyt6b8s05b9kk9hx1n7tdrc0000gn/T/ipykernel_1758/3662478365.py:1: FutureWarning: Styler.applymap has been deprecated. Use Styler.map instead.\n",
      "  s = dFrame.style.applymap(colorNegativeValueToRed,\n"
     ]
    },
    {
     "data": {
      "text/html": [
       "<style type=\"text/css\">\n",
       "#T_8bf6c_row0_col1, #T_8bf6c_row1_col2, #T_8bf6c_row1_col3, #T_8bf6c_row1_col5, #T_8bf6c_row2_col1, #T_8bf6c_row2_col2, #T_8bf6c_row2_col3, #T_8bf6c_row2_col4, #T_8bf6c_row3_col1, #T_8bf6c_row3_col2, #T_8bf6c_row3_col3, #T_8bf6c_row3_col4, #T_8bf6c_row3_col5, #T_8bf6c_row4_col2, #T_8bf6c_row4_col3, #T_8bf6c_row4_col5, #T_8bf6c_row5_col1, #T_8bf6c_row5_col3, #T_8bf6c_row5_col4, #T_8bf6c_row5_col5, #T_8bf6c_row6_col2, #T_8bf6c_row6_col3, #T_8bf6c_row6_col5, #T_8bf6c_row7_col3, #T_8bf6c_row7_col5, #T_8bf6c_row8_col1, #T_8bf6c_row8_col2, #T_8bf6c_row8_col4, #T_8bf6c_row8_col5, #T_8bf6c_row9_col1, #T_8bf6c_row9_col3 {\n",
       "  color: black;\n",
       "}\n",
       "#T_8bf6c_row0_col2 {\n",
       "  color: green;\n",
       "}\n",
       "#T_8bf6c_row0_col3, #T_8bf6c_row0_col4, #T_8bf6c_row0_col5, #T_8bf6c_row1_col1, #T_8bf6c_row1_col4, #T_8bf6c_row2_col5, #T_8bf6c_row4_col1, #T_8bf6c_row4_col4, #T_8bf6c_row5_col2, #T_8bf6c_row6_col1, #T_8bf6c_row6_col4, #T_8bf6c_row7_col1, #T_8bf6c_row7_col2, #T_8bf6c_row7_col4, #T_8bf6c_row8_col3, #T_8bf6c_row9_col2, #T_8bf6c_row9_col4, #T_8bf6c_row9_col5 {\n",
       "  color: red;\n",
       "}\n",
       "</style>\n",
       "<table id=\"T_8bf6c\">\n",
       "  <thead>\n",
       "    <tr>\n",
       "      <th class=\"blank level0\" >&nbsp;</th>\n",
       "      <th id=\"T_8bf6c_level0_col0\" class=\"col_heading level0 col0\" >F</th>\n",
       "      <th id=\"T_8bf6c_level0_col1\" class=\"col_heading level0 col1\" >E</th>\n",
       "      <th id=\"T_8bf6c_level0_col2\" class=\"col_heading level0 col2\" >D</th>\n",
       "      <th id=\"T_8bf6c_level0_col3\" class=\"col_heading level0 col3\" >C</th>\n",
       "      <th id=\"T_8bf6c_level0_col4\" class=\"col_heading level0 col4\" >B</th>\n",
       "      <th id=\"T_8bf6c_level0_col5\" class=\"col_heading level0 col5\" >A</th>\n",
       "    </tr>\n",
       "  </thead>\n",
       "  <tbody>\n",
       "    <tr>\n",
       "      <th id=\"T_8bf6c_level0_row0\" class=\"row_heading level0 row0\" >0</th>\n",
       "      <td id=\"T_8bf6c_row0_col0\" class=\"data row0 col0\" >1.000000</td>\n",
       "      <td id=\"T_8bf6c_row0_col1\" class=\"data row0 col1\" >1.329212</td>\n",
       "      <td id=\"T_8bf6c_row0_col2\" class=\"data row0 col2\" >nan</td>\n",
       "      <td id=\"T_8bf6c_row0_col3\" class=\"data row0 col3\" >-0.316280</td>\n",
       "      <td id=\"T_8bf6c_row0_col4\" class=\"data row0 col4\" >-0.990810</td>\n",
       "      <td id=\"T_8bf6c_row0_col5\" class=\"data row0 col5\" >-1.070816</td>\n",
       "    </tr>\n",
       "    <tr>\n",
       "      <th id=\"T_8bf6c_level0_row1\" class=\"row_heading level0 row1\" >1</th>\n",
       "      <td id=\"T_8bf6c_row1_col0\" class=\"data row1 col0\" >2.000000</td>\n",
       "      <td id=\"T_8bf6c_row1_col1\" class=\"data row1 col1\" >-1.438713</td>\n",
       "      <td id=\"T_8bf6c_row1_col2\" class=\"data row1 col2\" >0.564417</td>\n",
       "      <td id=\"T_8bf6c_row1_col3\" class=\"data row1 col3\" >0.295722</td>\n",
       "      <td id=\"T_8bf6c_row1_col4\" class=\"data row1 col4\" >-1.626404</td>\n",
       "      <td id=\"T_8bf6c_row1_col5\" class=\"data row1 col5\" >0.219565</td>\n",
       "    </tr>\n",
       "    <tr>\n",
       "      <th id=\"T_8bf6c_level0_row2\" class=\"row_heading level0 row2\" >2</th>\n",
       "      <td id=\"T_8bf6c_row2_col0\" class=\"data row2 col0\" >3.000000</td>\n",
       "      <td id=\"T_8bf6c_row2_col1\" class=\"data row2 col1\" >0.678805</td>\n",
       "      <td id=\"T_8bf6c_row2_col2\" class=\"data row2 col2\" >1.889273</td>\n",
       "      <td id=\"T_8bf6c_row2_col3\" class=\"data row2 col3\" >0.961538</td>\n",
       "      <td id=\"T_8bf6c_row2_col4\" class=\"data row2 col4\" >0.104011</td>\n",
       "      <td id=\"T_8bf6c_row2_col5\" class=\"data row2 col5\" >-0.481165</td>\n",
       "    </tr>\n",
       "    <tr>\n",
       "      <th id=\"T_8bf6c_level0_row3\" class=\"row_heading level0 row3\" >3</th>\n",
       "      <td id=\"T_8bf6c_row3_col0\" class=\"data row3 col0\" >4.000000</td>\n",
       "      <td id=\"T_8bf6c_row3_col1\" class=\"data row3 col1\" >0.850229</td>\n",
       "      <td id=\"T_8bf6c_row3_col2\" class=\"data row3 col2\" >1.453425</td>\n",
       "      <td id=\"T_8bf6c_row3_col3\" class=\"data row3 col3\" >1.057737</td>\n",
       "      <td id=\"T_8bf6c_row3_col4\" class=\"data row3 col4\" >0.165562</td>\n",
       "      <td id=\"T_8bf6c_row3_col5\" class=\"data row3 col5\" >0.515018</td>\n",
       "    </tr>\n",
       "    <tr>\n",
       "      <th id=\"T_8bf6c_level0_row4\" class=\"row_heading level0 row4\" >4</th>\n",
       "      <td id=\"T_8bf6c_row4_col0\" class=\"data row4 col0\" >5.000000</td>\n",
       "      <td id=\"T_8bf6c_row4_col1\" class=\"data row4 col1\" >-1.336936</td>\n",
       "      <td id=\"T_8bf6c_row4_col2\" class=\"data row4 col2\" >0.562861</td>\n",
       "      <td id=\"T_8bf6c_row4_col3\" class=\"data row4 col3\" >1.392855</td>\n",
       "      <td id=\"T_8bf6c_row4_col4\" class=\"data row4 col4\" >-0.063328</td>\n",
       "      <td id=\"T_8bf6c_row4_col5\" class=\"data row4 col5\" >0.121668</td>\n",
       "    </tr>\n",
       "    <tr>\n",
       "      <th id=\"T_8bf6c_level0_row5\" class=\"row_heading level0 row5\" >5</th>\n",
       "      <td id=\"T_8bf6c_row5_col0\" class=\"data row5 col0\" >6.000000</td>\n",
       "      <td id=\"T_8bf6c_row5_col1\" class=\"data row5 col1\" >1.207603</td>\n",
       "      <td id=\"T_8bf6c_row5_col2\" class=\"data row5 col2\" >-0.002040</td>\n",
       "      <td id=\"T_8bf6c_row5_col3\" class=\"data row5 col3\" >1.627796</td>\n",
       "      <td id=\"T_8bf6c_row5_col4\" class=\"data row5 col4\" >0.354493</td>\n",
       "      <td id=\"T_8bf6c_row5_col5\" class=\"data row5 col5\" >1.037528</td>\n",
       "    </tr>\n",
       "    <tr>\n",
       "      <th id=\"T_8bf6c_level0_row6\" class=\"row_heading level0 row6\" >6</th>\n",
       "      <td id=\"T_8bf6c_row6_col0\" class=\"data row6 col0\" >7.000000</td>\n",
       "      <td id=\"T_8bf6c_row6_col1\" class=\"data row6 col1\" >-0.385684</td>\n",
       "      <td id=\"T_8bf6c_row6_col2\" class=\"data row6 col2\" >0.519818</td>\n",
       "      <td id=\"T_8bf6c_row6_col3\" class=\"data row6 col3\" >1.686583</td>\n",
       "      <td id=\"T_8bf6c_row6_col4\" class=\"data row6 col4\" >-1.325963</td>\n",
       "      <td id=\"T_8bf6c_row6_col5\" class=\"data row6 col5\" >1.428984</td>\n",
       "    </tr>\n",
       "    <tr>\n",
       "      <th id=\"T_8bf6c_level0_row7\" class=\"row_heading level0 row7\" >7</th>\n",
       "      <td id=\"T_8bf6c_row7_col0\" class=\"data row7 col0\" >8.000000</td>\n",
       "      <td id=\"T_8bf6c_row7_col1\" class=\"data row7 col1\" >-2.089354</td>\n",
       "      <td id=\"T_8bf6c_row7_col2\" class=\"data row7 col2\" >-0.129820</td>\n",
       "      <td id=\"T_8bf6c_row7_col3\" class=\"data row7 col3\" >0.631523</td>\n",
       "      <td id=\"T_8bf6c_row7_col4\" class=\"data row7 col4\" >-0.586538</td>\n",
       "      <td id=\"T_8bf6c_row7_col5\" class=\"data row7 col5\" >0.290720</td>\n",
       "    </tr>\n",
       "    <tr>\n",
       "      <th id=\"T_8bf6c_level0_row8\" class=\"row_heading level0 row8\" >8</th>\n",
       "      <td id=\"T_8bf6c_row8_col0\" class=\"data row8 col0\" >9.000000</td>\n",
       "      <td id=\"T_8bf6c_row8_col1\" class=\"data row8 col1\" >1.264103</td>\n",
       "      <td id=\"T_8bf6c_row8_col2\" class=\"data row8 col2\" >0.290035</td>\n",
       "      <td id=\"T_8bf6c_row8_col3\" class=\"data row8 col3\" >-1.970288</td>\n",
       "      <td id=\"T_8bf6c_row8_col4\" class=\"data row8 col4\" >0.803906</td>\n",
       "      <td id=\"T_8bf6c_row8_col5\" class=\"data row8 col5\" >1.030550</td>\n",
       "    </tr>\n",
       "    <tr>\n",
       "      <th id=\"T_8bf6c_level0_row9\" class=\"row_heading level0 row9\" >9</th>\n",
       "      <td id=\"T_8bf6c_row9_col0\" class=\"data row9 col0\" >10.000000</td>\n",
       "      <td id=\"T_8bf6c_row9_col1\" class=\"data row9 col1\" >0.118098</td>\n",
       "      <td id=\"T_8bf6c_row9_col2\" class=\"data row9 col2\" >-0.021853</td>\n",
       "      <td id=\"T_8bf6c_row9_col3\" class=\"data row9 col3\" >0.046841</td>\n",
       "      <td id=\"T_8bf6c_row9_col4\" class=\"data row9 col4\" >-1.628753</td>\n",
       "      <td id=\"T_8bf6c_row9_col5\" class=\"data row9 col5\" >-0.392361</td>\n",
       "    </tr>\n",
       "  </tbody>\n",
       "</table>\n"
      ],
      "text/plain": [
       "<pandas.io.formats.style.Styler at 0x7fa4217e09d0>"
      ]
     },
     "execution_count": 68,
     "metadata": {},
     "output_type": "execute_result"
    }
   ],
   "source": [
    "# Pass the 'colorNegativeValueToRed' function into the dataframe\n",
    "s = dFrame.style.applymap(colorNegativeValueToRed,\n",
    "subset=['A', 'B', 'C', 'D', 'E'])\n",
    "s"
   ]
  },
  {
   "cell_type": "code",
   "execution_count": 69,
   "id": "4d49320a",
   "metadata": {},
   "outputs": [],
   "source": [
    "# Scan column and highlight the max and min in the column\n",
    "def highlightMax(s):\n",
    "    isMax = s == s.max()\n",
    "    return ['background-color: orange' if v else '' for v in isMax]\n",
    "\n",
    "def highlightMin(s):\n",
    "    isMin = s == s.min()\n",
    "    return ['background-color: green' if v else '' for v in isMin]"
   ]
  },
  {
   "cell_type": "code",
   "execution_count": 72,
   "id": "54ce5075",
   "metadata": {},
   "outputs": [
    {
     "data": {
      "text/html": [
       "<style type=\"text/css\">\n",
       "#T_22512_row0_col0, #T_22512_row0_col5, #T_22512_row7_col1, #T_22512_row7_col2, #T_22512_row8_col3, #T_22512_row9_col4 {\n",
       "  background-color: green;\n",
       "}\n",
       "#T_22512_row0_col1, #T_22512_row2_col2, #T_22512_row6_col3, #T_22512_row6_col5, #T_22512_row8_col4, #T_22512_row9_col0 {\n",
       "  background-color: orange;\n",
       "}\n",
       "#T_22512_row0_col2 {\n",
       "  background-color: red;\n",
       "}\n",
       "</style>\n",
       "<table id=\"T_22512\">\n",
       "  <thead>\n",
       "    <tr>\n",
       "      <th class=\"blank level0\" >&nbsp;</th>\n",
       "      <th id=\"T_22512_level0_col0\" class=\"col_heading level0 col0\" >F</th>\n",
       "      <th id=\"T_22512_level0_col1\" class=\"col_heading level0 col1\" >E</th>\n",
       "      <th id=\"T_22512_level0_col2\" class=\"col_heading level0 col2\" >D</th>\n",
       "      <th id=\"T_22512_level0_col3\" class=\"col_heading level0 col3\" >C</th>\n",
       "      <th id=\"T_22512_level0_col4\" class=\"col_heading level0 col4\" >B</th>\n",
       "      <th id=\"T_22512_level0_col5\" class=\"col_heading level0 col5\" >A</th>\n",
       "    </tr>\n",
       "  </thead>\n",
       "  <tbody>\n",
       "    <tr>\n",
       "      <th id=\"T_22512_level0_row0\" class=\"row_heading level0 row0\" >0</th>\n",
       "      <td id=\"T_22512_row0_col0\" class=\"data row0 col0\" >1.000000</td>\n",
       "      <td id=\"T_22512_row0_col1\" class=\"data row0 col1\" >1.329212</td>\n",
       "      <td id=\"T_22512_row0_col2\" class=\"data row0 col2\" >nan</td>\n",
       "      <td id=\"T_22512_row0_col3\" class=\"data row0 col3\" >-0.316280</td>\n",
       "      <td id=\"T_22512_row0_col4\" class=\"data row0 col4\" >-0.990810</td>\n",
       "      <td id=\"T_22512_row0_col5\" class=\"data row0 col5\" >-1.070816</td>\n",
       "    </tr>\n",
       "    <tr>\n",
       "      <th id=\"T_22512_level0_row1\" class=\"row_heading level0 row1\" >1</th>\n",
       "      <td id=\"T_22512_row1_col0\" class=\"data row1 col0\" >2.000000</td>\n",
       "      <td id=\"T_22512_row1_col1\" class=\"data row1 col1\" >-1.438713</td>\n",
       "      <td id=\"T_22512_row1_col2\" class=\"data row1 col2\" >0.564417</td>\n",
       "      <td id=\"T_22512_row1_col3\" class=\"data row1 col3\" >0.295722</td>\n",
       "      <td id=\"T_22512_row1_col4\" class=\"data row1 col4\" >-1.626404</td>\n",
       "      <td id=\"T_22512_row1_col5\" class=\"data row1 col5\" >0.219565</td>\n",
       "    </tr>\n",
       "    <tr>\n",
       "      <th id=\"T_22512_level0_row2\" class=\"row_heading level0 row2\" >2</th>\n",
       "      <td id=\"T_22512_row2_col0\" class=\"data row2 col0\" >3.000000</td>\n",
       "      <td id=\"T_22512_row2_col1\" class=\"data row2 col1\" >0.678805</td>\n",
       "      <td id=\"T_22512_row2_col2\" class=\"data row2 col2\" >1.889273</td>\n",
       "      <td id=\"T_22512_row2_col3\" class=\"data row2 col3\" >0.961538</td>\n",
       "      <td id=\"T_22512_row2_col4\" class=\"data row2 col4\" >0.104011</td>\n",
       "      <td id=\"T_22512_row2_col5\" class=\"data row2 col5\" >-0.481165</td>\n",
       "    </tr>\n",
       "    <tr>\n",
       "      <th id=\"T_22512_level0_row3\" class=\"row_heading level0 row3\" >3</th>\n",
       "      <td id=\"T_22512_row3_col0\" class=\"data row3 col0\" >4.000000</td>\n",
       "      <td id=\"T_22512_row3_col1\" class=\"data row3 col1\" >0.850229</td>\n",
       "      <td id=\"T_22512_row3_col2\" class=\"data row3 col2\" >1.453425</td>\n",
       "      <td id=\"T_22512_row3_col3\" class=\"data row3 col3\" >1.057737</td>\n",
       "      <td id=\"T_22512_row3_col4\" class=\"data row3 col4\" >0.165562</td>\n",
       "      <td id=\"T_22512_row3_col5\" class=\"data row3 col5\" >0.515018</td>\n",
       "    </tr>\n",
       "    <tr>\n",
       "      <th id=\"T_22512_level0_row4\" class=\"row_heading level0 row4\" >4</th>\n",
       "      <td id=\"T_22512_row4_col0\" class=\"data row4 col0\" >5.000000</td>\n",
       "      <td id=\"T_22512_row4_col1\" class=\"data row4 col1\" >-1.336936</td>\n",
       "      <td id=\"T_22512_row4_col2\" class=\"data row4 col2\" >0.562861</td>\n",
       "      <td id=\"T_22512_row4_col3\" class=\"data row4 col3\" >1.392855</td>\n",
       "      <td id=\"T_22512_row4_col4\" class=\"data row4 col4\" >-0.063328</td>\n",
       "      <td id=\"T_22512_row4_col5\" class=\"data row4 col5\" >0.121668</td>\n",
       "    </tr>\n",
       "    <tr>\n",
       "      <th id=\"T_22512_level0_row5\" class=\"row_heading level0 row5\" >5</th>\n",
       "      <td id=\"T_22512_row5_col0\" class=\"data row5 col0\" >6.000000</td>\n",
       "      <td id=\"T_22512_row5_col1\" class=\"data row5 col1\" >1.207603</td>\n",
       "      <td id=\"T_22512_row5_col2\" class=\"data row5 col2\" >-0.002040</td>\n",
       "      <td id=\"T_22512_row5_col3\" class=\"data row5 col3\" >1.627796</td>\n",
       "      <td id=\"T_22512_row5_col4\" class=\"data row5 col4\" >0.354493</td>\n",
       "      <td id=\"T_22512_row5_col5\" class=\"data row5 col5\" >1.037528</td>\n",
       "    </tr>\n",
       "    <tr>\n",
       "      <th id=\"T_22512_level0_row6\" class=\"row_heading level0 row6\" >6</th>\n",
       "      <td id=\"T_22512_row6_col0\" class=\"data row6 col0\" >7.000000</td>\n",
       "      <td id=\"T_22512_row6_col1\" class=\"data row6 col1\" >-0.385684</td>\n",
       "      <td id=\"T_22512_row6_col2\" class=\"data row6 col2\" >0.519818</td>\n",
       "      <td id=\"T_22512_row6_col3\" class=\"data row6 col3\" >1.686583</td>\n",
       "      <td id=\"T_22512_row6_col4\" class=\"data row6 col4\" >-1.325963</td>\n",
       "      <td id=\"T_22512_row6_col5\" class=\"data row6 col5\" >1.428984</td>\n",
       "    </tr>\n",
       "    <tr>\n",
       "      <th id=\"T_22512_level0_row7\" class=\"row_heading level0 row7\" >7</th>\n",
       "      <td id=\"T_22512_row7_col0\" class=\"data row7 col0\" >8.000000</td>\n",
       "      <td id=\"T_22512_row7_col1\" class=\"data row7 col1\" >-2.089354</td>\n",
       "      <td id=\"T_22512_row7_col2\" class=\"data row7 col2\" >-0.129820</td>\n",
       "      <td id=\"T_22512_row7_col3\" class=\"data row7 col3\" >0.631523</td>\n",
       "      <td id=\"T_22512_row7_col4\" class=\"data row7 col4\" >-0.586538</td>\n",
       "      <td id=\"T_22512_row7_col5\" class=\"data row7 col5\" >0.290720</td>\n",
       "    </tr>\n",
       "    <tr>\n",
       "      <th id=\"T_22512_level0_row8\" class=\"row_heading level0 row8\" >8</th>\n",
       "      <td id=\"T_22512_row8_col0\" class=\"data row8 col0\" >9.000000</td>\n",
       "      <td id=\"T_22512_row8_col1\" class=\"data row8 col1\" >1.264103</td>\n",
       "      <td id=\"T_22512_row8_col2\" class=\"data row8 col2\" >0.290035</td>\n",
       "      <td id=\"T_22512_row8_col3\" class=\"data row8 col3\" >-1.970288</td>\n",
       "      <td id=\"T_22512_row8_col4\" class=\"data row8 col4\" >0.803906</td>\n",
       "      <td id=\"T_22512_row8_col5\" class=\"data row8 col5\" >1.030550</td>\n",
       "    </tr>\n",
       "    <tr>\n",
       "      <th id=\"T_22512_level0_row9\" class=\"row_heading level0 row9\" >9</th>\n",
       "      <td id=\"T_22512_row9_col0\" class=\"data row9 col0\" >10.000000</td>\n",
       "      <td id=\"T_22512_row9_col1\" class=\"data row9 col1\" >0.118098</td>\n",
       "      <td id=\"T_22512_row9_col2\" class=\"data row9 col2\" >-0.021853</td>\n",
       "      <td id=\"T_22512_row9_col3\" class=\"data row9 col3\" >0.046841</td>\n",
       "      <td id=\"T_22512_row9_col4\" class=\"data row9 col4\" >-1.628753</td>\n",
       "      <td id=\"T_22512_row9_col5\" class=\"data row9 col5\" >-0.392361</td>\n",
       "    </tr>\n",
       "  </tbody>\n",
       "</table>\n"
      ],
      "text/plain": [
       "<pandas.io.formats.style.Styler at 0x7fa42220cf10>"
      ]
     },
     "execution_count": 72,
     "metadata": {},
     "output_type": "execute_result"
    }
   ],
   "source": [
    "# Apply these two functions to the dataframe; errors again in the text\n",
    "styled_df = dFrame.style.apply(highlightMax).apply(highlightMin).highlight_null(color='red')\n",
    "styled_df"
   ]
  },
  {
   "cell_type": "code",
   "execution_count": 74,
   "id": "44f9ffa8",
   "metadata": {},
   "outputs": [
    {
     "data": {
      "text/html": [
       "<style type=\"text/css\">\n",
       "#T_f4ecf_row0_col0, #T_f4ecf_row0_col5, #T_f4ecf_row1_col4, #T_f4ecf_row7_col1, #T_f4ecf_row7_col2, #T_f4ecf_row8_col3, #T_f4ecf_row9_col4 {\n",
       "  background-color: #f3f0f0;\n",
       "  color: #000000;\n",
       "}\n",
       "#T_f4ecf_row0_col1, #T_f4ecf_row2_col2, #T_f4ecf_row6_col3, #T_f4ecf_row6_col5, #T_f4ecf_row8_col4, #T_f4ecf_row9_col0 {\n",
       "  background-color: #ffc0cb;\n",
       "  color: #000000;\n",
       "}\n",
       "#T_f4ecf_row0_col2 {\n",
       "  background-color: #000000;\n",
       "  color: #f1f1f1;\n",
       "}\n",
       "#T_f4ecf_row0_col3 {\n",
       "  background-color: #f8dae0;\n",
       "  color: #000000;\n",
       "}\n",
       "#T_f4ecf_row0_col4 {\n",
       "  background-color: #f6e3e7;\n",
       "  color: #000000;\n",
       "}\n",
       "#T_f4ecf_row1_col0 {\n",
       "  background-color: #f4ebec;\n",
       "  color: #000000;\n",
       "}\n",
       "#T_f4ecf_row1_col1 {\n",
       "  background-color: #f5e7e9;\n",
       "  color: #000000;\n",
       "}\n",
       "#T_f4ecf_row1_col2 {\n",
       "  background-color: #f7dfe3;\n",
       "  color: #000000;\n",
       "}\n",
       "#T_f4ecf_row1_col3 {\n",
       "  background-color: #fad2d9;\n",
       "  color: #000000;\n",
       "}\n",
       "#T_f4ecf_row1_col5 {\n",
       "  background-color: #f9d7dd;\n",
       "  color: #000000;\n",
       "}\n",
       "#T_f4ecf_row2_col0, #T_f4ecf_row4_col1 {\n",
       "  background-color: #f5e5e8;\n",
       "  color: #000000;\n",
       "}\n",
       "#T_f4ecf_row2_col1, #T_f4ecf_row2_col3, #T_f4ecf_row5_col4 {\n",
       "  background-color: #fdc9d2;\n",
       "  color: #000000;\n",
       "}\n",
       "#T_f4ecf_row2_col4, #T_f4ecf_row7_col3 {\n",
       "  background-color: #fcced6;\n",
       "  color: #000000;\n",
       "}\n",
       "#T_f4ecf_row2_col5 {\n",
       "  background-color: #f6e5e8;\n",
       "  color: #000000;\n",
       "}\n",
       "#T_f4ecf_row3_col0, #T_f4ecf_row4_col2 {\n",
       "  background-color: #f7e0e4;\n",
       "  color: #000000;\n",
       "}\n",
       "#T_f4ecf_row3_col1 {\n",
       "  background-color: #fdc7d0;\n",
       "  color: #000000;\n",
       "}\n",
       "#T_f4ecf_row3_col2 {\n",
       "  background-color: #fccad3;\n",
       "  color: #000000;\n",
       "}\n",
       "#T_f4ecf_row3_col3, #T_f4ecf_row5_col5, #T_f4ecf_row8_col5 {\n",
       "  background-color: #fdc8d1;\n",
       "  color: #000000;\n",
       "}\n",
       "#T_f4ecf_row3_col4 {\n",
       "  background-color: #fccdd5;\n",
       "  color: #000000;\n",
       "}\n",
       "#T_f4ecf_row3_col5 {\n",
       "  background-color: #fbd1d9;\n",
       "  color: #000000;\n",
       "}\n",
       "#T_f4ecf_row4_col0, #T_f4ecf_row7_col4 {\n",
       "  background-color: #f8dbe0;\n",
       "  color: #000000;\n",
       "}\n",
       "#T_f4ecf_row4_col3 {\n",
       "  background-color: #fec4ce;\n",
       "  color: #000000;\n",
       "}\n",
       "#T_f4ecf_row4_col4, #T_f4ecf_row9_col1 {\n",
       "  background-color: #fbd1d8;\n",
       "  color: #000000;\n",
       "}\n",
       "#T_f4ecf_row4_col5 {\n",
       "  background-color: #f9d9de;\n",
       "  color: #000000;\n",
       "}\n",
       "#T_f4ecf_row5_col0, #T_f4ecf_row9_col3 {\n",
       "  background-color: #fad5dc;\n",
       "  color: #000000;\n",
       "}\n",
       "#T_f4ecf_row5_col1 {\n",
       "  background-color: #ffc2cc;\n",
       "  color: #000000;\n",
       "}\n",
       "#T_f4ecf_row5_col2 {\n",
       "  background-color: #f4edee;\n",
       "  color: #000000;\n",
       "}\n",
       "#T_f4ecf_row5_col3, #T_f4ecf_row8_col1 {\n",
       "  background-color: #ffc1cc;\n",
       "  color: #000000;\n",
       "}\n",
       "#T_f4ecf_row6_col0 {\n",
       "  background-color: #fbd0d7;\n",
       "  color: #000000;\n",
       "}\n",
       "#T_f4ecf_row6_col1 {\n",
       "  background-color: #f9d8de;\n",
       "  color: #000000;\n",
       "}\n",
       "#T_f4ecf_row6_col2 {\n",
       "  background-color: #f7e1e4;\n",
       "  color: #000000;\n",
       "}\n",
       "#T_f4ecf_row6_col4 {\n",
       "  background-color: #f4eaec;\n",
       "  color: #000000;\n",
       "}\n",
       "#T_f4ecf_row7_col0 {\n",
       "  background-color: #fccbd3;\n",
       "  color: #000000;\n",
       "}\n",
       "#T_f4ecf_row7_col5 {\n",
       "  background-color: #f9d6dc;\n",
       "  color: #000000;\n",
       "}\n",
       "#T_f4ecf_row8_col0 {\n",
       "  background-color: #fec5cf;\n",
       "  color: #000000;\n",
       "}\n",
       "#T_f4ecf_row8_col2 {\n",
       "  background-color: #f5e6e9;\n",
       "  color: #000000;\n",
       "}\n",
       "#T_f4ecf_row9_col2 {\n",
       "  background-color: #f3eeee;\n",
       "  color: #000000;\n",
       "}\n",
       "#T_f4ecf_row9_col5 {\n",
       "  background-color: #f6e3e6;\n",
       "  color: #000000;\n",
       "}\n",
       "</style>\n",
       "<table id=\"T_f4ecf\">\n",
       "  <thead>\n",
       "    <tr>\n",
       "      <th class=\"blank level0\" >&nbsp;</th>\n",
       "      <th id=\"T_f4ecf_level0_col0\" class=\"col_heading level0 col0\" >F</th>\n",
       "      <th id=\"T_f4ecf_level0_col1\" class=\"col_heading level0 col1\" >E</th>\n",
       "      <th id=\"T_f4ecf_level0_col2\" class=\"col_heading level0 col2\" >D</th>\n",
       "      <th id=\"T_f4ecf_level0_col3\" class=\"col_heading level0 col3\" >C</th>\n",
       "      <th id=\"T_f4ecf_level0_col4\" class=\"col_heading level0 col4\" >B</th>\n",
       "      <th id=\"T_f4ecf_level0_col5\" class=\"col_heading level0 col5\" >A</th>\n",
       "    </tr>\n",
       "  </thead>\n",
       "  <tbody>\n",
       "    <tr>\n",
       "      <th id=\"T_f4ecf_level0_row0\" class=\"row_heading level0 row0\" >0</th>\n",
       "      <td id=\"T_f4ecf_row0_col0\" class=\"data row0 col0\" >1.000000</td>\n",
       "      <td id=\"T_f4ecf_row0_col1\" class=\"data row0 col1\" >1.329212</td>\n",
       "      <td id=\"T_f4ecf_row0_col2\" class=\"data row0 col2\" >nan</td>\n",
       "      <td id=\"T_f4ecf_row0_col3\" class=\"data row0 col3\" >-0.316280</td>\n",
       "      <td id=\"T_f4ecf_row0_col4\" class=\"data row0 col4\" >-0.990810</td>\n",
       "      <td id=\"T_f4ecf_row0_col5\" class=\"data row0 col5\" >-1.070816</td>\n",
       "    </tr>\n",
       "    <tr>\n",
       "      <th id=\"T_f4ecf_level0_row1\" class=\"row_heading level0 row1\" >1</th>\n",
       "      <td id=\"T_f4ecf_row1_col0\" class=\"data row1 col0\" >2.000000</td>\n",
       "      <td id=\"T_f4ecf_row1_col1\" class=\"data row1 col1\" >-1.438713</td>\n",
       "      <td id=\"T_f4ecf_row1_col2\" class=\"data row1 col2\" >0.564417</td>\n",
       "      <td id=\"T_f4ecf_row1_col3\" class=\"data row1 col3\" >0.295722</td>\n",
       "      <td id=\"T_f4ecf_row1_col4\" class=\"data row1 col4\" >-1.626404</td>\n",
       "      <td id=\"T_f4ecf_row1_col5\" class=\"data row1 col5\" >0.219565</td>\n",
       "    </tr>\n",
       "    <tr>\n",
       "      <th id=\"T_f4ecf_level0_row2\" class=\"row_heading level0 row2\" >2</th>\n",
       "      <td id=\"T_f4ecf_row2_col0\" class=\"data row2 col0\" >3.000000</td>\n",
       "      <td id=\"T_f4ecf_row2_col1\" class=\"data row2 col1\" >0.678805</td>\n",
       "      <td id=\"T_f4ecf_row2_col2\" class=\"data row2 col2\" >1.889273</td>\n",
       "      <td id=\"T_f4ecf_row2_col3\" class=\"data row2 col3\" >0.961538</td>\n",
       "      <td id=\"T_f4ecf_row2_col4\" class=\"data row2 col4\" >0.104011</td>\n",
       "      <td id=\"T_f4ecf_row2_col5\" class=\"data row2 col5\" >-0.481165</td>\n",
       "    </tr>\n",
       "    <tr>\n",
       "      <th id=\"T_f4ecf_level0_row3\" class=\"row_heading level0 row3\" >3</th>\n",
       "      <td id=\"T_f4ecf_row3_col0\" class=\"data row3 col0\" >4.000000</td>\n",
       "      <td id=\"T_f4ecf_row3_col1\" class=\"data row3 col1\" >0.850229</td>\n",
       "      <td id=\"T_f4ecf_row3_col2\" class=\"data row3 col2\" >1.453425</td>\n",
       "      <td id=\"T_f4ecf_row3_col3\" class=\"data row3 col3\" >1.057737</td>\n",
       "      <td id=\"T_f4ecf_row3_col4\" class=\"data row3 col4\" >0.165562</td>\n",
       "      <td id=\"T_f4ecf_row3_col5\" class=\"data row3 col5\" >0.515018</td>\n",
       "    </tr>\n",
       "    <tr>\n",
       "      <th id=\"T_f4ecf_level0_row4\" class=\"row_heading level0 row4\" >4</th>\n",
       "      <td id=\"T_f4ecf_row4_col0\" class=\"data row4 col0\" >5.000000</td>\n",
       "      <td id=\"T_f4ecf_row4_col1\" class=\"data row4 col1\" >-1.336936</td>\n",
       "      <td id=\"T_f4ecf_row4_col2\" class=\"data row4 col2\" >0.562861</td>\n",
       "      <td id=\"T_f4ecf_row4_col3\" class=\"data row4 col3\" >1.392855</td>\n",
       "      <td id=\"T_f4ecf_row4_col4\" class=\"data row4 col4\" >-0.063328</td>\n",
       "      <td id=\"T_f4ecf_row4_col5\" class=\"data row4 col5\" >0.121668</td>\n",
       "    </tr>\n",
       "    <tr>\n",
       "      <th id=\"T_f4ecf_level0_row5\" class=\"row_heading level0 row5\" >5</th>\n",
       "      <td id=\"T_f4ecf_row5_col0\" class=\"data row5 col0\" >6.000000</td>\n",
       "      <td id=\"T_f4ecf_row5_col1\" class=\"data row5 col1\" >1.207603</td>\n",
       "      <td id=\"T_f4ecf_row5_col2\" class=\"data row5 col2\" >-0.002040</td>\n",
       "      <td id=\"T_f4ecf_row5_col3\" class=\"data row5 col3\" >1.627796</td>\n",
       "      <td id=\"T_f4ecf_row5_col4\" class=\"data row5 col4\" >0.354493</td>\n",
       "      <td id=\"T_f4ecf_row5_col5\" class=\"data row5 col5\" >1.037528</td>\n",
       "    </tr>\n",
       "    <tr>\n",
       "      <th id=\"T_f4ecf_level0_row6\" class=\"row_heading level0 row6\" >6</th>\n",
       "      <td id=\"T_f4ecf_row6_col0\" class=\"data row6 col0\" >7.000000</td>\n",
       "      <td id=\"T_f4ecf_row6_col1\" class=\"data row6 col1\" >-0.385684</td>\n",
       "      <td id=\"T_f4ecf_row6_col2\" class=\"data row6 col2\" >0.519818</td>\n",
       "      <td id=\"T_f4ecf_row6_col3\" class=\"data row6 col3\" >1.686583</td>\n",
       "      <td id=\"T_f4ecf_row6_col4\" class=\"data row6 col4\" >-1.325963</td>\n",
       "      <td id=\"T_f4ecf_row6_col5\" class=\"data row6 col5\" >1.428984</td>\n",
       "    </tr>\n",
       "    <tr>\n",
       "      <th id=\"T_f4ecf_level0_row7\" class=\"row_heading level0 row7\" >7</th>\n",
       "      <td id=\"T_f4ecf_row7_col0\" class=\"data row7 col0\" >8.000000</td>\n",
       "      <td id=\"T_f4ecf_row7_col1\" class=\"data row7 col1\" >-2.089354</td>\n",
       "      <td id=\"T_f4ecf_row7_col2\" class=\"data row7 col2\" >-0.129820</td>\n",
       "      <td id=\"T_f4ecf_row7_col3\" class=\"data row7 col3\" >0.631523</td>\n",
       "      <td id=\"T_f4ecf_row7_col4\" class=\"data row7 col4\" >-0.586538</td>\n",
       "      <td id=\"T_f4ecf_row7_col5\" class=\"data row7 col5\" >0.290720</td>\n",
       "    </tr>\n",
       "    <tr>\n",
       "      <th id=\"T_f4ecf_level0_row8\" class=\"row_heading level0 row8\" >8</th>\n",
       "      <td id=\"T_f4ecf_row8_col0\" class=\"data row8 col0\" >9.000000</td>\n",
       "      <td id=\"T_f4ecf_row8_col1\" class=\"data row8 col1\" >1.264103</td>\n",
       "      <td id=\"T_f4ecf_row8_col2\" class=\"data row8 col2\" >0.290035</td>\n",
       "      <td id=\"T_f4ecf_row8_col3\" class=\"data row8 col3\" >-1.970288</td>\n",
       "      <td id=\"T_f4ecf_row8_col4\" class=\"data row8 col4\" >0.803906</td>\n",
       "      <td id=\"T_f4ecf_row8_col5\" class=\"data row8 col5\" >1.030550</td>\n",
       "    </tr>\n",
       "    <tr>\n",
       "      <th id=\"T_f4ecf_level0_row9\" class=\"row_heading level0 row9\" >9</th>\n",
       "      <td id=\"T_f4ecf_row9_col0\" class=\"data row9 col0\" >10.000000</td>\n",
       "      <td id=\"T_f4ecf_row9_col1\" class=\"data row9 col1\" >0.118098</td>\n",
       "      <td id=\"T_f4ecf_row9_col2\" class=\"data row9 col2\" >-0.021853</td>\n",
       "      <td id=\"T_f4ecf_row9_col3\" class=\"data row9 col3\" >0.046841</td>\n",
       "      <td id=\"T_f4ecf_row9_col4\" class=\"data row9 col4\" >-1.628753</td>\n",
       "      <td id=\"T_f4ecf_row9_col5\" class=\"data row9 col5\" >-0.392361</td>\n",
       "    </tr>\n",
       "  </tbody>\n",
       "</table>\n"
      ],
      "text/plain": [
       "<pandas.io.formats.style.Styler at 0x7fa4219daa00>"
      ]
     },
     "execution_count": 74,
     "metadata": {},
     "output_type": "execute_result"
    }
   ],
   "source": [
    "colorMap = sns.light_palette(\"pink\", as_cmap=True)\n",
    "sns_style_df = dFrame.style.background_gradient(cmap=colorMap)\n",
    "sns_style_df"
   ]
  },
  {
   "cell_type": "markdown",
   "id": "15092fce",
   "metadata": {},
   "source": [
    "# SciPy"
   ]
  },
  {
   "cell_type": "markdown",
   "id": "f53849a9",
   "metadata": {},
   "source": [
    "SciPy is a scientific library for Python and is open source. We are going to use this library in the upcoming chapters. This library depends on the NumPy library, which provides an efficient n-dimensional array manipulation function. We are going to learn more about these libraries in the upcoming chapters."
   ]
  },
  {
   "cell_type": "markdown",
   "id": "91851829",
   "metadata": {},
   "source": [
    "# Matplotlib"
   ]
  },
  {
   "cell_type": "markdown",
   "id": "f77749ab",
   "metadata": {},
   "source": [
    "Matplotlib provides a huge library of customizable plots, along with a comprehensive set of backends. It can be utilized to create professional reporting applications, interactive analytical applications, complex dashboard applications, web/GUI applications, embedded views, and many more."
   ]
  }
 ],
 "metadata": {
  "kernelspec": {
   "display_name": "Python 3 (ipykernel)",
   "language": "python",
   "name": "python3"
  },
  "language_info": {
   "codemirror_mode": {
    "name": "ipython",
    "version": 3
   },
   "file_extension": ".py",
   "mimetype": "text/x-python",
   "name": "python",
   "nbconvert_exporter": "python",
   "pygments_lexer": "ipython3",
   "version": "3.9.13"
  }
 },
 "nbformat": 4,
 "nbformat_minor": 5
}
