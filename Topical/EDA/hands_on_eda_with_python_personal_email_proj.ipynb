{
 "cells": [
  {
   "cell_type": "markdown",
   "id": "93e91f44",
   "metadata": {},
   "source": [
    "# Topics for this chapter:"
   ]
  },
  {
   "cell_type": "markdown",
   "id": "806843fe",
   "metadata": {},
   "source": [
    "- Loading the dataset\n",
    "- Data transformation\n",
    "- Data analysis\n",
    "- Further reading recommendations"
   ]
  },
  {
   "cell_type": "code",
   "execution_count": 1,
   "id": "082a3e28",
   "metadata": {},
   "outputs": [],
   "source": [
    "import pandas as pd\n",
    "import numpy as np\n",
    "import matplotlib.pyplot as plt\n",
    "import seaborn as sns\n",
    "import mailbox"
   ]
  },
  {
   "cell_type": "code",
   "execution_count": null,
   "id": "f1263538-7206-495f-a87d-b83855d48c47",
   "metadata": {},
   "outputs": [],
   "source": [
    "mboxfile = "
   ]
  }
 ],
 "metadata": {
  "kernelspec": {
   "display_name": "Python 3 (ipykernel)",
   "language": "python",
   "name": "python3"
  },
  "language_info": {
   "codemirror_mode": {
    "name": "ipython",
    "version": 3
   },
   "file_extension": ".py",
   "mimetype": "text/x-python",
   "name": "python",
   "nbconvert_exporter": "python",
   "pygments_lexer": "ipython3",
   "version": "3.11.7"
  }
 },
 "nbformat": 4,
 "nbformat_minor": 5
}
