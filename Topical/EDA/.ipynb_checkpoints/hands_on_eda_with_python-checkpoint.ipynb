{
 "cells": [
  {
   "cell_type": "markdown",
   "id": "f6282cd4-0f27-4f84-9679-d763db3c87f9",
   "metadata": {},
   "source": [
    "# Introductory Material"
   ]
  },
  {
   "cell_type": "markdown",
   "id": "700c4aed-4978-4733-9525-62298cee0588",
   "metadata": {},
   "source": [
    "Data encompasses a collection of discrete objects, numbers, words, events, facts, measurements, observations, or even descriptions of things.\n",
    "\n",
    "## Making Sense of Data\n",
    "- Numerical Data\n",
    "> Discrete Data\n",
    "> \n",
    "> Continuous Data\n",
    "- Categorical Data\n",
    "> Dichotomous Variable\n",
    ">\n",
    "> Polytomous Variable\n",
    "- Measurement Scales\n",
    "> Nominal\n",
    "> \n",
    "> Ordinal\n",
    ">\n",
    "> Interval\n",
    ">\n",
    "> Ratio\n",
    "\n",
    "The \"why\" of EDA is to process data so that it becomes information and we can process that information so that it becomes knowledge.\n",
    "\n",
    "EDA fits into a broader set of activities called data analysis.\n",
    "\n",
    "The stages of data analysis are as follows:\n",
    "1. Data requirements\n",
    "2. Data collection\n",
    "3. Data processing\n",
    "4. Data cleaning\n",
    "5. EDA\n",
    "6. Modeling and algorithm\n",
    "7. Data product\n",
    "8. Communication\n",
    "\n",
    "## Primary Aim of EDA\n",
    "To examine what data can tell us before actually going through formal modeling or hypothesis formulation.\n",
    "\n",
    "## Significance of EDA\n",
    "EDA reveals the ground truth about the content without making any underlying assumptions.\n",
    "\n",
    "## Steps in EDA\n",
    "1. Problem definition\n",
    "2. Data preparation\n",
    "3. Data analysis\n",
    "4. Development and representation of results\n",
    "\n",
    "## Activities of EDA\n",
    "- Discover patterns\n",
    "- Spot anomalies\n",
    "- Test hypotheses\n",
    "- Check assumptions using statistical measures"
   ]
  },
  {
   "cell_type": "code",
   "execution_count": null,
   "id": "7a1ac489",
   "metadata": {},
   "outputs": [],
   "source": [
    "import pandas as pd\n",
    "import numpy as np\n",
    "import matplotlib.pyplot as plt"
   ]
  },
  {
   "cell_type": "markdown",
   "id": "d063344c-f166-4130-80ba-dab23c7a25b5",
   "metadata": {},
   "source": [
    "# NumPy"
   ]
  },
  {
   "cell_type": "markdown",
   "id": "a453524f-44ee-483c-bb67-3544f672d48c",
   "metadata": {},
   "source": [
    "## For creating different types of NumPy arrays"
   ]
  },
  {
   "cell_type": "code",
   "execution_count": null,
   "id": "d9bb407a",
   "metadata": {},
   "outputs": [],
   "source": [
    "my1DArray = np.array([1, 8, 27, 64])\n",
    "print(my1DArray)"
   ]
  },
  {
   "cell_type": "code",
   "execution_count": null,
   "id": "8614171e",
   "metadata": {},
   "outputs": [],
   "source": [
    "my2DArray = np.array([[1, 2, 3, 4], [2, 4, 9, 16], [4, 8, 18, 32]])\n",
    "print(my2DArray)"
   ]
  },
  {
   "cell_type": "code",
   "execution_count": null,
   "id": "1839482f",
   "metadata": {},
   "outputs": [],
   "source": [
    "my3DArray = np.array([[[1, 2, 3, 4], [5, 6, 7, 8]], [[1, 2, 3, 4], [9, 10, 11, 12]]])\n",
    "print(my3DArray)"
   ]
  },
  {
   "cell_type": "markdown",
   "id": "e3627cd6-5771-47f5-a76c-7755cfbe9d47",
   "metadata": {},
   "source": [
    "## For displaying basic information, such as the data type, shape, size, and strides of NumPy array"
   ]
  },
  {
   "cell_type": "code",
   "execution_count": null,
   "id": "56188940",
   "metadata": {},
   "outputs": [],
   "source": [
    "print(my2DArray.data)"
   ]
  },
  {
   "cell_type": "code",
   "execution_count": null,
   "id": "05bd930d",
   "metadata": {},
   "outputs": [],
   "source": [
    "print(my2DArray.shape)"
   ]
  },
  {
   "cell_type": "code",
   "execution_count": null,
   "id": "9c356b58",
   "metadata": {},
   "outputs": [],
   "source": [
    "print(my2DArray.dtype)"
   ]
  },
  {
   "cell_type": "code",
   "execution_count": null,
   "id": "20ba7be7",
   "metadata": {},
   "outputs": [],
   "source": [
    "print(my2DArray.strides)"
   ]
  },
  {
   "cell_type": "code",
   "execution_count": null,
   "id": "46fdb825-51dc-4e38-a00a-8e5b21e60386",
   "metadata": {},
   "outputs": [],
   "source": [
    "print(my3DArray.shape)"
   ]
  },
  {
   "cell_type": "markdown",
   "id": "f58d0497",
   "metadata": {},
   "source": [
    "### Strides\n",
    "Strides in NumPy are a way of indexing arrays that specify the number of bytes to jump to find the next element. It's important to know strides when doing computations with arrays because they provide a complete understanding of memory layout.\n",
    "\n",
    "For example, consider a 1D array of 8 numbers (i.e.,). The stride for this array is 8, which means that to find the next element, you need to jump 8 bytes forward in memory.\n",
    "\n",
    "Strides can also be used to index multidimensional arrays. For example, consider a 2D array of 4x4 numbers (i.e., [,,,]). The stride for the first dimension of this array is 32, which means that to find the next element in the first dimension, you need to jump 32 bytes forward in memory. The stride for the second dimension of this array is 8, which means that to find the next element in the second dimension, you need to jump 8 bytes forward in memory.\n",
    "\n",
    "Strides can be used to perform a variety of operations on arrays, such as slicing, indexing, and broadcasting. For example, to slice an array, you can use the stride to specify the number of elements to skip. To index an array, you can use the stride to specify the offset of the element you want to access. To broadcast an array, you can use the stride to specify the shape of the output array."
   ]
  },
  {
   "cell_type": "markdown",
   "id": "acf689e3-0ab4-42ce-834f-4d25ef9de1ce",
   "metadata": {},
   "source": [
    "## For creating an array using built-in NumPy functions"
   ]
  },
  {
   "cell_type": "code",
   "execution_count": null,
   "id": "2de2c448",
   "metadata": {},
   "outputs": [],
   "source": [
    "ones = np.ones((3,4))\n",
    "print(ones)"
   ]
  },
  {
   "cell_type": "code",
   "execution_count": null,
   "id": "d9305f26",
   "metadata": {},
   "outputs": [],
   "source": [
    "zeros = np.zeros((2,3,4))\n",
    "print(zeros)"
   ]
  },
  {
   "cell_type": "code",
   "execution_count": null,
   "id": "4a7b2019",
   "metadata": {},
   "outputs": [],
   "source": [
    "emptyArray = np.empty((3,2))\n",
    "print(emptyArray)"
   ]
  },
  {
   "cell_type": "code",
   "execution_count": null,
   "id": "44fb2e41",
   "metadata": {},
   "outputs": [],
   "source": [
    "fullArray = np.full((2,2),7)\n",
    "print(fullArray)"
   ]
  },
  {
   "cell_type": "code",
   "execution_count": null,
   "id": "e4e3ded6",
   "metadata": {},
   "outputs": [],
   "source": [
    "evenSpacedArray = np.arange(10,25,5)\n",
    "print(evenSpacedArray)"
   ]
  },
  {
   "cell_type": "code",
   "execution_count": null,
   "id": "273211af",
   "metadata": {},
   "outputs": [],
   "source": [
    "evenSpacedArray2 = np.linspace(0,2,9)\n",
    "print(evenSpacedArray2)"
   ]
  },
  {
   "cell_type": "markdown",
   "id": "1b160dcd-033c-4fe2-88aa-0d6bd65b42bd",
   "metadata": {},
   "source": [
    "## For NumPy arrays and file operations"
   ]
  },
  {
   "cell_type": "code",
   "execution_count": null,
   "id": "74b596bf",
   "metadata": {},
   "outputs": [],
   "source": [
    "# Save a numpy array into file\n",
    "x = np.arange(0.0,50.0,1.0)\n",
    "np.savetxt('data.out', x, delimiter=',')"
   ]
  },
  {
   "cell_type": "code",
   "execution_count": null,
   "id": "e3ca617d",
   "metadata": {},
   "outputs": [],
   "source": [
    "# Loading numpy array from text\n",
    "z = np.loadtxt('data.out', unpack=True)\n",
    "print(z)"
   ]
  },
  {
   "cell_type": "code",
   "execution_count": null,
   "id": "ae4665a5",
   "metadata": {},
   "outputs": [],
   "source": [
    "# Loading numpy array using genfromtxt method\n",
    "my_array2 = np.genfromtxt('data.out', skip_header=1, filling_values=-999)\n",
    "print(my_array2)"
   ]
  },
  {
   "cell_type": "markdown",
   "id": "ac91c857-ad52-4e5e-a8fd-6c432b643620",
   "metadata": {},
   "source": [
    "## For inspecting NumPy arrays"
   ]
  },
  {
   "cell_type": "code",
   "execution_count": null,
   "id": "33b95585",
   "metadata": {},
   "outputs": [],
   "source": [
    "# print the number of 'my2DArray`'s dimensions\n",
    "print(my2DArray.ndim)"
   ]
  },
  {
   "cell_type": "code",
   "execution_count": null,
   "id": "f03d7eb8-babc-42c5-9fa4-35aeb23ee899",
   "metadata": {},
   "outputs": [],
   "source": [
    "# print the number of `my2DArray`'s elements\n",
    "print(my2DArray.size)"
   ]
  },
  {
   "cell_type": "code",
   "execution_count": null,
   "id": "b41a8588-cc6f-4861-ab13-427ece17c23f",
   "metadata": {},
   "outputs": [],
   "source": [
    "# print information about `my2DArray`'s memory layout\n",
    "print(my2DArray.flags)"
   ]
  },
  {
   "cell_type": "code",
   "execution_count": null,
   "id": "a22c6e92-0cae-4882-a991-18518f2d93eb",
   "metadata": {},
   "outputs": [],
   "source": [
    "# print the length of one array element in bytes\n",
    "print(my2DArray.itemsize)"
   ]
  },
  {
   "cell_type": "code",
   "execution_count": null,
   "id": "7291a762-30ec-44d0-a47a-6bcaf6ff0c5d",
   "metadata": {},
   "outputs": [],
   "source": [
    "# print the total consumed bytes by `my2DArray`'s elements\n",
    "print(my2DArray.nbytes)"
   ]
  },
  {
   "cell_type": "markdown",
   "id": "82c98f19-650b-47c9-9c26-23d675b6b376",
   "metadata": {},
   "source": [
    "## Broadcasting is a mechanism that permits NumPy to operate with arrays of different shapes when performing arithmetic operations"
   ]
  },
  {
   "cell_type": "code",
   "execution_count": null,
   "id": "3d03b857-15f2-4310-82f5-89cc38ac3de8",
   "metadata": {},
   "outputs": [],
   "source": [
    "# Rule 1: Two dimensions are operatable if they are equal\n",
    "# Create an array of two dimensions\n",
    "A = np.ones((6, 8))\n",
    "# Shape of A\n",
    "print(A.shape)"
   ]
  },
  {
   "cell_type": "code",
   "execution_count": null,
   "id": "439d16ca-f460-41f3-a13d-f9ca3fb6c74f",
   "metadata": {},
   "outputs": [],
   "source": [
    "# Create another array\n",
    "B = np.random.random((6, 8))\n",
    "# Shape of B\n",
    "print(B.shape)"
   ]
  },
  {
   "cell_type": "code",
   "execution_count": null,
   "id": "b522585f-245d-421d-97d5-4c193318e29e",
   "metadata": {},
   "outputs": [],
   "source": [
    "# Sum of A and B, here the shape of both matrices is the same\n",
    "print(A+B)"
   ]
  },
  {
   "cell_type": "code",
   "execution_count": null,
   "id": "15d4e852-8efb-4ecc-a2a1-0b19f939c94f",
   "metadata": {},
   "outputs": [],
   "source": [
    "# Rule 2: Two dimensions are also compatible when one of the dimensions of the array is 1. \n",
    "# Initialize `x`\n",
    "x = np.ones((3, 4))\n",
    "print(x)"
   ]
  },
  {
   "cell_type": "code",
   "execution_count": null,
   "id": "449d3a18-5a89-4fcc-af59-d77766be3c92",
   "metadata": {},
   "outputs": [],
   "source": [
    "# Check shape of `x`\n",
    "print(x.shape)"
   ]
  },
  {
   "cell_type": "code",
   "execution_count": null,
   "id": "b0101a83-bb21-4eb3-92a4-2fd9cb6f37a0",
   "metadata": {},
   "outputs": [],
   "source": [
    "# Initialize `y`\n",
    "y = np.arange(4)\n",
    "print(y)"
   ]
  },
  {
   "cell_type": "code",
   "execution_count": null,
   "id": "48693580-bc42-47ff-b28d-34f3d9e21bf1",
   "metadata": {},
   "outputs": [],
   "source": [
    "# Check shape of `y`\n",
    "print(y.shape)"
   ]
  },
  {
   "cell_type": "code",
   "execution_count": null,
   "id": "df391647-66ac-4db9-9246-8d10cb39ec02",
   "metadata": {},
   "outputs": [],
   "source": [
    "# Subtract `x` and `y`\n",
    "print(x - y)"
   ]
  },
  {
   "cell_type": "code",
   "execution_count": null,
   "id": "ee24cdde-1bb2-4021-b2df-970c0233d43e",
   "metadata": {},
   "outputs": [],
   "source": [
    "# Rule 3: Arrays can be broadcast together if they are compatible in all dimensions\n",
    "x = np.ones((6, 8))\n",
    "y = np.random.random((10, 1, 8))\n",
    "print(x + y)"
   ]
  },
  {
   "cell_type": "markdown",
   "id": "deb4ea31-2407-425a-aceb-592dd827bf71",
   "metadata": {},
   "source": [
    "Why did the above work?  It comes down to the following:\n",
    "\n",
    "The dimensions are compared from the last dimension to the first.\n",
    "\n",
    "- Compare x's last dimension (8) with y's last dimension (8): They are equal.\n",
    "- Compare x's second-to-last dimension (6) with y's second-to-last dimension (1): One of them is 1, so broadcasting is possible.\n",
    "- y has an additional dimension at the front (10) which x lacks, so x's shape is implicitly extended with a new leading dimension of size 1."
   ]
  },
  {
   "cell_type": "markdown",
   "id": "2cf0168e-ec25-4adb-9497-e0871dee7661",
   "metadata": {},
   "source": [
    "## For seeing NumPy mathematics at work"
   ]
  },
  {
   "cell_type": "code",
   "execution_count": null,
   "id": "58aaffde-d007-4c08-8c20-7de1da693d51",
   "metadata": {},
   "outputs": [],
   "source": [
    "# Basic operations (+, -, *, /, %)\n",
    "x = np.array([[1, 2, 3], [2, 3, 4]])\n",
    "y = np.array([[1, 4, 9], [2, 3, -2]])"
   ]
  },
  {
   "cell_type": "code",
   "execution_count": null,
   "id": "d56f0cbf-f52a-407a-abaa-a6b9b26164ad",
   "metadata": {},
   "outputs": [],
   "source": [
    "# Add the two arrays\n",
    "add = np.add(x, y)\n",
    "print(add)"
   ]
  },
  {
   "cell_type": "code",
   "execution_count": null,
   "id": "db9fb157-3a51-41e6-8654-0e033e016c19",
   "metadata": {},
   "outputs": [],
   "source": [
    "# Subtract the two arrays\n",
    "sub = np.subtract(x, y)\n",
    "print(sub)"
   ]
  },
  {
   "cell_type": "code",
   "execution_count": null,
   "id": "8a43060f-7214-44d4-bd00-1036bc14646f",
   "metadata": {},
   "outputs": [],
   "source": [
    "# Multiply the two arrays\n",
    "mul = np.multiply(x, y)\n",
    "print(mul)"
   ]
  },
  {
   "cell_type": "code",
   "execution_count": null,
   "id": "7a50ad2e-3847-45ec-b524-29919584c435",
   "metadata": {},
   "outputs": [],
   "source": [
    "# Divide the two arrays\n",
    "div = np.divide(x, y)\n",
    "print(div)"
   ]
  },
  {
   "cell_type": "code",
   "execution_count": null,
   "id": "00948012-82cd-4200-9f08-8be312c036bf",
   "metadata": {},
   "outputs": [],
   "source": [
    "# Calculate the remainder of x and y\n",
    "rem = np.remainder(x, y)\n",
    "print(rem)"
   ]
  },
  {
   "cell_type": "markdown",
   "id": "07202d1e-4453-4ec3-b7fd-d42e6459128d",
   "metadata": {},
   "source": [
    "## Create a subset and slice an array using an index"
   ]
  },
  {
   "cell_type": "code",
   "execution_count": null,
   "id": "7a76aad6-ab09-4e11-a471-2c52cd3db397",
   "metadata": {},
   "outputs": [],
   "source": [
    "x = np.array([10, 20, 30, 40, 50])"
   ]
  },
  {
   "cell_type": "code",
   "execution_count": null,
   "id": "744b82bc-5ef7-4f57-93cf-85fd68f9e1a6",
   "metadata": {},
   "outputs": [],
   "source": [
    "# Select items at index 0 and 1\n",
    "print(x[0:2])"
   ]
  },
  {
   "cell_type": "code",
   "execution_count": null,
   "id": "95a5abc2-7646-49fa-9c28-bafcc2dfb175",
   "metadata": {},
   "outputs": [],
   "source": [
    "# Select item at row 0 and 1 and column 1 from 2D array\n",
    "y = np.array([[1, 2, 3, 4], [9, 10, 11, 12]])\n",
    "print(y[0:2,1])"
   ]
  },
  {
   "cell_type": "code",
   "execution_count": null,
   "id": "ef581abf-0179-44ac-a944-7e8792a395ec",
   "metadata": {},
   "outputs": [],
   "source": [
    "# Specifying conditions\n",
    "biggerThan2 = (y >= 2)\n",
    "print(y[biggerThan2])"
   ]
  },
  {
   "cell_type": "markdown",
   "id": "7a7d0a8a-909e-4e1b-82c7-658d9efd0920",
   "metadata": {},
   "source": [
    "# Pandas"
   ]
  },
  {
   "cell_type": "code",
   "execution_count": null,
   "id": "b73788b7-49a8-4c00-88ff-9d818d5d49f9",
   "metadata": {},
   "outputs": [],
   "source": []
  }
 ],
 "metadata": {
  "kernelspec": {
   "display_name": "Python 3 (ipykernel)",
   "language": "python",
   "name": "python3"
  },
  "language_info": {
   "codemirror_mode": {
    "name": "ipython",
    "version": 3
   },
   "file_extension": ".py",
   "mimetype": "text/x-python",
   "name": "python",
   "nbconvert_exporter": "python",
   "pygments_lexer": "ipython3",
   "version": "3.11.7"
  }
 },
 "nbformat": 4,
 "nbformat_minor": 5
}
