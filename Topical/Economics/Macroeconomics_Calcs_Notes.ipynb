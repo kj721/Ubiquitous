{
 "cells": [
  {
   "cell_type": "code",
   "execution_count": 28,
   "id": "04f7041e",
   "metadata": {},
   "outputs": [],
   "source": [
    "import pandas as pd\n",
    "import numpy as np\n",
    "import matplotlib.pyplot as plt\n",
    "import seaborn as sns\n",
    "import math\n",
    "import random"
   ]
  },
  {
   "cell_type": "markdown",
   "id": "0700232d",
   "metadata": {},
   "source": [
    "# Lecture 1: Viewing the world through a new lens"
   ]
  },
  {
   "cell_type": "markdown",
   "id": "61634b1a",
   "metadata": {},
   "source": [
    "Broadly, Economics offers two lenses: (1) Macroeconomics and (2) Microeconomics.\n",
    "\n",
    "Microeconomics looks at the production decisions of individual firms (and individuals).\n",
    "\n",
    "Macroeconomics looks at the production decisions of entire economies.\n",
    "\n",
    "Macroeconomists study the world through the lenses of:\n",
    "- Economic growth (GDP)\n",
    "- Economic fluctuations (business cycle, peak, trough, recession, expansion)\n",
    "- Inflation\n",
    "- Interest rates\n",
    "- Foreign exchange rates\n",
    "- Relationships between variables, viewed through economic models"
   ]
  },
  {
   "cell_type": "markdown",
   "id": "8927c9a0",
   "metadata": {},
   "source": [
    "# Lecture 2: GDP: The economy in a single number?"
   ]
  },
  {
   "cell_type": "markdown",
   "id": "409ef205",
   "metadata": {},
   "source": [
    "The technical definition of GDP is the value of all newly produced goods and services in the domestic economy during a specific time period."
   ]
  },
  {
   "cell_type": "markdown",
   "id": "a83ef8da",
   "metadata": {},
   "source": [
    "In contrast to GNP, which is a measure of output produced by domestic entities, regardless of where the production took place."
   ]
  },
  {
   "cell_type": "markdown",
   "id": "1c2f0712",
   "metadata": {},
   "source": [
    "GDP excludes,\n",
    "- Non-market production (household chores, unpaid child care, etc.) = USD 4 trillion in 2013, grown at 3.4% per year\n",
    "- Shadow market product (paid, but not reported)\n",
    "- Impact of prices on value of goods produced\n",
    "- Changes in quality (computer circa 1984 and now), obsolescence (Walkman), introduction of new goods (iPhone)\n",
    "\n",
    "Adjusted for,\n",
    "- People who own their homes mortgage payments impact numbers as someone paying rent would affect the numbers"
   ]
  },
  {
   "cell_type": "markdown",
   "id": "fb6b9a0d",
   "metadata": {},
   "source": [
    "## Calculating GDP"
   ]
  },
  {
   "cell_type": "markdown",
   "id": "1f9f33f2",
   "metadata": {},
   "source": [
    "$GDP = C + I + G + NX$\n",
    "\n",
    "Where:\n",
    "\n",
    "C = consumption (goods, services)\n",
    "\n",
    "I = investment (the amount of new capital (machines, equipment, raw materials, etc.) that firms add to the existing capital stock, which is the most volatile of the components of GDP\n",
    "\n",
    "G = government expenditure (federal, state, local)\n",
    "\n",
    "NX = net exports, where NX = Exports - Imports"
   ]
  },
  {
   "cell_type": "markdown",
   "id": "06ef7a5e",
   "metadata": {},
   "source": [
    "### Real GDP"
   ]
  },
  {
   "cell_type": "markdown",
   "id": "9897afde",
   "metadata": {},
   "source": [
    "To control for price increases or decreases we can adjust the nominal GDP to be fixed to a reference year, or base year, to look at the increase out output without regard to changes in prices that could either overstate or understate the increase or decrease in output."
   ]
  },
  {
   "cell_type": "markdown",
   "id": "121b4d32",
   "metadata": {},
   "source": [
    "## Comparing Economies"
   ]
  },
  {
   "cell_type": "markdown",
   "id": "7e6aa56d",
   "metadata": {},
   "source": [
    "Two key challenges:\n",
    "- Converting to one of the two currencies for comparison is fraught due to exchange rate fluctuations\n",
    "- Price of the same good in two countries can be very different (haircut in US vs Sri Lanka)"
   ]
  },
  {
   "cell_type": "markdown",
   "id": "50132f43",
   "metadata": {},
   "source": [
    "### Purchasing Price Parity"
   ]
  },
  {
   "cell_type": "markdown",
   "id": "beca2ed0",
   "metadata": {},
   "source": [
    "- You can use one set of prices (base country prices) to value goods produced in different countries.\n",
    "- You can then compare on the basis of population to get to GDP per capita at PPP."
   ]
  },
  {
   "cell_type": "markdown",
   "id": "9bab8062",
   "metadata": {},
   "source": [
    "## Limitations of GDP"
   ]
  },
  {
   "cell_type": "markdown",
   "id": "a275c2c5",
   "metadata": {},
   "source": [
    "- Even a real GDP (adjusted for inflation) at PPP (adjusted for price differences between countries) per capita (adjusted for population) still has critical limitations in comparing the relative wealth of nations.\n",
    "- The distribution of the wealth and income created from the output of a country is not uniform.  \n",
    "- Income inequality, therefore, limits the degree to which Real GDP per capita on a PPP basis really tells us about the relative wealth of nations on a per person basis.\n",
    "- High real GDP of a nation is not synonymous with high quality of life.\n",
    "- Wear and tear (a la net domestic product where wear and tear on capital stock is accounted for) on people and the environment is not accounted for in GDP calculations.\n",
    "- UN's Human Development index and Inclusive Wealth Indiex are efforts to look at factors like quality of life and equality.\n",
    "- These UN indices are viewed largely as adjustments or complements to GDP."
   ]
  },
  {
   "cell_type": "markdown",
   "id": "3d87c22a",
   "metadata": {},
   "source": [
    "# Lecture 3: Prices: How to quantify the dangers of inflation"
   ]
  },
  {
   "cell_type": "markdown",
   "id": "32c0c1dc",
   "metadata": {},
   "source": [
    "Inflation is better thought of as a symptom rather than the disease itself.\n",
    "\n",
    "Think of blood pressure: too low is bad and too high is bad.  But what is causing the BP to be too low or too high.\n",
    "\n",
    "Inflation relies on measure price levels with a basket of goods that are tracked over time and are in an index with a base year."
   ]
  },
  {
   "cell_type": "markdown",
   "id": "74e95bb1",
   "metadata": {},
   "source": [
    "$\\text{CPI in Current Period}=\\left (\\frac{\\text{Cost of CPI Basket in Current Period}}{\\text{Cost of CPI Basket in Base Year}}\\right) \\times 100$"
   ]
  },
  {
   "cell_type": "markdown",
   "id": "74254517",
   "metadata": {},
   "source": [
    "Base year for the current CPI is 1983."
   ]
  },
  {
   "cell_type": "markdown",
   "id": "4b482089",
   "metadata": {},
   "source": [
    "The basket of goods is made up of the following:\n",
    "- Housing and utilities (38%)*\n",
    "- Energy and transport (23%)\n",
    "- Food and beverage (14%)\n",
    "- Medical care (8%)*\n",
    "- Education and communication (6%)*\n",
    "- Recreation (5%)*\n",
    "- Apparel (3%)*\n",
    "- Other goods and services (3%)*\n",
    "\n",
    "(*) \"Core\" CPI (excluding food and energy)"
   ]
  },
  {
   "cell_type": "code",
   "execution_count": 29,
   "id": "f1dfe3ac",
   "metadata": {},
   "outputs": [
    {
     "name": "stdout",
     "output_type": "stream",
     "text": [
      "The cost of tuition 2020 increased 5.0 times and the percent increase was 400.0%.\n"
     ]
    }
   ],
   "source": [
    "# compare tuition\n",
    "tuition_1985 = 10000\n",
    "tuition_2020 = 50000\n",
    "\n",
    "ratio = (tuition_2020) / (tuition_1985)\n",
    "pct_incr = (tuition_2020 - tuition_1985) / tuition_1985\n",
    "print(f\"The cost of tuition 2020 increased {ratio:.1f} times and the percent increase was {pct_incr:.1%}.\")"
   ]
  },
  {
   "cell_type": "markdown",
   "id": "936a89a6",
   "metadata": {},
   "source": [
    "Is this an accurate depiction of the increase in the cost of tuition?"
   ]
  },
  {
   "cell_type": "code",
   "execution_count": 30,
   "id": "53530141",
   "metadata": {},
   "outputs": [
    {
     "name": "stdout",
     "output_type": "stream",
     "text": [
      "The minimum wage in 2020 increased 4.5 times and the percent increase was 353.1%.\n"
     ]
    }
   ],
   "source": [
    "# look at differences in minimum wage\n",
    "min_wage_1970 = 1.60\n",
    "min_wage_2020 = 7.25\n",
    "\n",
    "min_wage_ratio = (min_wage_2020) / (min_wage_1970)\n",
    "min_wage_pct_incr = (min_wage_2020 - min_wage_1970) / min_wage_1970\n",
    "print(f\"The minimum wage in 2020 increased {min_wage_ratio:.1f} times and the percent increase was \\\n",
    "{min_wage_pct_incr:.1%}.\")"
   ]
  },
  {
   "cell_type": "markdown",
   "id": "00aea398",
   "metadata": {},
   "source": [
    "Is this an accurate depiction of the increase in minimum wage?"
   ]
  },
  {
   "cell_type": "code",
   "execution_count": 31,
   "id": "65408318",
   "metadata": {},
   "outputs": [
    {
     "name": "stdout",
     "output_type": "stream",
     "text": [
      "The current value of $10,000 in 2020 is $23,998.\n"
     ]
    }
   ],
   "source": [
    "# calculating the 'real' increase in tuition\n",
    "cpi_1985 = 106.3\n",
    "cpi_2020 = 255.1\n",
    "\n",
    "# what is the 2020 value of $10,000 in 1985?\n",
    "curr_val_1985_tuition = ((tuition_1985 / cpi_1985)) * cpi_2020\n",
    "print(f\"The current value of $10,000 in 2020 is ${curr_val_1985_tuition:,.0f}.\")"
   ]
  },
  {
   "cell_type": "code",
   "execution_count": 32,
   "id": "e19e8254",
   "metadata": {},
   "outputs": [
    {
     "name": "stdout",
     "output_type": "stream",
     "text": [
      "The 'real' increase in tuition costs from 1985 to 2020 is 2.4 times.\n"
     ]
    }
   ],
   "source": [
    "real_ratio_tuition = curr_val_1985_tuition / tuition_1985\n",
    "print(f\"The 'real' increase in tuition costs from 1985 to 2020 is {real_ratio_tuition:.1f} times.\")"
   ]
  },
  {
   "cell_type": "code",
   "execution_count": 33,
   "id": "f58d81cf",
   "metadata": {},
   "outputs": [
    {
     "name": "stdout",
     "output_type": "stream",
     "text": [
      "The 'real' increase in the minimum wage from 1970 to 2020 was 10.6 times compared to a nominal increase of 4.5 times.\n"
     ]
    }
   ],
   "source": [
    "# calculating the 'real' increase in minimum wage\n",
    "cpi_1970 = 38.6\n",
    "\n",
    "real_ratio_min_wage = ((min_wage_1970 / cpi_1970)) * cpi_2020\n",
    "print(f\"The 'real' increase in the minimum wage from 1970 to 2020 was {real_ratio_min_wage:.1f} times \\\n",
    "compared to a nominal increase of {min_wage_ratio:.1f} times.\")"
   ]
  },
  {
   "cell_type": "markdown",
   "id": "2900ed8f",
   "metadata": {},
   "source": [
    "The minimum wage figure might give some insight into the rise of Donald Trump and his band of populists."
   ]
  },
  {
   "cell_type": "code",
   "execution_count": 34,
   "id": "4a2e6102",
   "metadata": {},
   "outputs": [
    {
     "name": "stdout",
     "output_type": "stream",
     "text": [
      "The actual amount to ensure an equivalent amount to $50,000 with increased inflation is $56,818.\n"
     ]
    }
   ],
   "source": [
    "# sometimes the calculation can be done in reverse to ensure purchasing power parity going forward\n",
    "cpi_retire_year = 220\n",
    "cpi_retire_year_plus_5 = 250\n",
    "pension_amt = 50000\n",
    "req_amt = (pension_amt / cpi_retire_year) * cpi_retire_year_plus_5\n",
    "print(f\"The actual amount to ensure an equivalent amount to $50,000 with increased inflation is ${req_amt:,.0f}.\")"
   ]
  },
  {
   "cell_type": "markdown",
   "id": "d0f78412",
   "metadata": {},
   "source": [
    "This is how pension payments, social security payments and interest payments on \"TIPs\" are calculated."
   ]
  },
  {
   "cell_type": "markdown",
   "id": "6b4a2ae4",
   "metadata": {},
   "source": [
    "$\\pi_{a} = \\text{Annual Inflation} = \\frac{\\text{Price Level in July 2022 - Price Level in July 2021}}{\\text{Price Level in July 2021}}$"
   ]
  },
  {
   "cell_type": "markdown",
   "id": "fdc32949",
   "metadata": {},
   "source": [
    "$\\pi_{m} = \\text{Monthly Inflation} = \\frac{\\text{Price Level in July 2022 - Price Level in June 2022}}{\\text{Price Level in June 2022}}$"
   ]
  },
  {
   "cell_type": "markdown",
   "id": "a4b23fcd",
   "metadata": {},
   "source": [
    "Were we to use the monthly inflation figure to say that if inflation continued at this rate for the rest of the year it would amount $x$ percent on an annualized basis."
   ]
  },
  {
   "cell_type": "markdown",
   "id": "aa9004c4",
   "metadata": {},
   "source": [
    "This must include compounding, however, so it is not just $\\pi_{m}\\times 12$.  See below."
   ]
  },
  {
   "cell_type": "code",
   "execution_count": 35,
   "id": "60c5619f",
   "metadata": {},
   "outputs": [
    {
     "name": "stdout",
     "output_type": "stream",
     "text": [
      "The annualized rate of month over month, from June to July, inflation rate of 6.2% is 107.0%.\n"
     ]
    }
   ],
   "source": [
    "# calculate monthly inflation annualized\n",
    "jul_2022_cpi = 255\n",
    "jun_2022_cpi = 240\n",
    "m_rate = (jul_2022_cpi - jun_2022_cpi) / jun_2022_cpi\n",
    "annualized_rate = ((1 + m_rate)**12)-1\n",
    "print(f\"The annualized rate of month over month, from June to July, inflation rate of {m_rate:.1%} is {annualized_rate:.1%}.\")"
   ]
  },
  {
   "cell_type": "markdown",
   "id": "be3da0f1",
   "metadata": {},
   "source": [
    "That would be bad.  Very bad."
   ]
  },
  {
   "cell_type": "markdown",
   "id": "a715c92d",
   "metadata": {},
   "source": [
    "## Alternative Inflation Calculations"
   ]
  },
  {
   "cell_type": "markdown",
   "id": "8929039c",
   "metadata": {},
   "source": [
    "### Personal Consumption Expenditures (PCE) Deflator"
   ]
  },
  {
   "cell_type": "markdown",
   "id": "d6fd7ce0",
   "metadata": {},
   "source": [
    "$\\text{PCE Deflator} = \\left (\\frac{\\text{Consumption Portion of Nominal GDP}}{\\text{Consumption Portion of Real GDP}}\\right) \\times 100$"
   ]
  },
  {
   "cell_type": "markdown",
   "id": "f15370f0",
   "metadata": {},
   "source": [
    "A key difference between the CPI and the PCE is that CPI constructs a basket of goods in the reference year and then calculates the increase over time of that basket.  The PCE goes the other way, it calculates the cost of the current period's basket and then calculates what that would have cost in the base year.\n",
    "\n",
    "This means that the PCE is a better indication of what people are buying now.  People can change what they buy based on prices to substitutes.  The PCE will capture this, but CPI will overestimate spend on a given good."
   ]
  },
  {
   "cell_type": "markdown",
   "id": "0011654a",
   "metadata": {},
   "source": [
    "The Fed prefers the PCE.  But it is quarterly.  CPI is monthly."
   ]
  },
  {
   "cell_type": "markdown",
   "id": "3782f18f",
   "metadata": {},
   "source": [
    "CPI and PCE track similar paths over time."
   ]
  },
  {
   "cell_type": "markdown",
   "id": "e4e4f8d6",
   "metadata": {},
   "source": [
    "PPI tracks the costs to producers and therefore shows where prices may be headed."
   ]
  },
  {
   "cell_type": "markdown",
   "id": "278da546",
   "metadata": {},
   "source": [
    "Core CPI excludes food and energy."
   ]
  },
  {
   "cell_type": "markdown",
   "id": "254686f4",
   "metadata": {},
   "source": [
    "Inflation erodes purchasing power for people on fixed income and the poorest in a country."
   ]
  },
  {
   "cell_type": "markdown",
   "id": "3d372946",
   "metadata": {},
   "source": [
    "Inflation helps borrowers and hurts creditors."
   ]
  },
  {
   "cell_type": "markdown",
   "id": "742c4072",
   "metadata": {},
   "source": [
    "Inflation creates uncertainty for those who have to worry about being on the losing side of inflation.  People don't enter into long-run relationships loans, labor contracts, etc."
   ]
  },
  {
   "cell_type": "markdown",
   "id": "51455f9c",
   "metadata": {},
   "source": [
    "# Lecture 4: Unemployment: Who wants to work?"
   ]
  },
  {
   "cell_type": "code",
   "execution_count": null,
   "id": "f11c2361",
   "metadata": {},
   "outputs": [],
   "source": []
  }
 ],
 "metadata": {
  "kernelspec": {
   "display_name": "Python 3 (ipykernel)",
   "language": "python",
   "name": "python3"
  },
  "language_info": {
   "codemirror_mode": {
    "name": "ipython",
    "version": 3
   },
   "file_extension": ".py",
   "mimetype": "text/x-python",
   "name": "python",
   "nbconvert_exporter": "python",
   "pygments_lexer": "ipython3",
   "version": "3.9.13"
  }
 },
 "nbformat": 4,
 "nbformat_minor": 5
}
