{
 "cells": [
  {
   "cell_type": "code",
   "execution_count": 1,
   "id": "31640fef-4490-47ac-9721-04ee0281e50d",
   "metadata": {},
   "outputs": [
    {
     "data": {
      "application/vnd.jupyter.widget-view+json": {
       "model_id": "870bb3b2c45a4a12875676324da9fb02",
       "version_major": 2,
       "version_minor": 0
      },
      "text/plain": [
       "interactive(children=(IntSlider(value=100, description='a', max=150, min=50, step=5), FloatSlider(value=1.2000…"
      ]
     },
     "metadata": {},
     "output_type": "display_data"
    }
   ],
   "source": [
    "import numpy as np\n",
    "import matplotlib.pyplot as plt\n",
    "from ipywidgets import interact\n",
    "\n",
    "# Demand and Supply functions\n",
    "def demand_curve(P, a, b):\n",
    "    return a - b * P\n",
    "\n",
    "def supply_curve(P, c, d):\n",
    "    return c + d * P\n",
    "\n",
    "# Plotting function\n",
    "def plot_supply_demand(a, b, c, d):\n",
    "    # Price range\n",
    "    P = np.linspace(0, 100, 100)\n",
    "    \n",
    "    # Calculate demand and supply\n",
    "    Q_d = demand_curve(P, a, b)\n",
    "    Q_s = supply_curve(P, c, d)\n",
    "    \n",
    "    # Equilibrium where Q_d = Q_s\n",
    "    eq_price = (a - c) / (b + d)\n",
    "    eq_quantity = demand_curve(eq_price, a, b)\n",
    "    \n",
    "    # Plot\n",
    "    plt.figure(figsize=(8, 6))\n",
    "    plt.plot(Q_d, P, label='Demand Curve', color='blue')\n",
    "    plt.plot(Q_s, P, label='Supply Curve', color='orange')\n",
    "    plt.axhline(y=eq_price, color='gray', linestyle='--')\n",
    "    plt.axvline(x=eq_quantity, color='gray', linestyle='--')\n",
    "    \n",
    "    plt.title('Supply and Demand Curves')\n",
    "    plt.xlabel('Quantity')\n",
    "    plt.ylabel('Price')\n",
    "    plt.xlim([0, max(Q_d.max(), Q_s.max())])\n",
    "    plt.ylim([0, P.max()])\n",
    "    \n",
    "    # Labels for Equilibrium\n",
    "    plt.text(eq_quantity + 1, eq_price + 1, f'Equilibrium\\nP: {round(eq_price, 2)}, Q: {round(eq_quantity, 2)}', \n",
    "             verticalalignment='center', horizontalalignment='center', \n",
    "             bbox=dict(facecolor='white', alpha=0.5))\n",
    "    \n",
    "    plt.legend()\n",
    "    plt.grid(True)\n",
    "    plt.show()\n",
    "\n",
    "# Interactive function to adjust parameters\n",
    "def interactive_model():\n",
    "    interact(plot_supply_demand, \n",
    "             a=(50, 150, 5),   # Demand curve intercept\n",
    "             b=(0.5, 2.0, 0.1), # Demand slope\n",
    "             c=(10, 100, 5),   # Supply curve intercept\n",
    "             d=(0.5, 2.0, 0.1)) # Supply slope\n",
    "\n",
    "# Run the interactive model\n",
    "interactive_model()"
   ]
  },
  {
   "cell_type": "code",
   "execution_count": null,
   "id": "df25f9df-9298-4045-a51e-0f1fb7a1c528",
   "metadata": {},
   "outputs": [],
   "source": []
  }
 ],
 "metadata": {
  "kernelspec": {
   "display_name": "Python 3 (ipykernel)",
   "language": "python",
   "name": "python3"
  },
  "language_info": {
   "codemirror_mode": {
    "name": "ipython",
    "version": 3
   },
   "file_extension": ".py",
   "mimetype": "text/x-python",
   "name": "python",
   "nbconvert_exporter": "python",
   "pygments_lexer": "ipython3",
   "version": "3.11.7"
  }
 },
 "nbformat": 4,
 "nbformat_minor": 5
}
