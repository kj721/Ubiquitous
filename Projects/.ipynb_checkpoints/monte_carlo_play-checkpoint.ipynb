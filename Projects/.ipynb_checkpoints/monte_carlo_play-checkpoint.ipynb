{
 "cells": [
  {
   "cell_type": "code",
   "execution_count": 17,
   "id": "37fe96f4-2c80-4bed-b54c-4150755a774e",
   "metadata": {},
   "outputs": [],
   "source": [
    "import pandas as pd\n",
    "import numpy as np\n",
    "import matplotlib.pyplot as plt\n",
    "import seaborn as sns\n",
    "import random\n",
    "import math\n",
    "import sympy as sp"
   ]
  },
  {
   "cell_type": "code",
   "execution_count": 18,
   "id": "c3d2eacf-01e4-44c2-8f4a-ff3f4a52edf8",
   "metadata": {},
   "outputs": [
    {
     "data": {
      "text/latex": [
       "$\\displaystyle \\frac{152}{3}$"
      ],
      "text/plain": [
       "152/3"
      ]
     },
     "execution_count": 18,
     "metadata": {},
     "output_type": "execute_result"
    }
   ],
   "source": [
    "# Define the variable\n",
    "x = sp.symbols('x')\n",
    "\n",
    "# Define the function\n",
    "f = x**2\n",
    "\n",
    "# Compute the definite integral\n",
    "integral_result = sp.integrate(f, (x, 4, 6))\n",
    "\n",
    "# Display the result\n",
    "integral_result"
   ]
  },
  {
   "cell_type": "code",
   "execution_count": 29,
   "id": "308eaee8-75cf-42d5-8de5-2a490e6ae30d",
   "metadata": {},
   "outputs": [
    {
     "name": "stdout",
     "output_type": "stream",
     "text": [
      "24,088\n"
     ]
    }
   ],
   "source": [
    "z = sp.symbols('z')\n",
    "f = (z**5) + 6\n",
    "integral_result_z = sp.integrate(f, (z, 7, 8)).evalf()\n",
    "print(f\"{integral_result_z:,.0f}\")"
   ]
  },
  {
   "cell_type": "code",
   "execution_count": 20,
   "id": "0be54eaf-6371-434f-aed6-4075ed1d5bd2",
   "metadata": {},
   "outputs": [
    {
     "name": "stdout",
     "output_type": "stream",
     "text": [
      "2*a + 3\n"
     ]
    }
   ],
   "source": [
    "a = sp.symbols('a')\n",
    "f = ((a**2) + (3*a) - 7)\n",
    "diff_res = sp.diff(f, a)\n",
    "print(diff_res)"
   ]
  },
  {
   "cell_type": "code",
   "execution_count": null,
   "id": "8a834cc1-88b4-45d0-884d-26a1578f044d",
   "metadata": {},
   "outputs": [],
   "source": []
  }
 ],
 "metadata": {
  "kernelspec": {
   "display_name": "Python 3 (ipykernel)",
   "language": "python",
   "name": "python3"
  },
  "language_info": {
   "codemirror_mode": {
    "name": "ipython",
    "version": 3
   },
   "file_extension": ".py",
   "mimetype": "text/x-python",
   "name": "python",
   "nbconvert_exporter": "python",
   "pygments_lexer": "ipython3",
   "version": "3.11.7"
  }
 },
 "nbformat": 4,
 "nbformat_minor": 5
}
