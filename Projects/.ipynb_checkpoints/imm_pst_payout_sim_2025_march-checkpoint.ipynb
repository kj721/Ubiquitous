{
 "cells": [
  {
   "cell_type": "code",
   "execution_count": 1,
   "id": "f573cd45-fa11-4046-9d1b-d95513fb3521",
   "metadata": {},
   "outputs": [],
   "source": [
    "import pandas as pd\n",
    "import numpy as np\n",
    "import matplotlib.pyplot as plt\n",
    "import seaborn as sns\n",
    "import random\n",
    "import math"
   ]
  },
  {
   "cell_type": "code",
   "execution_count": 19,
   "id": "c7495f79-43d2-4661-9144-a672cbdb713b",
   "metadata": {},
   "outputs": [
    {
     "ename": "NameError",
     "evalue": "name 'sensitivity_mean_results' is not defined",
     "output_type": "error",
     "traceback": [
      "\u001b[1;31m---------------------------------------------------------------------------\u001b[0m",
      "\u001b[1;31mNameError\u001b[0m                                 Traceback (most recent call last)",
      "Cell \u001b[1;32mIn[19], line 40\u001b[0m\n\u001b[0;32m     37\u001b[0m     sensitivity_results\u001b[38;5;241m.\u001b[39mappend([overfill, prob_between])\n\u001b[0;32m     39\u001b[0m     mean_payout \u001b[38;5;241m=\u001b[39m np\u001b[38;5;241m.\u001b[39mmean(payout_simulated)\n\u001b[1;32m---> 40\u001b[0m     sensitivity_mean_results\u001b[38;5;241m.\u001b[39mappend([overfill, mean_payout])\n\u001b[0;32m     42\u001b[0m \u001b[38;5;66;03m# Convert results to DataFrame\u001b[39;00m\n\u001b[0;32m     43\u001b[0m df_sensitivity \u001b[38;5;241m=\u001b[39m pd\u001b[38;5;241m.\u001b[39mDataFrame(sensitivity_results, columns\u001b[38;5;241m=\u001b[39m[\u001b[38;5;124m\"\u001b[39m\u001b[38;5;124mOverfill\u001b[39m\u001b[38;5;124m\"\u001b[39m, \u001b[38;5;124m\"\u001b[39m\u001b[38;5;124mProbability Within Budget Range\u001b[39m\u001b[38;5;124m\"\u001b[39m])\n",
      "\u001b[1;31mNameError\u001b[0m: name 'sensitivity_mean_results' is not defined"
     ]
    }
   ],
   "source": [
    "# Input variables\n",
    "budget = 483.4\n",
    "gavi = 329.5\n",
    "paid = 8.7\n",
    "subs = 65.4\n",
    "initial = 1.4\n",
    "contracts = 16.8\n",
    "new = budget - gavi - paid - subs - initial - contracts\n",
    "\n",
    "# Sensitivity range for overfill\n",
    "overfill_values = np.linspace(0, 0.5, 11)  # Testing from 0% to 50% overfill in increments of 5%\n",
    "sims = 1000000\n",
    "\n",
    "# Attrition ranges\n",
    "subs_attrit_low, subs_attrit_high = 0.08, 0.18 #point estimate is 13%\n",
    "init_attrit_low, init_attrit_high = 0.01, 0.02 # point estimate is 33%, modified for early approved new, need to collapse new into this line\n",
    "contr_attrit_low, contr_attrit_high = 0.12, 0.22 #point estimate is 17%\n",
    "new_attrit_low, new_attrit_high = 0.23, 0.43 #point estimate is 33%, need to push this into initial line later in the year\n",
    "\n",
    "# Probability ranges\n",
    "between_low = budget * 0.98\n",
    "between_high = budget * 1.02\n",
    "\n",
    "# Storage for sensitivity analysis\n",
    "sensitivity_results = []\n",
    "\n",
    "# Running simulation for different overfill levels\n",
    "for overfill in overfill_values:\n",
    "    subs_simulated = (subs / (1 - overfill)) * (1 - np.random.uniform(subs_attrit_low, subs_attrit_high, sims))\n",
    "    init_simulated = (initial / (1 - overfill)) * (1 - np.random.uniform(init_attrit_low, init_attrit_high, sims))\n",
    "    contr_simulated = (contracts / (1 - overfill)) * (1 - np.random.uniform(contr_attrit_low, contr_attrit_high, sims))\n",
    "    new_simulated = (new / (1 - overfill)) * (1 - np.random.uniform(new_attrit_low, new_attrit_high, sims))\n",
    "    \n",
    "    payout_simulated = gavi + paid + subs_simulated + init_simulated + contr_simulated + new_simulated\n",
    "    \n",
    "    prob_between = np.sum((payout_simulated > between_low) & (payout_simulated < between_high)) / sims\n",
    "    sensitivity_results.append([overfill, prob_between])\n",
    "\n",
    "    mean_payout = np.mean(payout_simulated)\n",
    "    sensitivity_mean_results.append([overfill, mean_payout])\n",
    "\n",
    "# Convert results to DataFrame\n",
    "df_sensitivity = pd.DataFrame(sensitivity_results, columns=[\"Overfill\", \"Probability Within Budget Range\"])\n",
    "df_sensitivity_mean = pd.DataFrame(sensitivity_mean_results, columns=[\"Overfill\", \"Mean Payout ($M)\"])\n",
    "\n",
    "# Display sensitivity results\n",
    "def display_dataframe(name, dataframe):\n",
    "    print(f\"\\n{name}:\\n\")\n",
    "    print(dataframe.to_string(index=False))  # Displays the full DataFrame in a readable format\n",
    "\n",
    "\n",
    "    \n",
    "# Running one simulation with default overfill (0.12) for visualization\n",
    "overfill = 0.10\n",
    "subs_simulated = (subs / (1 - overfill)) * (1 - np.random.uniform(subs_attrit_low, subs_attrit_high, sims))\n",
    "init_simulated = (initial / (1 - overfill)) * (1 - np.random.uniform(init_attrit_low, init_attrit_high, sims))\n",
    "contr_simulated = (contracts / (1 - overfill)) * (1 - np.random.uniform(contr_attrit_low, contr_attrit_high, sims))\n",
    "new_simulated = (new / (1 - overfill)) * (1 - np.random.uniform(new_attrit_low, new_attrit_high, sims))\n",
    "\n",
    "payout_simulated = gavi + paid + subs_simulated + init_simulated + contr_simulated + new_simulated\n",
    "\n",
    "# Headline stats\n",
    "mean_payout = np.mean(payout_simulated)\n",
    "max_payout = np.max(payout_simulated)\n",
    "min_payout = np.min(payout_simulated)\n",
    "\n",
    "# Statements\n",
    "print(f\"The assumed overfill is {overfill:.0%}.\")\n",
    "print(f\"The mean expected payout is ${mean_payout:,.1f} (${(budget - mean_payout):,.1f}).\")\n",
    "print(f\"The maximum expected payout is ${max_payout:,.1f} (${(budget - max_payout):,.1f}).\")\n",
    "print(f\"The minimum expected payout is ${min_payout:,.1f} (${(budget - min_payout):,.1f}).\")\n",
    "\n",
    "# Visualization\n",
    "fig, ax = plt.subplots(figsize=(10, 6))\n",
    "\n",
    "# Histogram\n",
    "sns.histplot(payout_simulated, bins=50, kde=True, color=\"blue\", alpha=0.6, ax=ax)\n",
    "ax.axvline(budget, color=\"red\", linestyle=\"--\", label=\"Budget\")\n",
    "ax.axvline(between_low, color=\"green\", linestyle=\"--\", label=\"98% of Budget\")\n",
    "ax.axvline(between_high, color=\"green\", linestyle=\"--\", label=\"102% of Budget\")\n",
    "\n",
    "ax.set_title(\"Distribution of Simulated Payouts\")\n",
    "ax.set_xlabel(\"Payout Amount ($M)\")\n",
    "ax.set_ylabel(\"Frequency\")\n",
    "ax.legend()\n",
    "plt.savefig(\"histogram.png\", dpi=300, bbox_inches='tight')\n",
    "plt.show()\n",
    "\n",
    "# CDF Plot\n",
    "fig, ax = plt.subplots(figsize=(10, 6))\n",
    "sns.ecdfplot(payout_simulated, color=\"blue\", ax=ax)\n",
    "ax.axvline(budget, color=\"red\", linestyle=\"--\", label=\"Budget\")\n",
    "ax.axvline(between_low, color=\"green\", linestyle=\"--\", label=\"98% of Budget\")\n",
    "ax.axvline(between_high, color=\"green\", linestyle=\"--\", label=\"102% of Budget\")\n",
    "\n",
    "ax.set_title(\"Cumulative Distribution Function (CDF) of Payouts\")\n",
    "ax.set_xlabel(\"Payout Amount ($M)\")\n",
    "ax.set_ylabel(\"Cumulative Probability\")\n",
    "ax.legend()\n",
    "plt.savefig(\"cdf.png\", dpi = 300, bbox_inches='tight')\n",
    "plt.show()\n",
    "\n",
    "display_dataframe(\"Overfill Sensitivity Analysis Probability\", df_sensitivity)\n",
    "display_dataframe(\"Overfill Sensitivity Analysis Dollars\", df_sensitivity_mean)"
   ]
  },
  {
   "cell_type": "code",
   "execution_count": 13,
   "id": "da511384-4c16-4a07-839b-d89f08261c7c",
   "metadata": {},
   "outputs": [
    {
     "name": "stdout",
     "output_type": "stream",
     "text": [
      "61.59999999999998\n"
     ]
    }
   ],
   "source": [
    "print(new)"
   ]
  },
  {
   "cell_type": "code",
   "execution_count": null,
   "id": "3548620e-1700-4335-894c-78939583a679",
   "metadata": {},
   "outputs": [],
   "source": []
  }
 ],
 "metadata": {
  "kernelspec": {
   "display_name": "Python 3 (ipykernel)",
   "language": "python",
   "name": "python3"
  },
  "language_info": {
   "codemirror_mode": {
    "name": "ipython",
    "version": 3
   },
   "file_extension": ".py",
   "mimetype": "text/x-python",
   "name": "python",
   "nbconvert_exporter": "python",
   "pygments_lexer": "ipython3",
   "version": "3.11.7"
  }
 },
 "nbformat": 4,
 "nbformat_minor": 5
}
