{
 "cells": [
  {
   "cell_type": "code",
   "execution_count": 1,
   "id": "e38a8038-a2b6-4525-b7a0-c99cbdc4aa21",
   "metadata": {},
   "outputs": [],
   "source": [
    "import pandas as pd\n",
    "import numpy as np\n",
    "import matplotlib.pyplot as plt\n",
    "import random\n",
    "import math\n",
    "import seaborn as sns"
   ]
  },
  {
   "cell_type": "code",
   "execution_count": 6,
   "id": "10629f02-ce8b-44ee-b865-ccfabd6fe38b",
   "metadata": {},
   "outputs": [],
   "source": [
    "# calculate full year costs\n",
    "current_headcount = 395\n",
    "next_year_headcount = 419\n",
    "cost_per_head = 82 / (371 + 55) #October 2024 PEF and OPEX paper for 2023 = full year\n",
    "inflation_assumption = 0.04\n",
    "new_cost_per_head = (cost_per_head * (1+inflation_assumption)) * 1000\n",
    "vacancy_rate = 0.05"
   ]
  },
  {
   "cell_type": "code",
   "execution_count": null,
   "id": "c541d4fc-d44e-462b-8c02-7aec7bf789b2",
   "metadata": {},
   "outputs": [],
   "source": [
    "# develop ranges\n"
   ]
  }
 ],
 "metadata": {
  "kernelspec": {
   "display_name": "Python 3 (ipykernel)",
   "language": "python",
   "name": "python3"
  },
  "language_info": {
   "codemirror_mode": {
    "name": "ipython",
    "version": 3
   },
   "file_extension": ".py",
   "mimetype": "text/x-python",
   "name": "python",
   "nbconvert_exporter": "python",
   "pygments_lexer": "ipython3",
   "version": "3.11.7"
  }
 },
 "nbformat": 4,
 "nbformat_minor": 5
}
