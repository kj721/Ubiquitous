{
 "cells": [
  {
   "cell_type": "code",
   "execution_count": 3,
   "id": "5aa77761-d829-4cc3-b88c-f196fe96263c",
   "metadata": {},
   "outputs": [
    {
     "name": "stdout",
     "output_type": "stream",
     "text": [
      "\n",
      "💰 Supply Chain Cost Summary\n",
      "count     10000.000000\n",
      "mean      58377.319985\n",
      "std        8493.745329\n",
      "min       34399.212935\n",
      "5%        45667.263447\n",
      "50%       57747.422521\n",
      "95%       73236.705120\n",
      "max      109583.124569\n",
      "dtype: float64\n"
     ]
    }
   ],
   "source": [
    "# ---- RUN SIMULATION ----\n",
    "N = 10000\n",
    "\n",
    "dem = sample_demand(N)\n",
    "lead = sample_lead_time(N)              # ✅ Fix: Proper function call\n",
    "h = sample_holding_cost(N)\n",
    "D = sample_transport_km(N)\n",
    "cT = sample_cT(N)\n",
    "F = sample_shipments(N)\n",
    "f = sample_f(N)\n",
    "U = sample_U(N)\n",
    "u = sample_u(N)\n",
    "b = sample_penalty_b(N)\n",
    "demand_lt = dem * (lead / 365.0)\n",
    "\n",
    "# Cost calculations\n",
    "C_proc = Q_j * sample_procurement_cost(N)\n",
    "C_inv = h * (Q_j / 2 + dem)             # uses actual demand draw\n",
    "C_trans = D * cT\n",
    "C_handle = F * f + U * u\n",
    "C_stockout = sample_stockout_cost(demand_lt, b)\n",
    "\n",
    "C_total = C_proc + C_inv + C_trans + C_handle + C_stockout\n",
    "\n",
    "# Output and plot (unchanged)\n",
    "stats = pd.Series(C_total).describe(percentiles=[.05, .5, .95])\n",
    "print(\"\\n💰 Supply Chain Cost Summary\")\n",
    "print(stats)"
   ]
  },
  {
   "cell_type": "code",
   "execution_count": null,
   "id": "3d09067a-e17c-4f52-8af8-6e07721468c7",
   "metadata": {},
   "outputs": [],
   "source": []
  }
 ],
 "metadata": {
  "kernelspec": {
   "display_name": "Python 3 (ipykernel)",
   "language": "python",
   "name": "python3"
  },
  "language_info": {
   "codemirror_mode": {
    "name": "ipython",
    "version": 3
   },
   "file_extension": ".py",
   "mimetype": "text/x-python",
   "name": "python",
   "nbconvert_exporter": "python",
   "pygments_lexer": "ipython3",
   "version": "3.12.7"
  }
 },
 "nbformat": 4,
 "nbformat_minor": 5
}
