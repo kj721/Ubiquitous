{
 "cells": [
  {
   "cell_type": "markdown",
   "metadata": {},
   "source": [
    "# Python Fundamentals I\n",
    "Welcome to the first lesson! This Jupyter Notebook file is meant to accompany **L01 - Python Fundamentals I**\n",
    "\n",
    "Beneath each blue <font color = 'blue'> **EXERCISE**</font>, there is a code cell that looks like this:"
   ]
  },
  {
   "cell_type": "code",
   "execution_count": null,
   "metadata": {},
   "outputs": [],
   "source": []
  },
  {
   "cell_type": "markdown",
   "metadata": {},
   "source": [
    "Type your answer in the code cell, and then press **Shift + Enter** to execute your code. Then, check the solution in the PDF to see how you did!"
   ]
  },
  {
   "cell_type": "markdown",
   "metadata": {},
   "source": [
    "### 1. Jupyter Notebook\n",
    "If you are reading this, you are ready to go!"
   ]
  },
  {
   "cell_type": "markdown",
   "metadata": {},
   "source": [
    "### 2. Calculations"
   ]
  },
  {
   "cell_type": "code",
   "execution_count": 15,
   "metadata": {},
   "outputs": [
    {
     "name": "stdout",
     "output_type": "stream",
     "text": [
      "1.0\n",
      "100\n",
      "True\n",
      "True\n",
      "False\n",
      "False\n",
      "False\n",
      "True\n"
     ]
    }
   ],
   "source": [
    "# Lesson Workspace\n",
    "# If you want to see more than the final calculation in a cell you must use print function for each calculation\n",
    "\n",
    "print(10 / 10)\n",
    "print(10 * 10)\n",
    "print(2 > 1)\n",
    "print(2 >= 1)\n",
    "print(2 < 1)\n",
    "print(2 <= 1)\n",
    "print(2 == 1)\n",
    "print(2 != 1)"
   ]
  },
  {
   "cell_type": "markdown",
   "metadata": {},
   "source": [
    "<font color = 'blue'> **EXERCISE 2.1** </font>"
   ]
  },
  {
   "cell_type": "code",
   "execution_count": 16,
   "metadata": {},
   "outputs": [
    {
     "name": "stdout",
     "output_type": "stream",
     "text": [
      "333\n",
      "-111\n",
      "369630\n",
      "0.875\n"
     ]
    }
   ],
   "source": [
    "print(111 + 222)\n",
    "print(333 - 444)\n",
    "print(555 * 666)\n",
    "print(777 / 888)"
   ]
  },
  {
   "cell_type": "markdown",
   "metadata": {},
   "source": [
    "### 3. Text Outputs"
   ]
  },
  {
   "cell_type": "code",
   "execution_count": 17,
   "metadata": {},
   "outputs": [
    {
     "name": "stdout",
     "output_type": "stream",
     "text": [
      "Please wait while the application loads\n"
     ]
    }
   ],
   "source": [
    "# Lesson Workspace\n",
    "# Single quotes\n",
    "print('Please wait while the application loads')"
   ]
  },
  {
   "cell_type": "code",
   "execution_count": 18,
   "metadata": {},
   "outputs": [
    {
     "name": "stdout",
     "output_type": "stream",
     "text": [
      "Please wait while the application loads\n"
     ]
    }
   ],
   "source": [
    "# Double quotes\n",
    "print(\"Please wait while the application loads\")"
   ]
  },
  {
   "cell_type": "code",
   "execution_count": 19,
   "metadata": {},
   "outputs": [
    {
     "name": "stdout",
     "output_type": "stream",
     "text": [
      "its and it's\n"
     ]
    }
   ],
   "source": [
    "# Literal; if you use the backslash then it won't interpret the single quote as the end of the string\n",
    "print('its and it\\'s') "
   ]
  },
  {
   "cell_type": "code",
   "execution_count": 20,
   "metadata": {},
   "outputs": [
    {
     "name": "stdout",
     "output_type": "stream",
     "text": [
      "CUSIP = 38259PAD4; Coupon = 3.375\n",
      "CUSIP = 38259PAD4; Coupon = 3.375\n",
      "CUSIP = 38259PAD4; Coupon = 3.375\n"
     ]
    }
   ],
   "source": [
    "# Dynamic outputs\n",
    "x = '38259PAD4'\n",
    "y = '3.375'\n",
    "\n",
    "print('CUSIP = 38259PAD4; Coupon = 3.375')\n",
    "print('CUSIP = {}; Coupon = {}'.format('38259PAD4', '3.375'))\n",
    "print('CUSIP = {}; Coupon = {}'.format(x, y))"
   ]
  },
  {
   "cell_type": "markdown",
   "metadata": {},
   "source": [
    "<font color = 'blue'> **EXERCISE 3.1** </font>"
   ]
  },
  {
   "cell_type": "code",
   "execution_count": 24,
   "metadata": {},
   "outputs": [
    {
     "name": "stdout",
     "output_type": "stream",
     "text": [
      "Price = $220; EPS = $10; P/E = 22.0\n"
     ]
    }
   ],
   "source": [
    "# Print the statement including the price, EPS, and P/E ratio\n",
    "price = 220\n",
    "eps = 10\n",
    "pe_ratio = price / eps\n",
    "\n",
    "print('Price = ${}; EPS = ${}; P/E = {}'.format(price, eps, pe_ratio))"
   ]
  },
  {
   "cell_type": "markdown",
   "metadata": {},
   "source": [
    "### 4. Variables"
   ]
  },
  {
   "cell_type": "code",
   "execution_count": 22,
   "metadata": {},
   "outputs": [],
   "source": [
    "# Lesson Workspace\n",
    "# I got a little ahead in what I did above.  Not repeating what they did in the video because it is essentially what I did above\n"
   ]
  },
  {
   "cell_type": "code",
   "execution_count": 25,
   "metadata": {},
   "outputs": [
    {
     "name": "stdout",
     "output_type": "stream",
     "text": [
      "10.41 %\n"
     ]
    }
   ],
   "source": [
    "# Informative variable names; you don't want abstract variable names for yourself or others that may use your code\n",
    "end_value = 200\n",
    "start_value = 100\n",
    "years = 7\n",
    "cagr = (end_value/start_value) ** (1 / years) - 1\n",
    "\n",
    "print(round(cagr*100,2),'%')"
   ]
  },
  {
   "cell_type": "markdown",
   "metadata": {},
   "source": [
    "<font color = 'blue'> **EXERCISE 4.1** </font>"
   ]
  },
  {
   "cell_type": "code",
   "execution_count": 23,
   "metadata": {},
   "outputs": [],
   "source": [
    "# Apple Data\n",
    "a_mcap = 896473\n",
    "a_pref = 0\n",
    "a_ltdebt = 97128\n",
    "a_cltdebt = 17472\n",
    "a_mint = 0\n",
    "a_cash = 70970\n",
    "a_q3_17 = 17067\n",
    "a_q4_17 = 30509\n",
    "a_q1_18 = 19699\n",
    "a_q2_18 = 16795\n",
    "\n",
    "\n",
    "# Microsoft Data\n",
    "m_mcap = 757029\n",
    "m_pref = 0\n",
    "m_ltdebt = 72242\n",
    "m_cltdebt = 3998\n",
    "m_mint = 0\n",
    "m_cash = 133768\n",
    "m_q3_17 = 11155\n",
    "m_q4_17 = 12403\n",
    "m_q1_18 = 12042\n",
    "m_q2_18 = 13868\n"
   ]
  },
  {
   "cell_type": "code",
   "execution_count": 43,
   "metadata": {},
   "outputs": [],
   "source": [
    "# Calculate Apple Stats\n",
    "aapl_ev = a_mcap + a_pref + a_ltdebt + a_cltdebt + a_mint - a_cash\n",
    "aapl_ebitda = a_q3_17 + a_q4_17 + a_q1_18 + a_q2_18\n",
    "aapl_ev_ebitda = aapl_ev / aapl_ltm"
   ]
  },
  {
   "cell_type": "code",
   "execution_count": 44,
   "metadata": {},
   "outputs": [],
   "source": [
    "# Calculate Microsoft Stats\n",
    "msft_ev = m_mcap + m_pref + m_ltdebt + m_cltdebt + m_mint - m_cash\n",
    "msft_ebitda = m_q3_17 + m_q4_17 + m_q1_18 + m_q2_18\n",
    "msft_ev_ebitda = msft_ev / msft_ltm"
   ]
  },
  {
   "cell_type": "code",
   "execution_count": 47,
   "metadata": {},
   "outputs": [
    {
     "name": "stdout",
     "output_type": "stream",
     "text": [
      "AAPL EV = 940103\n",
      "AAPL LTM EBITDA = 84070\n",
      "AAPL EV / EBITDA = 11.18\n",
      "-\n",
      "MSFT EV = 699501\n",
      "MSFT LTM EBITDA = 49468\n",
      "MSFT EV / EBITDA = 14.14\n",
      "-\n",
      "APPL's ratio is greater than MSFT's: False\n"
     ]
    }
   ],
   "source": [
    "# Comparison\n",
    "print('AAPL EV = {}'.format(aapl_ev))\n",
    "print('AAPL LTM EBITDA = {}'.format(aapl_ebitda))\n",
    "print('AAPL EV / EBITDA = {}'.format(round(aapl_ev_ebitda, 2)))\n",
    "print('-')\n",
    "print('MSFT EV = {}'.format(msft_ev))\n",
    "print('MSFT LTM EBITDA = {}'.format(msft_ebitda))\n",
    "print('MSFT EV / EBITDA = {}'.format(round(msft_ev_ebitda, 2)))\n",
    "print('-')\n",
    "print('APPL\\'s ratio is greater than MSFT\\'s: {}'.format(msft_ev_ltm > msft_ev_ltm))"
   ]
  },
  {
   "cell_type": "code",
   "execution_count": null,
   "metadata": {},
   "outputs": [],
   "source": []
  }
 ],
 "metadata": {
  "kernelspec": {
   "display_name": "Python 3 (ipykernel)",
   "language": "python",
   "name": "python3"
  },
  "language_info": {
   "codemirror_mode": {
    "name": "ipython",
    "version": 3
   },
   "file_extension": ".py",
   "mimetype": "text/x-python",
   "name": "python",
   "nbconvert_exporter": "python",
   "pygments_lexer": "ipython3",
   "version": "3.12.7"
  }
 },
 "nbformat": 4,
 "nbformat_minor": 4
}
