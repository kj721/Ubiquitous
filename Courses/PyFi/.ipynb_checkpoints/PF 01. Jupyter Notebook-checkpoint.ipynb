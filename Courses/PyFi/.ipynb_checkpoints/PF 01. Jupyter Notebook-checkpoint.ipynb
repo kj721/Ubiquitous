{
 "cells": [
  {
   "cell_type": "markdown",
   "metadata": {},
   "source": [
    "# Python Fundamentals I\n",
    "Welcome to the first lesson! This Jupyter Notebook file is meant to accompany **L01 - Python Fundamentals I**\n",
    "\n",
    "Beneath each blue <font color = 'blue'> **EXERCISE**</font>, there is a code cell that looks like this:"
   ]
  },
  {
   "cell_type": "code",
   "execution_count": null,
   "metadata": {},
   "outputs": [],
   "source": []
  },
  {
   "cell_type": "markdown",
   "metadata": {},
   "source": [
    "Type your answer in the code cell, and then press **Shift + Enter** to execute your code. Then, check the solution in the PDF to see how you did!"
   ]
  },
  {
   "cell_type": "markdown",
   "metadata": {},
   "source": [
    "### 1. Jupyter Notebook\n",
    "If you are reading this, you are ready to go!"
   ]
  },
  {
   "cell_type": "markdown",
   "metadata": {},
   "source": [
    "### 2. Calculations"
   ]
  },
  {
   "cell_type": "code",
   "execution_count": 3,
   "metadata": {},
   "outputs": [
    {
     "name": "stdout",
     "output_type": "stream",
     "text": [
      "1.0\n",
      "100\n",
      "True\n",
      "True\n",
      "False\n",
      "False\n",
      "False\n",
      "True\n"
     ]
    }
   ],
   "source": [
    "# Lesson Workspace\n",
    "# If you want to see more than the final calculation in a cell you must use print function for each calculation\n",
    "\n",
    "print(10 / 10)\n",
    "print(10 * 10)\n",
    "print(2 > 1)\n",
    "print(2 >= 1)\n",
    "print(2 < 1)\n",
    "print(2 <= 1)\n",
    "print(2 == 1)\n",
    "print(2 != 1)"
   ]
  },
  {
   "cell_type": "markdown",
   "metadata": {},
   "source": [
    "<font color = 'blue'> **EXERCISE 2.1** </font>"
   ]
  },
  {
   "cell_type": "code",
   "execution_count": 2,
   "metadata": {},
   "outputs": [
    {
     "name": "stdout",
     "output_type": "stream",
     "text": [
      "333\n",
      "-111\n",
      "369630\n",
      "0.875\n"
     ]
    }
   ],
   "source": [
    "print(111 + 222)\n",
    "print(333 - 444)\n",
    "print(555 * 666)\n",
    "print(777 / 888)"
   ]
  },
  {
   "cell_type": "markdown",
   "metadata": {},
   "source": [
    "### 3. Text Outputs"
   ]
  },
  {
   "cell_type": "code",
   "execution_count": 9,
   "metadata": {},
   "outputs": [
    {
     "name": "stdout",
     "output_type": "stream",
     "text": [
      "Please wait while the application loads\n"
     ]
    }
   ],
   "source": [
    "# Lesson Workspace\n",
    "# Single quotes\n",
    "print('Please wait while the application loads')"
   ]
  },
  {
   "cell_type": "code",
   "execution_count": 10,
   "metadata": {},
   "outputs": [
    {
     "name": "stdout",
     "output_type": "stream",
     "text": [
      "Please wait while the application loads\n"
     ]
    }
   ],
   "source": [
    "# Double quotes\n",
    "print(\"Please wait while the application loads\")"
   ]
  },
  {
   "cell_type": "code",
   "execution_count": 11,
   "metadata": {},
   "outputs": [
    {
     "name": "stdout",
     "output_type": "stream",
     "text": [
      "its and it's\n"
     ]
    }
   ],
   "source": [
    "# Literal; if you use the backslash then it won't interpret the single quote as the end of the string\n",
    "print('its and it\\'s') "
   ]
  },
  {
   "cell_type": "code",
   "execution_count": 12,
   "metadata": {},
   "outputs": [
    {
     "name": "stdout",
     "output_type": "stream",
     "text": [
      "CUSIP = 38259PAD4; Coupon = 3.375\n",
      "CUSIP = 38259PAD4; Coupon = 3.375\n",
      "CUSIP = 38259PAD4; Coupon = 3.375\n"
     ]
    }
   ],
   "source": [
    "# Dynamic outputs\n",
    "x = '38259PAD4'\n",
    "y = '3.375'\n",
    "\n",
    "print('CUSIP = 38259PAD4; Coupon = 3.375')\n",
    "print('CUSIP = {}; Coupon = {}'.format('38259PAD4', '3.375'))\n",
    "print('CUSIP = {}; Coupon = {}'.format(x, y))"
   ]
  },
  {
   "cell_type": "markdown",
   "metadata": {},
   "source": [
    "<font color = 'blue'> **EXERCISE 3.1** </font>"
   ]
  },
  {
   "cell_type": "code",
   "execution_count": null,
   "metadata": {},
   "outputs": [],
   "source": []
  },
  {
   "cell_type": "markdown",
   "metadata": {},
   "source": [
    "### 4. Variables"
   ]
  },
  {
   "cell_type": "code",
   "execution_count": null,
   "metadata": {},
   "outputs": [],
   "source": [
    "# Lesson Workspace\n",
    "\n"
   ]
  },
  {
   "cell_type": "markdown",
   "metadata": {},
   "source": [
    "<font color = 'blue'> **EXERCISE 4.1** </font>"
   ]
  },
  {
   "cell_type": "code",
   "execution_count": null,
   "metadata": {},
   "outputs": [],
   "source": [
    "# Apple Data\n",
    "a_mcap = 896473\n",
    "a_pref = 0\n",
    "a_ltdebt = 97128\n",
    "a_cltdebt = 17472\n",
    "a_mint = 0\n",
    "a_cash = 70970\n",
    "a_q3_17 = 17067\n",
    "a_q4_17 = 30509\n",
    "a_q1_18 = 19699\n",
    "a_q2_18 = 16795\n",
    "\n",
    "\n",
    "# Microsoft Data\n",
    "m_mcap = 757029\n",
    "m_pref = 0\n",
    "m_ltdebt = 72242\n",
    "m_cltdebt = 3998\n",
    "m_mint = 0\n",
    "m_cash = 133768\n",
    "m_q3_17 = 11155\n",
    "m_q4_17 = 12403\n",
    "m_q1_18 = 12042\n",
    "m_q2_18 = 13868\n"
   ]
  },
  {
   "cell_type": "code",
   "execution_count": null,
   "metadata": {},
   "outputs": [],
   "source": []
  }
 ],
 "metadata": {
  "kernelspec": {
   "display_name": "Python 3 (ipykernel)",
   "language": "python",
   "name": "python3"
  },
  "language_info": {
   "codemirror_mode": {
    "name": "ipython",
    "version": 3
   },
   "file_extension": ".py",
   "mimetype": "text/x-python",
   "name": "python",
   "nbconvert_exporter": "python",
   "pygments_lexer": "ipython3",
   "version": "3.12.7"
  }
 },
 "nbformat": 4,
 "nbformat_minor": 4
}
