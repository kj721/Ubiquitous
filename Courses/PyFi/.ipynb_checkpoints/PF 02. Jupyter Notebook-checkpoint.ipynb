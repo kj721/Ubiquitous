{
 "cells": [
  {
   "cell_type": "markdown",
   "metadata": {},
   "source": [
    "# Python Fundamentals II\n",
    "Welcome to the second lesson! This Jupyter Notebook file is meant to accompany **L02 - Python Fundamentals II.**"
   ]
  },
  {
   "cell_type": "markdown",
   "metadata": {},
   "source": [
    "Type your solutions for each exercise in the code cells below, and then press **Shift + Enter** to execute your code. Then, check the solution video to see how you did!"
   ]
  },
  {
   "cell_type": "markdown",
   "metadata": {},
   "source": [
    "### 1. Python Objects"
   ]
  },
  {
   "cell_type": "code",
   "execution_count": null,
   "metadata": {},
   "outputs": [],
   "source": [
    "# Lesson Workspace\n"
   ]
  },
  {
   "cell_type": "markdown",
   "metadata": {},
   "source": [
    "<font color = 'blue'> **EXERCISE 1.1** </font>"
   ]
  },
  {
   "cell_type": "code",
   "execution_count": 2,
   "metadata": {},
   "outputs": [
    {
     "name": "stdout",
     "output_type": "stream",
     "text": [
      "The object type of 10 is Integer\n",
      "The object type of 10.5 is Float\n",
      "The object type of this is String\n",
      "The object type of True is Boolean\n",
      "The object type of True is Boolean\n"
     ]
    }
   ],
   "source": [
    "print('The object type of {} is {}'.format(10, 'Integer'))\n",
    "print('The object type of {} is {}'.format(10.5, 'Float'))\n",
    "print('The object type of {} is {}'.format('this', 'String'))\n",
    "print('The object type of {} is {}'.format(True, 'Boolean'))\n",
    "print('The object type of {} is {}'.format(1 < 5, 'Boolean'))"
   ]
  },
  {
   "cell_type": "markdown",
   "metadata": {},
   "source": [
    "### 2. Lists"
   ]
  },
  {
   "cell_type": "code",
   "execution_count": 3,
   "metadata": {},
   "outputs": [],
   "source": [
    "# Lesson Workspace\n",
    "list_1 = [1, 2, 3, 4, 5]\n",
    "list_2 = ['a', 'b', 'c', 'd', 'e']"
   ]
  },
  {
   "cell_type": "code",
   "execution_count": 4,
   "metadata": {},
   "outputs": [
    {
     "name": "stdout",
     "output_type": "stream",
     "text": [
      "[1, 2, 3, 4, 5]\n",
      "['a', 'b', 'c', 'd', 'e']\n"
     ]
    }
   ],
   "source": [
    "print(list_1)\n",
    "print(list_2)"
   ]
  },
  {
   "cell_type": "code",
   "execution_count": 5,
   "metadata": {},
   "outputs": [
    {
     "name": "stdout",
     "output_type": "stream",
     "text": [
      "[1, 2.5, 3.14, True, 'Text']\n"
     ]
    }
   ],
   "source": [
    "pi = 3.14\n",
    "list_3 = [1, 2.5, pi, pi > 0, 'Text']\n",
    "print(list_3)"
   ]
  },
  {
   "cell_type": "code",
   "execution_count": 6,
   "metadata": {},
   "outputs": [
    {
     "name": "stdout",
     "output_type": "stream",
     "text": [
      "[[1, 'a'], [2, 'b'], [3, 'c'], [4, 'd'], [5, 'e']]\n"
     ]
    }
   ],
   "source": [
    "combined_list = [ [1, 'a'], [2, 'b'], [3, 'c'], [4, 'd'], [5, 'e'] ]\n",
    "print(combined_list)"
   ]
  },
  {
   "cell_type": "code",
   "execution_count": 7,
   "metadata": {},
   "outputs": [
    {
     "data": {
      "text/plain": [
       "9"
      ]
     },
     "execution_count": 7,
     "metadata": {},
     "output_type": "execute_result"
    }
   ],
   "source": [
    "# practicing zero index usage to operate on list components\n",
    "list_1[3] + list_1[4]"
   ]
  },
  {
   "cell_type": "code",
   "execution_count": 9,
   "metadata": {},
   "outputs": [
    {
     "data": {
      "text/plain": [
       "[2, 3, 4, 5]"
      ]
     },
     "execution_count": 9,
     "metadata": {},
     "output_type": "execute_result"
    }
   ],
   "source": [
    "# selecting ranges\n",
    "list_1[0:3] # selects all but the last number in the list\n",
    "list_1[:3] # does the same thing and can be used like this because we're starting from the beginning of the list\n",
    "list_1[1:] # starts with the second element to the end"
   ]
  },
  {
   "cell_type": "markdown",
   "metadata": {},
   "source": [
    "<font color = 'blue'> **EXERCISE 2.1** </font>"
   ]
  },
  {
   "cell_type": "code",
   "execution_count": 20,
   "metadata": {},
   "outputs": [
    {
     "name": "stdout",
     "output_type": "stream",
     "text": [
      "10\n",
      "[4, 5]\n",
      "[6, 7, 8]\n",
      "[1, 2, 3, 4, 5] [6, 7, 8, 9, 10] [4, 5, 6, 7, 8]\n"
     ]
    }
   ],
   "source": [
    "list_1 = [1, 2, 3, 4, 5]\n",
    "list_2 = [6, 7, 8, 9, 10]\n",
    "print((list_1[3] + list_2[0]))\n",
    "print((list_1[3:]))\n",
    "print((list_2[:3]))\n",
    "list_3 = list_1[3:] + list_2[:3]\n",
    "print(list_1, list_2, list_3)"
   ]
  },
  {
   "cell_type": "code",
   "execution_count": 21,
   "metadata": {},
   "outputs": [
    {
     "name": "stdout",
     "output_type": "stream",
     "text": [
      "['AAPL', 'AMZN', 'MSFT', 'tbd', 'GOOGL']\n"
     ]
    }
   ],
   "source": [
    "# update a list\n",
    "tech_portfolio = ['AAPL', 'AMZN', 'MSFT', 'tbd', 'GOOGL']\n",
    "print(tech_portfolio)"
   ]
  },
  {
   "cell_type": "code",
   "execution_count": 22,
   "metadata": {},
   "outputs": [
    {
     "name": "stdout",
     "output_type": "stream",
     "text": [
      "['AAPL', 'AMZN', 'MSFT', 'CSCO', 'GOOGL']\n"
     ]
    }
   ],
   "source": [
    "tech_portfolio[3] = 'CSCO'\n",
    "print(tech_portfolio)"
   ]
  },
  {
   "cell_type": "code",
   "execution_count": 23,
   "metadata": {},
   "outputs": [
    {
     "name": "stdout",
     "output_type": "stream",
     "text": [
      "['AAPL', 'AMZN', 'MSFT', 'CSCO', 'GOOGL', 'NVDA']\n"
     ]
    }
   ],
   "source": [
    "# adding to the end of the list with append\n",
    "tech_portfolio.append('NVDA')\n",
    "print(tech_portfolio)"
   ]
  },
  {
   "cell_type": "code",
   "execution_count": 24,
   "metadata": {},
   "outputs": [
    {
     "name": "stdout",
     "output_type": "stream",
     "text": [
      "['AAPL', 'MSFT', 'CSCO', 'GOOGL', 'NVDA']\n"
     ]
    }
   ],
   "source": [
    "# removing an object\n",
    "tech_portfolio.remove('AMZN')\n",
    "print(tech_portfolio)"
   ]
  },
  {
   "cell_type": "code",
   "execution_count": 25,
   "metadata": {},
   "outputs": [
    {
     "name": "stdout",
     "output_type": "stream",
     "text": [
      "True\n"
     ]
    }
   ],
   "source": [
    "# check object membership\n",
    "print('GOOGL' in tech_portfolio)"
   ]
  },
  {
   "cell_type": "code",
   "execution_count": 26,
   "metadata": {},
   "outputs": [
    {
     "name": "stdout",
     "output_type": "stream",
     "text": [
      "['AAPL', 'MSFT', 'CSCO', 'GOOGL', 'NVDA']\n",
      "5\n"
     ]
    }
   ],
   "source": [
    "# how many objects in a list\n",
    "print(tech_portfolio)\n",
    "print(len(tech_portfolio))"
   ]
  },
  {
   "cell_type": "code",
   "execution_count": 27,
   "metadata": {},
   "outputs": [
    {
     "name": "stdout",
     "output_type": "stream",
     "text": [
      "1.84\n",
      "1.26\n"
     ]
    }
   ],
   "source": [
    "# max and min in a list with floats\n",
    "portfolio_beta = [1.26, 1.46, 1.3, 1.44, 1.84]\n",
    "print(max(portfolio_beta))\n",
    "print(min(portfolio_beta))"
   ]
  },
  {
   "cell_type": "markdown",
   "metadata": {},
   "source": [
    "<font color = 'blue'> **EXERCISE 2.2** </font>"
   ]
  },
  {
   "cell_type": "code",
   "execution_count": 40,
   "metadata": {},
   "outputs": [
    {
     "name": "stdout",
     "output_type": "stream",
     "text": [
      "['JPM', 'BAC', 'WFC', 'Citi', 'AXP']\n"
     ]
    }
   ],
   "source": [
    "financials = ['JPM', 'BAC', 'WFC', 'Citi', 'AXP']\n",
    "print(financials)"
   ]
  },
  {
   "cell_type": "code",
   "execution_count": 41,
   "metadata": {},
   "outputs": [
    {
     "name": "stdout",
     "output_type": "stream",
     "text": [
      "['JPM', 'BAC', 'WFC', 'AXP', 'C']\n"
     ]
    }
   ],
   "source": [
    "# how I did it\n",
    "financials.remove('Citi')\n",
    "financials.append('C')\n",
    "print(financials)"
   ]
  },
  {
   "cell_type": "code",
   "execution_count": 42,
   "metadata": {},
   "outputs": [
    {
     "name": "stdout",
     "output_type": "stream",
     "text": [
      "['JPM', 'BAC', 'WFC', 'C', 'AXP']\n"
     ]
    }
   ],
   "source": [
    "# better way from PyFi\n",
    "financials = ['JPM', 'BAC', 'WFC', 'Citi', 'AXP']\n",
    "financials[3] = 'C'\n",
    "print(financials)"
   ]
  },
  {
   "cell_type": "code",
   "execution_count": 43,
   "metadata": {},
   "outputs": [
    {
     "name": "stdout",
     "output_type": "stream",
     "text": [
      "['JPM', 'BAC', 'WFC', 'C', 'PNC']\n"
     ]
    }
   ],
   "source": [
    "# how I did it, recognizing the above a redo below\n",
    "financials.remove('AXP')\n",
    "financials.append('PNC')\n",
    "print(financials)"
   ]
  },
  {
   "cell_type": "code",
   "execution_count": 44,
   "metadata": {},
   "outputs": [
    {
     "name": "stdout",
     "output_type": "stream",
     "text": [
      "['JPM', 'BAC', 'WFC', 'C', 'PNC']\n"
     ]
    }
   ],
   "source": [
    "financials = ['JPM', 'BAC', 'WFC', 'C', 'AXP']\n",
    "financials[4] = 'PNC'\n",
    "print(financials)"
   ]
  },
  {
   "cell_type": "code",
   "execution_count": 35,
   "metadata": {},
   "outputs": [
    {
     "name": "stdout",
     "output_type": "stream",
     "text": [
      "False\n"
     ]
    }
   ],
   "source": [
    "print('BLK' in financials)"
   ]
  },
  {
   "cell_type": "code",
   "execution_count": 36,
   "metadata": {},
   "outputs": [
    {
     "name": "stdout",
     "output_type": "stream",
     "text": [
      "5\n"
     ]
    }
   ],
   "source": [
    "print(len(financials))"
   ]
  },
  {
   "cell_type": "markdown",
   "metadata": {},
   "source": [
    "### Bonus: Tuples"
   ]
  },
  {
   "cell_type": "code",
   "execution_count": 45,
   "metadata": {},
   "outputs": [
    {
     "name": "stdout",
     "output_type": "stream",
     "text": [
      "(1, 2, 3, 4, 5)\n",
      "[1, 2, 3, 4, 5]\n"
     ]
    }
   ],
   "source": [
    "tuple_1 = (1, 2, 3, 4, 5)\n",
    "list_1 = [1, 2, 3, 4, 5]\n",
    "print(tuple_1)\n",
    "print(list_1)"
   ]
  },
  {
   "cell_type": "code",
   "execution_count": 46,
   "metadata": {},
   "outputs": [
    {
     "name": "stdout",
     "output_type": "stream",
     "text": [
      "[10, 2, 3, 4, 5]\n"
     ]
    }
   ],
   "source": [
    "list_1[0] = 10\n",
    "print(list_1)"
   ]
  },
  {
   "cell_type": "code",
   "execution_count": 48,
   "metadata": {},
   "outputs": [
    {
     "data": {
      "text/plain": [
       "1"
      ]
     },
     "execution_count": 48,
     "metadata": {},
     "output_type": "execute_result"
    }
   ],
   "source": [
    "tuple_1[0]"
   ]
  },
  {
   "cell_type": "code",
   "execution_count": 50,
   "metadata": {},
   "outputs": [
    {
     "ename": "TypeError",
     "evalue": "'tuple' object does not support item assignment",
     "output_type": "error",
     "traceback": [
      "\u001b[1;31m---------------------------------------------------------------------------\u001b[0m",
      "\u001b[1;31mTypeError\u001b[0m                                 Traceback (most recent call last)",
      "Cell \u001b[1;32mIn[50], line 2\u001b[0m\n\u001b[0;32m      1\u001b[0m \u001b[38;5;66;03m# tuples are immutable and you cannot change them; hence the error that follows\u001b[39;00m\n\u001b[1;32m----> 2\u001b[0m tuple_1[\u001b[38;5;241m0\u001b[39m] \u001b[38;5;241m=\u001b[39m \u001b[38;5;241m10\u001b[39m\n",
      "\u001b[1;31mTypeError\u001b[0m: 'tuple' object does not support item assignment"
     ]
    }
   ],
   "source": [
    "# tuples are immutable and you cannot change them; hence the error that follows\n",
    "tuple_1[0] = 10"
   ]
  },
  {
   "cell_type": "markdown",
   "metadata": {},
   "source": [
    "### 3. Sets"
   ]
  },
  {
   "cell_type": "code",
   "execution_count": 51,
   "metadata": {},
   "outputs": [],
   "source": [
    "# Lesson Workspace\n",
    "list_1 = ['a', 'a', 'b', 'b', 'c', 'c', 'd', 'd', 'e', 'e']\n",
    "set_1 = {'a', 'a', 'b', 'b', 'c', 'c', 'd', 'd', 'e', 'e'}"
   ]
  },
  {
   "cell_type": "code",
   "execution_count": 52,
   "metadata": {},
   "outputs": [
    {
     "name": "stdout",
     "output_type": "stream",
     "text": [
      "['a', 'a', 'b', 'b', 'c', 'c', 'd', 'd', 'e', 'e']\n",
      "{'c', 'a', 'e', 'b', 'd'}\n"
     ]
    }
   ],
   "source": [
    "print(list_1)\n",
    "print(set_1)"
   ]
  },
  {
   "cell_type": "code",
   "execution_count": 53,
   "metadata": {},
   "outputs": [
    {
     "name": "stdout",
     "output_type": "stream",
     "text": [
      "['IT', 'Consumer', 'IT', 'IT', 'Financials']\n",
      "{'Consumer', 'IT', 'Financials'}\n"
     ]
    }
   ],
   "source": [
    "list_1 = ['IT', 'Consumer', 'IT', 'IT', 'Financials']\n",
    "set_1 = {'IT', 'Consumer', 'IT', 'IT', 'Financials'}\n",
    "print(list_1)\n",
    "print(set_1)"
   ]
  },
  {
   "cell_type": "code",
   "execution_count": 54,
   "metadata": {},
   "outputs": [
    {
     "name": "stdout",
     "output_type": "stream",
     "text": [
      "['x', 'x', 'y', 'y', 'z', 'z']\n"
     ]
    }
   ],
   "source": [
    "xyz_list = ['x', 'x', 'y', 'y', 'z', 'z']\n",
    "print(xyz_list)"
   ]
  },
  {
   "cell_type": "code",
   "execution_count": 59,
   "metadata": {},
   "outputs": [
    {
     "name": "stdout",
     "output_type": "stream",
     "text": [
      "{'y', 'z', 'x'}\n"
     ]
    }
   ],
   "source": [
    "xyz_set = set(xyz_list)\n",
    "print(xyz_set)"
   ]
  },
  {
   "cell_type": "code",
   "execution_count": 60,
   "metadata": {},
   "outputs": [],
   "source": [
    "# Three set operations\n",
    "# Use the format 'set_1.function(set_2)'\n",
    "# .union()\n",
    "# .intersection()\n",
    "# .difference()"
   ]
  },
  {
   "cell_type": "code",
   "execution_count": 62,
   "metadata": {},
   "outputs": [],
   "source": [
    "mkt_cap_over_500 = {'AAPL', 'AMZN', 'MSFT', 'GOOGL', 'BRK/A'}\n",
    "Aaa_rated = {'MSFT', 'JNJ', 'XOM'}"
   ]
  },
  {
   "cell_type": "code",
   "execution_count": 63,
   "metadata": {},
   "outputs": [
    {
     "name": "stdout",
     "output_type": "stream",
     "text": [
      "{'XOM', 'JNJ', 'MSFT', 'AMZN', 'AAPL', 'GOOGL', 'BRK/A'}\n"
     ]
    }
   ],
   "source": [
    "# Combine sets with .union() where set order does not matter\n",
    "print(mkt_cap_over_500.union(Aaa_rated))"
   ]
  },
  {
   "cell_type": "code",
   "execution_count": 64,
   "metadata": {},
   "outputs": [
    {
     "name": "stdout",
     "output_type": "stream",
     "text": [
      "{'MSFT'}\n"
     ]
    }
   ],
   "source": [
    "# Find common elements with .intersection() where set order does not matter\n",
    "print(mkt_cap_over_500.intersection(Aaa_rated))"
   ]
  },
  {
   "cell_type": "code",
   "execution_count": 65,
   "metadata": {},
   "outputs": [
    {
     "name": "stdout",
     "output_type": "stream",
     "text": [
      "{'AAPL', 'GOOGL', 'BRK/A', 'AMZN'}\n"
     ]
    }
   ],
   "source": [
    "# Find different elements with .difference() where order DOES matter\n",
    "print(mkt_cap_over_500.difference(Aaa_rated))"
   ]
  },
  {
   "cell_type": "code",
   "execution_count": 66,
   "metadata": {},
   "outputs": [
    {
     "name": "stdout",
     "output_type": "stream",
     "text": [
      "{'XOM', 'JNJ'}\n"
     ]
    }
   ],
   "source": [
    "print(Aaa_rated.difference(mkt_cap_over_500))"
   ]
  },
  {
   "cell_type": "markdown",
   "metadata": {},
   "source": [
    "<font color = 'blue'> **EXERCISE 3.1** </font>"
   ]
  },
  {
   "cell_type": "code",
   "execution_count": null,
   "metadata": {},
   "outputs": [],
   "source": [
    "# Healthcare Companies: 'JNJ', 'UNH', 'PFE', 'ABBV', 'AMGN', 'ABT'\n",
    "# Companies with Beta > 1: 'ABBV', 'AMGN', 'ABT', 'NFLX', 'NVDA'"
   ]
  },
  {
   "cell_type": "code",
   "execution_count": 67,
   "metadata": {},
   "outputs": [],
   "source": [
    "hc_comp = {'JNJ', 'UNH', 'PFE', 'ABBV', 'AMGN', 'ABT'}\n",
    "comp_beta_greater_1 = {'ABBV', 'AMGN', 'ABT', 'NFLX', 'NVDA'}"
   ]
  },
  {
   "cell_type": "code",
   "execution_count": 68,
   "metadata": {},
   "outputs": [
    {
     "name": "stdout",
     "output_type": "stream",
     "text": [
      "{'PFE', 'ABT', 'NFLX', 'JNJ', 'UNH', 'ABBV', 'NVDA', 'AMGN'}\n"
     ]
    }
   ],
   "source": [
    "# All the companies included in both sets\n",
    "print(hc_comp.union(comp_beta_greater_1))"
   ]
  },
  {
   "cell_type": "code",
   "execution_count": 69,
   "metadata": {},
   "outputs": [
    {
     "name": "stdout",
     "output_type": "stream",
     "text": [
      "{'ABBV', 'ABT', 'AMGN'}\n"
     ]
    }
   ],
   "source": [
    "# Healthcare companies with a beta > 1\n",
    "print(hc_comp.intersection(comp_beta_greater_1))"
   ]
  },
  {
   "cell_type": "code",
   "execution_count": 70,
   "metadata": {},
   "outputs": [
    {
     "name": "stdout",
     "output_type": "stream",
     "text": [
      "{'JNJ', 'PFE', 'UNH'}\n"
     ]
    }
   ],
   "source": [
    "# Healthcare companies with a beta < 1\n",
    "print(hc_comp.difference(comp_beta_greater_1))"
   ]
  },
  {
   "cell_type": "code",
   "execution_count": 71,
   "metadata": {},
   "outputs": [
    {
     "name": "stdout",
     "output_type": "stream",
     "text": [
      "{'NFLX', 'NVDA'}\n"
     ]
    }
   ],
   "source": [
    "# Checking that the following are all non-hc companies\n",
    "print(comp_beta_greater_1.difference(hc_comp))"
   ]
  },
  {
   "cell_type": "markdown",
   "metadata": {},
   "source": [
    "### 4. Dictionaries"
   ]
  },
  {
   "cell_type": "code",
   "execution_count": 72,
   "metadata": {},
   "outputs": [],
   "source": [
    "# Lesson Workspace\n",
    "healthcare_beta_values = {\n",
    "    'JNJ': 0.86,\n",
    "    'UNH': 0.97,\n",
    "    'PFE': 0.81,\n",
    "    'ABBV': 1.39,\n",
    "    'AMGN': 1.05,\n",
    "    'ABT': 1.07\n",
    "}"
   ]
  },
  {
   "cell_type": "code",
   "execution_count": 73,
   "metadata": {},
   "outputs": [],
   "source": [
    "# Add name to ticker key and beta value for a second value\n",
    "healthcare_data = {\n",
    "    'JNJ': ['Johnson & Johnson', 0.86],\n",
    "    'UNH': ['United Health Group', 0.97],\n",
    "    'PFE': ['Pfizer Inc.', 0.81],\n",
    "    'ABBV': ['AbbVie Inc.', 1.39],\n",
    "    'AMGN': ['Amgen Inc.', 1.05],\n",
    "    'ABT': ['Abbott Labs', 1.07]\n",
    "}"
   ]
  },
  {
   "cell_type": "code",
   "execution_count": 74,
   "metadata": {},
   "outputs": [
    {
     "data": {
      "text/plain": [
       "['United Health Group', 0.97]"
      ]
     },
     "execution_count": 74,
     "metadata": {},
     "output_type": "execute_result"
    }
   ],
   "source": [
    "healthcare_data['UNH']"
   ]
  },
  {
   "cell_type": "code",
   "execution_count": 75,
   "metadata": {},
   "outputs": [
    {
     "data": {
      "text/plain": [
       "'United Health Group'"
      ]
     },
     "execution_count": 75,
     "metadata": {},
     "output_type": "execute_result"
    }
   ],
   "source": [
    "healthcare_data['UNH'][0]"
   ]
  },
  {
   "cell_type": "code",
   "execution_count": 76,
   "metadata": {},
   "outputs": [
    {
     "data": {
      "text/plain": [
       "0.97"
      ]
     },
     "execution_count": 76,
     "metadata": {},
     "output_type": "execute_result"
    }
   ],
   "source": [
    "healthcare_data['UNH'][1]"
   ]
  },
  {
   "cell_type": "markdown",
   "metadata": {},
   "source": [
    "<font color = 'blue'> **EXERCISE 4.1** </font>"
   ]
  },
  {
   "cell_type": "code",
   "execution_count": 80,
   "metadata": {},
   "outputs": [
    {
     "name": "stdout",
     "output_type": "stream",
     "text": [
      "[42.96, 43.06]\n",
      "205.9\n"
     ]
    }
   ],
   "source": [
    "# Define lists\n",
    "jnj = [139.49, 144.20]\n",
    "unh = [265.31, 284.14]\n",
    "pfe = [42.96, 43.06]\n",
    "abbv = [95.68, 107.44]\n",
    "amgn = [200.58, 205.90]\n",
    "abt = [68.42, 71.06]\n",
    "\n",
    "# Create dictionary\n",
    "price_dict = {\n",
    "    'JNJ': jnj,\n",
    "    'UNH': unh,\n",
    "    'PFE': pfe,\n",
    "    'ABBV': abbv,\n",
    "    'AMGN': amgn,\n",
    "    'ABT': abt\n",
    "}\n",
    "\n",
    "# Print the entire value for PFE\n",
    "print(price_dict['PFE'])\n",
    "\n",
    "# Print the price target for AMGN\n",
    "print(price_dict['AMGN'][1])"
   ]
  },
  {
   "cell_type": "markdown",
   "metadata": {},
   "source": [
    "#### Dictionary Functions"
   ]
  },
  {
   "cell_type": "code",
   "execution_count": 81,
   "metadata": {},
   "outputs": [
    {
     "data": {
      "text/plain": [
       "dict_keys(['JNJ', 'UNH', 'PFE', 'ABBV', 'AMGN', 'ABT'])"
      ]
     },
     "execution_count": 81,
     "metadata": {},
     "output_type": "execute_result"
    }
   ],
   "source": [
    "healthcare_beta_values.keys()"
   ]
  },
  {
   "cell_type": "code",
   "execution_count": 82,
   "metadata": {},
   "outputs": [
    {
     "data": {
      "text/plain": [
       "dict_values([0.86, 0.97, 0.81, 1.39, 1.05, 1.07])"
      ]
     },
     "execution_count": 82,
     "metadata": {},
     "output_type": "execute_result"
    }
   ],
   "source": [
    "healthcare_beta_values.values()"
   ]
  },
  {
   "cell_type": "code",
   "execution_count": 83,
   "metadata": {},
   "outputs": [
    {
     "data": {
      "text/plain": [
       "dict_items([('JNJ', 0.86), ('UNH', 0.97), ('PFE', 0.81), ('ABBV', 1.39), ('AMGN', 1.05), ('ABT', 1.07)])"
      ]
     },
     "execution_count": 83,
     "metadata": {},
     "output_type": "execute_result"
    }
   ],
   "source": [
    "healthcare_beta_values.items()"
   ]
  },
  {
   "cell_type": "code",
   "execution_count": 84,
   "metadata": {},
   "outputs": [],
   "source": [
    "healthcare_beta_values['MRK'] = 0.65"
   ]
  },
  {
   "cell_type": "code",
   "execution_count": 85,
   "metadata": {},
   "outputs": [
    {
     "data": {
      "text/plain": [
       "dict_keys(['JNJ', 'UNH', 'PFE', 'ABBV', 'AMGN', 'ABT', 'MRK'])"
      ]
     },
     "execution_count": 85,
     "metadata": {},
     "output_type": "execute_result"
    }
   ],
   "source": [
    "healthcare_beta_values.keys()"
   ]
  },
  {
   "cell_type": "code",
   "execution_count": 86,
   "metadata": {},
   "outputs": [
    {
     "data": {
      "text/plain": [
       "dict_values([0.86, 0.97, 0.81, 1.39, 1.05, 1.07, 0.65])"
      ]
     },
     "execution_count": 86,
     "metadata": {},
     "output_type": "execute_result"
    }
   ],
   "source": [
    "healthcare_beta_values.values()"
   ]
  },
  {
   "cell_type": "code",
   "execution_count": 87,
   "metadata": {},
   "outputs": [
    {
     "data": {
      "text/plain": [
       "dict_items([('JNJ', 0.86), ('UNH', 0.97), ('PFE', 0.81), ('ABBV', 1.39), ('AMGN', 1.05), ('ABT', 1.07), ('MRK', 0.65)])"
      ]
     },
     "execution_count": 87,
     "metadata": {},
     "output_type": "execute_result"
    }
   ],
   "source": [
    "healthcare_beta_values.items()"
   ]
  },
  {
   "cell_type": "code",
   "execution_count": 88,
   "metadata": {},
   "outputs": [],
   "source": [
    "del healthcare_beta_values['JNJ']"
   ]
  },
  {
   "cell_type": "code",
   "execution_count": 89,
   "metadata": {},
   "outputs": [
    {
     "data": {
      "text/plain": [
       "dict_keys(['UNH', 'PFE', 'ABBV', 'AMGN', 'ABT', 'MRK'])"
      ]
     },
     "execution_count": 89,
     "metadata": {},
     "output_type": "execute_result"
    }
   ],
   "source": [
    "healthcare_beta_values.keys()"
   ]
  },
  {
   "cell_type": "markdown",
   "metadata": {},
   "source": [
    "<font color = 'blue'> **EXERCISE 4.2** </font>"
   ]
  },
  {
   "cell_type": "code",
   "execution_count": 90,
   "metadata": {},
   "outputs": [
    {
     "data": {
      "text/plain": [
       "{'JNJ': [139.49, 144.2],\n",
       " 'UNH': [265.31, 284.14],\n",
       " 'PFE': [42.96, 43.06],\n",
       " 'ABBV': [95.68, 107.44],\n",
       " 'AMGN': [200.58, 205.9],\n",
       " 'ABT': [68.42, 71.06],\n",
       " 'MRK': [69.98, 74.53]}"
      ]
     },
     "execution_count": 90,
     "metadata": {},
     "output_type": "execute_result"
    }
   ],
   "source": [
    "# Add Merck 'MRK' with current price of $69.98 and target price of $74.53\n",
    "price_dict['MRK'] = [69.98, 74.53]\n",
    "price_dict"
   ]
  },
  {
   "cell_type": "code",
   "execution_count": 91,
   "metadata": {},
   "outputs": [
    {
     "data": {
      "text/plain": [
       "dict_keys(['UNH', 'PFE', 'ABBV', 'AMGN', 'ABT', 'MRK'])"
      ]
     },
     "execution_count": 91,
     "metadata": {},
     "output_type": "execute_result"
    }
   ],
   "source": [
    "# Remove 'JNJ' and print the dictionary keys\n",
    "del price_dict['JNJ']\n",
    "price_dict.keys()"
   ]
  }
 ],
 "metadata": {
  "kernelspec": {
   "display_name": "Python 3 (ipykernel)",
   "language": "python",
   "name": "python3"
  },
  "language_info": {
   "codemirror_mode": {
    "name": "ipython",
    "version": 3
   },
   "file_extension": ".py",
   "mimetype": "text/x-python",
   "name": "python",
   "nbconvert_exporter": "python",
   "pygments_lexer": "ipython3",
   "version": "3.12.7"
  }
 },
 "nbformat": 4,
 "nbformat_minor": 4
}
