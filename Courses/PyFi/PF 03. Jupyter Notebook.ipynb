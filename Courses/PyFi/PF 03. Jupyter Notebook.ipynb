{
 "cells": [
  {
   "cell_type": "markdown",
   "metadata": {},
   "source": [
    "# Python Fundamentals III\n",
    "Welcome to the third lesson! This Jupyter Notebook file is meant to accompany **L03 - Python Fundamentals III**."
   ]
  },
  {
   "cell_type": "markdown",
   "metadata": {},
   "source": [
    "Type your solutions for each exercise in the code cells below, and then press **Shift + Enter** to execute your code. Then, check the solution video to see how you did!"
   ]
  },
  {
   "cell_type": "markdown",
   "metadata": {},
   "source": [
    "### 1. Creating Custom Functions"
   ]
  },
  {
   "cell_type": "markdown",
   "metadata": {},
   "source": [
    "<font color = 'blue'> **EXERCISE 1.1** </font>"
   ]
  },
  {
   "cell_type": "code",
<<<<<<< HEAD
=======
   "execution_count": 1,
   "metadata": {},
   "outputs": [
    {
     "name": "stdout",
     "output_type": "stream",
     "text": [
      "1.39\n",
      "0.86\n"
     ]
    }
   ],
   "source": [
    "beta_values = [0.86, 0.97, 0.91, 1.39, 1.05, 1.07]\n",
    "print(max(beta_values))\n",
    "print(min(beta_values))"
   ]
  },
  {
   "cell_type": "code",
>>>>>>> 4e0dfa4670871c4b6d36cbc9f8a9f52ccaf84856
   "execution_count": 2,
   "metadata": {},
   "outputs": [
    {
     "name": "stdout",
     "output_type": "stream",
     "text": [
<<<<<<< HEAD
      "133.1\n"
=======
      "1.39\n",
      "0.86\n"
>>>>>>> 4e0dfa4670871c4b6d36cbc9f8a9f52ccaf84856
     ]
    }
   ],
   "source": [
<<<<<<< HEAD
    "def future_value(pv, r, n):\n",
    "    return(round(pv * ((1 + r) ** n),2))\n",
    "\n",
    "print(future_value(100, 0.1, 3))"
=======
    "# creating a custom function: def, name with parentheses, and indented code block with instructions\n",
    "\n",
    "def min_max():\n",
    "    print(max(beta_values))\n",
    "    print(min(beta_values))\n",
    "\n",
    "min_max()"
   ]
  },
  {
   "cell_type": "code",
   "execution_count": 3,
   "metadata": {},
   "outputs": [
    {
     "name": "stdout",
     "output_type": "stream",
     "text": [
      "1.39\n",
      "0.86\n"
     ]
    }
   ],
   "source": [
    "# with an argument\n",
    "\n",
    "def new_min_max(list_argument):\n",
    "    print(max(list_argument))\n",
    "    print(min(list_argument))\n",
    "\n",
    "new_min_max(beta_values)"
   ]
  },
  {
   "cell_type": "code",
   "execution_count": 4,
   "metadata": {},
   "outputs": [
    {
     "name": "stdout",
     "output_type": "stream",
     "text": [
      "3\n",
      "1\n"
     ]
    }
   ],
   "source": [
    "list_1 = [1, 2, 3]\n",
    "\n",
    "new_min_max(list_1)"
   ]
  },
  {
   "cell_type": "markdown",
   "metadata": {},
   "source": [
    "How do you get make it possible to use the output of a function as a variable?  You need to ensure there is a `return` statement."
   ]
  },
  {
   "cell_type": "code",
   "execution_count": 5,
   "metadata": {},
   "outputs": [
    {
     "name": "stdout",
     "output_type": "stream",
     "text": [
      "[0.86, 1.39]\n"
     ]
    }
   ],
   "source": [
    "# new function with a return statement so you can use it as a variable\n",
    "\n",
    "def new_new_min_max(list_argument):\n",
    "    min_var = min(list_argument)\n",
    "    max_var = max(list_argument)\n",
    "    return [min_var, max_var]\n",
    "\n",
    "beta_min_max = new_new_min_max(beta_values)\n",
    "print(beta_min_max)"
   ]
  },
  {
   "cell_type": "code",
   "execution_count": 8,
   "metadata": {},
   "outputs": [
    {
     "name": "stdout",
     "output_type": "stream",
     "text": [
      "[0.86, 1.39]\n"
     ]
    }
   ],
   "source": [
    "# more streamlined version of the above\n",
    "\n",
    "def new_new_new_min_max(list_argument):\n",
    "    return[min(list_argument),max(list_argument)]\n",
    "\n",
    "beta_min_max = new_new_new_min_max(beta_values)\n",
    "print(beta_min_max)"
   ]
  },
  {
   "cell_type": "code",
   "execution_count": 24,
   "metadata": {},
   "outputs": [
    {
     "data": {
      "text/plain": [
       "133"
      ]
     },
     "execution_count": 24,
     "metadata": {},
     "output_type": "execute_result"
    }
   ],
   "source": [
    "# future value problem Exercise 1.1 investment = 100, growth rate = 10%, years = 3, and calc fv\n",
    "\n",
    "def future_value(pv, r, n):\n",
    "    fv = pv * ((1 + r)**n)\n",
    "    return fv\n",
    "\n",
    "round(future_value(100, 0.10, 3))"
>>>>>>> 4e0dfa4670871c4b6d36cbc9f8a9f52ccaf84856
   ]
  },
  {
   "cell_type": "markdown",
   "metadata": {},
   "source": [
    "### 2. For Loops"
   ]
  },
  {
   "cell_type": "markdown",
   "metadata": {},
   "source": [
    "<font color = 'blue'> **EXERCISE 2.1** </font>"
   ]
  },
  {
   "cell_type": "code",
<<<<<<< HEAD
   "execution_count": null,
   "metadata": {
    "collapsed": true,
    "jupyter": {
     "outputs_hidden": true
    }
   },
=======
   "execution_count": 25,
   "metadata": {},
>>>>>>> 4e0dfa4670871c4b6d36cbc9f8a9f52ccaf84856
   "outputs": [],
   "source": [
    "# Run this code cell to create the price lists below\n",
    "jnj = [139.49, 144.20]\n",
    "unh = [265.31, 284.14]\n",
    "pfe = [42.96, 43.06]\n",
    "abbv = [95.68, 107.44]\n",
    "amgn = [200.58, 205.9]\n",
    "abt = [68.42, 71.06]"
   ]
  },
  {
   "cell_type": "code",
<<<<<<< HEAD
   "execution_count": null,
   "metadata": {
    "collapsed": true,
    "jupyter": {
     "outputs_hidden": true
    }
   },
   "outputs": [],
   "source": []
=======
   "execution_count": 26,
   "metadata": {},
   "outputs": [],
   "source": [
    "# practice\n",
    "\n",
    "metrics_1 = [100, 0.2, 2]\n",
    "metrics_2 = [100, 0.1, 6]\n",
    "metrics_3 = [100, 0.22, 3]\n",
    "metrics_4 = [100, 0.15, 1]\n",
    "metrics_5 = [100, 0.08, 4]"
   ]
  },
  {
   "cell_type": "code",
   "execution_count": 27,
   "metadata": {},
   "outputs": [
    {
     "name": "stdout",
     "output_type": "stream",
     "text": [
      "144.0\n",
      "144\n"
     ]
    }
   ],
   "source": [
    "def new_future_value(metrics_list):\n",
    "    return round(metrics_list[0] * (1 + metrics_list[1])**metrics_list[2])\n",
    "\n",
    "print(future_value(100, 0.2, 2))\n",
    "print(new_future_value(metrics_1))"
   ]
>>>>>>> 4e0dfa4670871c4b6d36cbc9f8a9f52ccaf84856
  },
  {
   "cell_type": "markdown",
   "metadata": {},
   "source": [
    "<font color = 'blue'> **EXERCISE 2.2** </font>"
   ]
  },
  {
   "cell_type": "code",
   "execution_count": null,
   "metadata": {
    "collapsed": true,
    "jupyter": {
     "outputs_hidden": true
    }
   },
   "outputs": [],
   "source": []
  },
  {
   "cell_type": "markdown",
   "metadata": {},
   "source": [
    "### 3. Conditional Logic"
   ]
  },
  {
   "cell_type": "markdown",
   "metadata": {},
   "source": [
    "<font color = 'blue'> **EXERCISE 3.1** </font>"
   ]
  },
  {
   "cell_type": "code",
   "execution_count": null,
   "metadata": {
    "collapsed": true,
    "jupyter": {
     "outputs_hidden": true
    }
   },
   "outputs": [],
   "source": [
    "roi_dict = {\n",
    "    'jnj' : 0.034,\n",
    "    'unh' : 0.071,\n",
    "    'pfe' : 0.002,\n",
    "    'abbv' : 0.123,\n",
    "    'amgn' : 0.027,\n",
    "    'abt' : 0.039\n",
    "}"
   ]
  }
 ],
 "metadata": {
  "kernelspec": {
   "display_name": "Python 3 (ipykernel)",
   "language": "python",
   "name": "python3"
  },
  "language_info": {
   "codemirror_mode": {
    "name": "ipython",
    "version": 3
   },
   "file_extension": ".py",
   "mimetype": "text/x-python",
   "name": "python",
   "nbconvert_exporter": "python",
   "pygments_lexer": "ipython3",
   "version": "3.12.7"
  }
 },
 "nbformat": 4,
 "nbformat_minor": 4
}
