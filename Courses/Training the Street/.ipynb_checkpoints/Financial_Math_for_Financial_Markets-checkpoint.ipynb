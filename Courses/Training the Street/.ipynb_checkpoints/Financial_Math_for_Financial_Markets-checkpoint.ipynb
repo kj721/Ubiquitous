{
 "cells": [
  {
   "cell_type": "markdown",
   "id": "bdbc0d27-6d08-4d6e-9515-339aad47a321",
   "metadata": {},
   "source": [
    "# Time Value of Money"
   ]
  },
  {
   "cell_type": "markdown",
   "id": "d13a48a5-407a-416f-b2cc-d216b67c94cd",
   "metadata": {},
   "source": [
    "Time value of money is used to assess the values of cash flows, either known or expected, occurring at various points in time.\n",
    "\n",
    "- Future value (how much is a cash flow today going to be worth in the future)\n",
    "- Present value (how much is a cash flow received in the future worth today)\n",
    "- Yield (how much return, as a percentage, do I earn annually if I know how much I invest today, and I know how much I will get back in the future?)"
   ]
  },
  {
   "cell_type": "markdown",
   "id": "6b68198e-22f5-400c-9667-716cb927243c",
   "metadata": {},
   "source": [
    "## Future value"
   ]
  },
  {
   "cell_type": "markdown",
   "id": "657ff2f1-ae23-4821-b6f4-88cd604ac08f",
   "metadata": {},
   "source": [
    "- How much a dollar spent today is worth in the future\n",
    "- Calculate the future value of an investment\n",
    "- Forecast sales using a growth rate\n",
    "- Compare returns of investments"
   ]
  },
  {
   "cell_type": "markdown",
   "id": "906ee51e-74b9-43e3-9291-6c7cf1c56db7",
   "metadata": {},
   "source": [
    "You are given \\$1,000 for three years which you invest in the bank at 10% interest:\n",
    "- Present value (PV): \\$1,000\n",
    "- Number of periods (n): 3\n",
    "- Interest amount/yield (r): 10%\n",
    "- Future value (FV): ?"
   ]
  },
  {
   "cell_type": "markdown",
   "id": "bd5ee035-56fb-4aba-a7cd-1a2028004811",
   "metadata": {},
   "source": [
    "$\\text{FV}=\\text{PV}\\times{(1+r)^n}$"
   ]
  },
  {
   "cell_type": "markdown",
   "id": "6c1d5249-004d-4b9c-8bcd-8ba89cde342a",
   "metadata": {},
   "source": [
    "Which would give us the following: $\\text{FV}=\\$1,000\\times{(1+0.10)^3}=\\$1,000\\times{(1.10)^3}$"
   ]
  },
  {
   "cell_type": "code",
   "execution_count": 21,
   "id": "c3413211-e4d0-4803-89f2-d2e869f0d766",
   "metadata": {},
   "outputs": [],
   "source": [
    "import math\n",
    "import random\n",
    "import numpy as np\n",
    "import numpy_financial as npf\n",
    "import QuantLib as ql\n",
    "import financepy as fpy\n",
    "import pyfinance as pyf\n",
    "import pandas as pd\n",
    "import matplotlib.pyplot as plt\n",
    "import seaborn as sns"
   ]
  },
  {
   "cell_type": "code",
   "execution_count": 22,
   "id": "e4324bad-ed71-4c78-81dd-08407180ef76",
   "metadata": {},
   "outputs": [
    {
     "name": "stdout",
     "output_type": "stream",
     "text": [
      "Future Value: $1331.00\n"
     ]
    }
   ],
   "source": [
    "# straight math\n",
    "pv = 1000\n",
    "r = 0.10\n",
    "n = 3\n",
    "pmt = 0\n",
    "\n",
    "fv = pv * ((1 + r)**n)\n",
    "print(f\"Future Value: ${fv:.2f}\")"
   ]
  },
  {
   "cell_type": "code",
   "execution_count": 23,
   "id": "ccb24440-b329-4f81-829d-41c411c34fde",
   "metadata": {},
   "outputs": [
    {
     "name": "stdout",
     "output_type": "stream",
     "text": [
      "Future Value: $1,331.00\n"
     ]
    }
   ],
   "source": [
    "# with numpy financial\n",
    "fv = npf.fv(r, n, pmt ,pv)\n",
    "print(f\"Future Value: ${-fv:,.2f}\")"
   ]
  },
  {
   "cell_type": "markdown",
   "id": "f608ed5d-9db5-4dbb-9e1e-2e797d7b420f",
   "metadata": {},
   "source": [
    "## Compounding Interest"
   ]
  },
  {
   "cell_type": "markdown",
   "id": "17e75fed-5cf6-4b56-b86f-30af3051f379",
   "metadata": {},
   "source": [
    "The return on the investment above is greater than $0.10\\times{3}=0.30$."
   ]
  },
  {
   "cell_type": "markdown",
   "id": "f87f5452-3f63-4b38-8c57-85f148aa57b8",
   "metadata": {},
   "source": [
    "The reason that is the case is due to compound interest, or earning interest on previous interest gains."
   ]
  },
  {
   "cell_type": "code",
   "execution_count": 24,
   "id": "84aa494a-8590-4ec4-befa-f2a735fe400b",
   "metadata": {},
   "outputs": [
    {
     "name": "stdout",
     "output_type": "stream",
     "text": [
      "Gross Return: 33.10%\n"
     ]
    }
   ],
   "source": [
    "# gross return\n",
    "gross_ret = -fv / pv -1\n",
    "print(f\"Gross Return: {gross_ret:.2%}\")"
   ]
  },
  {
   "cell_type": "markdown",
   "id": "659e75d7-7e45-424b-9f3a-e59d18cb1164",
   "metadata": {},
   "source": [
    "However, we can see that when we calculate the compound average growth rate, we get back to the annual interest rate."
   ]
  },
  {
   "cell_type": "code",
   "execution_count": 25,
   "id": "13a0f647-fc5c-4068-8f46-4150b8583696",
   "metadata": {},
   "outputs": [
    {
     "name": "stdout",
     "output_type": "stream",
     "text": [
      "CAGR: 10.00%\n"
     ]
    }
   ],
   "source": [
    "# calculate CAGR\n",
    "cagr = ((-fv / pv) ** (1/3)) - 1\n",
    "print(f\"CAGR: {cagr:.2%}\")"
   ]
  },
  {
   "cell_type": "markdown",
   "id": "6cce47cd-2acd-4904-8d6b-1b471996ccb5",
   "metadata": {},
   "source": [
    "### Future Value Problem"
   ]
  },
  {
   "cell_type": "markdown",
   "id": "774cccd1-bd9a-455e-86f1-087398d28c8c",
   "metadata": {},
   "source": [
    "A practical application of the future value formula is forecasting.\n",
    "\n",
    "If last year's sales were \\$760,000 and you expect them to grow next year by 5.5%, then year 1 forecast will be what?\n",
    "\n",
    "$\\text{FV}=\\text{PV}\\times{(1+r)^n}$\n",
    "\n",
    "$\\text{FV}=\\$760,000\\times{1.055^1}$"
   ]
  },
  {
   "cell_type": "code",
   "execution_count": 26,
   "id": "e53aa3c4-be51-4cfa-b084-4690c6b51d30",
   "metadata": {},
   "outputs": [
    {
     "name": "stdout",
     "output_type": "stream",
     "text": [
      "Forecasted Sales: $801,800.00\n"
     ]
    }
   ],
   "source": [
    "# calculate forecasted sales\n",
    "pv = 760000\n",
    "r = 0.055\n",
    "n = 1\n",
    "\n",
    "fv = 760000 * ((1 + r)**n)\n",
    "print(f\"Forecasted Sales: ${fv:,.2f}\")"
   ]
  },
  {
   "cell_type": "markdown",
   "id": "84bf1058-ac19-4ab2-a01f-36f6d257429a",
   "metadata": {},
   "source": [
    "## Present Value"
   ]
  },
  {
   "cell_type": "markdown",
   "id": "829fbe59-4036-456d-a060-67d1b306ef1c",
   "metadata": {},
   "source": [
    "If we know the future value, we can use present value to tell us what a future cash flow is worth today.  This is relevant due to the fact that cash in hand today is worth more than uncertain cash in the future."
   ]
  },
  {
   "cell_type": "markdown",
   "id": "6614bc0b-9ca3-4102-98a6-7b6cbb63a423",
   "metadata": {},
   "source": [
    "$\\text{FV}=\\text{PV}\\times{(1+r)^n}$\n",
    "\n",
    "$\\dfrac{\\text{FV}}{(1+r)^n}=\\text{PV}$\n",
    "\n",
    "$\\text{PV}=\\dfrac{\\text{FV}}{(1+r)^n}$"
   ]
  },
  {
   "cell_type": "markdown",
   "id": "4db466e8-ec23-4d0c-9747-20b08d9164fa",
   "metadata": {},
   "source": [
    "### Present value problem"
   ]
  },
  {
   "cell_type": "markdown",
   "id": "c6cc3cdd-43eb-4c54-a3c6-3ad7dad650b4",
   "metadata": {},
   "source": [
    "You want to buy a Ferrari in five years.  You estimate the car will cost you \\$200,000.  How much do you have to invest today at 7% to be able to affor the car?"
   ]
  },
  {
   "cell_type": "markdown",
   "id": "87342701-4e0f-46dd-bec8-33802df2fc48",
   "metadata": {},
   "source": [
    "$\\text{PV}=\\dfrac{\\text{FV}}{(1+r)^n}$\n",
    "\n",
    "$\\text{PV}=\\dfrac{\\$200,000}{(1.07)^5}$"
   ]
  },
  {
   "cell_type": "code",
   "execution_count": 29,
   "id": "e2764942-bed3-49b3-99f2-2d8d4fa6d364",
   "metadata": {},
   "outputs": [
    {
     "name": "stdout",
     "output_type": "stream",
     "text": [
      "Present Value: $142,597.24\n"
     ]
    }
   ],
   "source": [
    "# direct calculation\n",
    "fv = 200000\n",
    "r = 0.07\n",
    "n = 5\n",
    "pmt = 0\n",
    "\n",
    "pv = fv / ((1 + r) ** 5)\n",
    "print(f\"Present Value: ${pv:,.2f}\")"
   ]
  },
  {
   "cell_type": "code",
   "execution_count": 30,
   "id": "22893507-0e70-48db-871b-e1f2b051f900",
   "metadata": {},
   "outputs": [
    {
     "name": "stdout",
     "output_type": "stream",
     "text": [
      "Present Value: $142,597.24\n"
     ]
    }
   ],
   "source": [
    "# numpy_financial\n",
    "pv = npf.pv(r, n, pmt, fv)\n",
    "print(f\"Present Value: ${-pv:,.2f}\")"
   ]
  },
  {
   "cell_type": "markdown",
   "id": "b39d0827-c4d4-49cb-ac4d-b8da5949c492",
   "metadata": {},
   "source": [
    "### Practical Application: Discounted Cash Flow"
   ]
  },
  {
   "cell_type": "markdown",
   "id": "abf4e026-3c5b-4549-b3cf-b0cdae09ac81",
   "metadata": {},
   "source": [
    "If you estimate that you are going to receive a cash flow at the end of year 1 of \\$550,000 and the yield you can get on investments over this year is 7.1% then the present value is what?"
   ]
  },
  {
   "cell_type": "markdown",
   "id": "9ca02b53-1524-4df6-bf5a-a3542288b5b9",
   "metadata": {},
   "source": [
    "$\\text{PV}=\\dfrac{\\$550,000}{(1.071)^1}$"
   ]
  },
  {
   "cell_type": "code",
   "execution_count": 31,
   "id": "c7d0a8af-e4cd-4a8d-98bb-1ba794f69a74",
   "metadata": {},
   "outputs": [
    {
     "name": "stdout",
     "output_type": "stream",
     "text": [
      "Present Value: $513,538.75\n"
     ]
    }
   ],
   "source": [
    "# direct calculation\n",
    "fv = 550000\n",
    "r = 0.071\n",
    "n = 1\n",
    "pmt = 0\n",
    "\n",
    "pv = fv / ((1 + r)**n)\n",
    "print(f\"Present Value: ${pv:,.2f}\")"
   ]
  },
  {
   "cell_type": "code",
   "execution_count": 34,
   "id": "efaf543a-e3ea-4a9f-bc41-690e44c525d7",
   "metadata": {},
   "outputs": [
    {
     "name": "stdout",
     "output_type": "stream",
     "text": [
      "Present Value: $513,538.75\n"
     ]
    }
   ],
   "source": [
    "# numpy_financial\n",
    "pv = npf.pv(r, n, pmt, fv)\n",
    "print(f\"Present Value: ${-pv:,.2f}\")"
   ]
  },
  {
   "cell_type": "markdown",
   "id": "d86e5039-6d2d-458d-bc33-17d9e94bc81c",
   "metadata": {},
   "source": [
    "## Yield"
   ]
  },
  {
   "cell_type": "markdown",
   "id": "5bfc864d-d845-4fde-bec0-020ee1df717d",
   "metadata": {},
   "source": [
    "Yield is the rate implicit in a pairing of present value and future value given a period of time between the present and future values.  It can be derived from the FV calculation."
   ]
  },
  {
   "cell_type": "markdown",
   "id": "aee2cefb-1c2b-49d8-a3e7-d717bf9c8cea",
   "metadata": {},
   "source": [
    "$\\text{FV}=\\text{PV}\\times{(1+r)^n}$\n",
    "\n",
    "$\\left( \\frac{\\text{FV}}{\\text{PV}} \\right)^{\\frac{1}{n}} = \\left( (1 + r)^n \\right)^{\\frac{1}{n}} = 1 + r$\n",
    "\n",
    "$\\left( \\frac{\\text{FV}}{\\text{PV}} \\right)^{\\frac{1}{n}}-1=r$\n",
    "\n",
    "$r = \\left( \\frac{\\text{FV}}{\\text{PV}} \\right)^{\\frac{1}{n}}-1$"
   ]
  },
  {
   "cell_type": "markdown",
   "id": "9d57bdfb-45dd-4db2-b3f6-9cc771e72706",
   "metadata": {},
   "source": [
    "You invested `$100,000` in EG stock.  Three years later, your investment is worth `$150,000`.  What was your compound annual growth rate over those three years.  Assume your received no dividends."
   ]
  },
  {
   "cell_type": "markdown",
   "id": "534d072d-1f4b-40dc-8721-4ccf318b3117",
   "metadata": {},
   "source": [
    "$r = \\left( \\frac{{\\$150,000}}{{\\$100,000}} \\right)^{\\frac{1}{3}}-1$"
   ]
  },
  {
   "cell_type": "code",
   "execution_count": 36,
   "id": "e1292f54-7d35-4b4e-8a27-c1eeb9ea5df9",
   "metadata": {},
   "outputs": [
    {
     "name": "stdout",
     "output_type": "stream",
     "text": [
      "Yield: 14.47%\n"
     ]
    }
   ],
   "source": [
    "# direct calculation\n",
    "fv = 150000\n",
    "pv = 100000\n",
    "n = 3\n",
    "pmt = 0\n",
    "\n",
    "r = ((fv/pv) ** (1/n)) -1\n",
    "print(f\"Yield: {r:.2%}\")"
   ]
  },
  {
   "cell_type": "markdown",
   "id": "ec767cbf-b672-401f-84cd-55b4ed5cae66",
   "metadata": {},
   "source": [
    "This can be used to figure out the rate at which sales for a company were growing looking backwards."
   ]
  },
  {
   "cell_type": "markdown",
   "id": "d53f1171-4a3e-4e5c-a0e7-f658964ce076",
   "metadata": {},
   "source": [
    "## Perpetuities"
   ]
  },
  {
   "cell_type": "markdown",
   "id": "9d152c8e-39fc-475a-9b18-ebfbff810f35",
   "metadata": {},
   "source": []
  }
 ],
 "metadata": {
  "kernelspec": {
   "display_name": "Python 3 (ipykernel)",
   "language": "python",
   "name": "python3"
  },
  "language_info": {
   "codemirror_mode": {
    "name": "ipython",
    "version": 3
   },
   "file_extension": ".py",
   "mimetype": "text/x-python",
   "name": "python",
   "nbconvert_exporter": "python",
   "pygments_lexer": "ipython3",
   "version": "3.12.7"
  }
 },
 "nbformat": 4,
 "nbformat_minor": 5
}
