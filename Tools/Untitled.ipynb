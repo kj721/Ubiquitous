{
 "cells": [
  {
   "cell_type": "code",
   "execution_count": null,
   "id": "833d7d71-dc74-4e87-b138-78c0550acc67",
   "metadata": {},
   "outputs": [],
   "source": []
  }
 ],
 "metadata": {
  "kernelspec": {
   "display_name": "",
   "name": ""
  },
  "language_info": {
   "name": ""
  }
 },
 "nbformat": 4,
 "nbformat_minor": 5
}
