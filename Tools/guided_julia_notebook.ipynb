{
 "cells": [
  {
   "cell_type": "code",
   "execution_count": 1,
   "id": "136ae695",
   "metadata": {},
   "outputs": [
    {
     "name": "stdout",
     "output_type": "stream",
     "text": [
      "4782969\n"
     ]
    }
   ],
   "source": [
    "println(9^7)"
   ]
  },
  {
   "cell_type": "code",
   "execution_count": 2,
   "id": "29cbbda3",
   "metadata": {},
   "outputs": [
    {
     "name": "stdout",
     "output_type": "stream",
     "text": [
      "I am learning Julia; it is faster than Python\n"
     ]
    }
   ],
   "source": [
    "println(\"I am learning Julia; it is faster than Python\")"
   ]
  },
  {
   "cell_type": "code",
   "execution_count": null,
   "id": "8542f55c",
   "metadata": {},
   "outputs": [],
   "source": []
  }
 ],
 "metadata": {
  "kernelspec": {
   "display_name": "Julia 1.8.5",
   "language": "julia",
   "name": "julia-1.8"
  },
  "language_info": {
   "file_extension": ".jl",
   "mimetype": "application/julia",
   "name": "julia",
   "version": "1.8.5"
  }
 },
 "nbformat": 4,
 "nbformat_minor": 5
}
