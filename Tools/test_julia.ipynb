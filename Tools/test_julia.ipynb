{
 "cells": [
  {
   "cell_type": "code",
   "execution_count": 1,
   "id": "3641f830",
   "metadata": {},
   "outputs": [
    {
     "name": "stderr",
     "output_type": "stream",
     "text": [
      "\u001b[33m\u001b[1m┌ \u001b[22m\u001b[39m\u001b[33m\u001b[1mWarning: \u001b[22m\u001b[39mThe active manifest file has dependencies that were resolved with a different julia version (1.8.3). Unexpected behavior may occur.\n",
      "\u001b[33m\u001b[1m└ \u001b[22m\u001b[39m\u001b[90m@ C:\\Users\\kelly\\Manifest.toml:0\u001b[39m\n",
      "\u001b[32m\u001b[1mPrecompiling\u001b[22m\u001b[39m QuadGK\n",
      "\u001b[32m  ✓ \u001b[39m\u001b[90mCompat\u001b[39m\n",
      "\u001b[32m  ✓ \u001b[39m\u001b[90mDataStructures\u001b[39m\n",
      "\u001b[32m  ✓ \u001b[39mQuadGK\n",
      "  3 dependencies successfully precompiled in 9 seconds. 1 already precompiled."
     ]
    },
    {
     "name": "stdout",
     "output_type": "stream",
     "text": [
      "The definite integral from 2 to 5 is: 35.250000000000014\n"
     ]
    },
    {
     "name": "stderr",
     "output_type": "stream",
     "text": [
      "\n"
     ]
    }
   ],
   "source": [
    "using QuadGK\n",
    "\n",
    "# Define the function\n",
    "f(x) = x^3 - 2x^2 - 4x + 1\n",
    "\n",
    "# Calculate the definite integral from 2 to 5\n",
    "integral, error = quadgk(f, 2, 5)\n",
    "\n",
    "# Output the result\n",
    "println(\"The definite integral from 2 to 5 is: \", integral)"
   ]
  },
  {
   "cell_type": "code",
   "execution_count": null,
   "id": "d8d2e4be",
   "metadata": {},
   "outputs": [],
   "source": []
  }
 ],
 "metadata": {
  "kernelspec": {
   "display_name": "Julia 1.10.4",
   "language": "julia",
   "name": "julia-1.10"
  },
  "language_info": {
   "file_extension": ".jl",
   "mimetype": "application/julia",
   "name": "julia",
   "version": "1.10.4"
  }
 },
 "nbformat": 4,
 "nbformat_minor": 5
}
